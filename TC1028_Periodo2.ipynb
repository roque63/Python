{
  "cells": [
    {
      "cell_type": "markdown",
      "metadata": {
        "id": "view-in-github",
        "colab_type": "text"
      },
      "source": [
        "<a href=\"https://colab.research.google.com/github/roque63/Python/blob/main/TC1028_Periodo2.ipynb\" target=\"_parent\"><img src=\"https://colab.research.google.com/assets/colab-badge.svg\" alt=\"Open In Colab\"/></a>"
      ]
    },
    {
      "cell_type": "markdown",
      "metadata": {
        "id": "ATw_LHyI6IcC"
      },
      "source": [
        "# **1. Estudio Previo - Videos de listas - métodos de listas - matrices**\n",
        "\n",
        "\n",
        "- [![Comprehensive Markdown Crash Course](https://markdown-videos.deta.dev/youtube/5n6o1MaXDoE)](https://www.youtube.com/watch?v=HFQGxh1jY3g)\n",
        "\n",
        "- [![Comprehensive Markdown Crash Course](https://markdown-videos.deta.dev/youtube/umTnflPbYww)](https://www.youtube.com/watch?v=HFQGxh1jY3g)\n",
        "\n",
        "\n",
        "- [![Comprehensive Markdown Crash Course](https://markdown-videos.deta.dev/youtube/Z9IxxW7428A)](https://www.youtube.com/watch?v=HFQGxh1jY3g)\n",
        "\n",
        "\n"
      ]
    },
    {
      "cell_type": "markdown",
      "metadata": {
        "id": "OjES0In9Zhlf"
      },
      "source": [
        "# **2. FUNCIONES SOBRE LISTAS**"
      ]
    },
    {
      "cell_type": "code",
      "execution_count": null,
      "metadata": {
        "colab": {
          "base_uri": "https://localhost:8080/"
        },
        "id": "4YUvfhYBYvu_",
        "outputId": "dd61adfc-a623-47ba-ff76-8a8109e4272f"
      },
      "outputs": [
        {
          "output_type": "stream",
          "name": "stdout",
          "text": [
            "De vacaciones a TAMS\n",
            "Estados revueltos\n",
            "['TAMS', 'GTO', 'NL', 'COAH', 'ZAC', 'ags', 'VER', 'JAL', 'SIN']\n",
            "ags\n",
            "COAH\n",
            "['COAH', 'GTO', 'JAL', 'NL', 'SIN', 'TAMS', 'VER', 'ZAC', 'ags']\n",
            "elementos de la lista 9\n",
            "['COAH', 'GTO', 'JAL', 'NL', 'SIN', 'TAMS', 'VER', 'ZAC', 'ags']\n"
          ]
        }
      ],
      "source": [
        "''' Teoria - funciones sobre listas\n",
        "len (lista) -Obtener la longitud de una lista\n",
        "random.choice (lista) devolverá un elemento seleccionado al azar de la lista.\n",
        "random.shuffle (lista) reordenará los elementos en una lista.\n",
        "max(lista) retorna el valor mayor de la lista\n",
        "min(lista) retorna el valor menor de la lista\n",
        "sorted(lista) retorna la lista ordenada\n",
        ">>> import random\n",
        ">>> help(random)\n",
        "'''\n",
        "import random\n",
        "\n",
        "edos = ['GTO','COAH','NL','VER', 'ZAC','ags', 'SIN', 'JAL','TAMS']\n",
        "vamos_a_viajar = random.choice(edos)\n",
        "print(\"De vacaciones a\", vamos_a_viajar)\n",
        "# barajar, revolver los elementos de la lista\n",
        "random.shuffle(edos)\n",
        "print(\"Estados revueltos\")\n",
        "print(edos)\n",
        "print(max(edos))  # ZAC\n",
        "print(min(edos))  # AGS\n",
        "size = len(edos)\n",
        "print(sorted(edos))\n",
        "edos = sorted(edos)\n",
        "print(\"elementos de la lista\", size)\n",
        "print(edos)"
      ]
    },
    {
      "cell_type": "markdown",
      "metadata": {
        "id": "GoH2m-1tJHJR"
      },
      "source": [
        "# **3. MÉTODOS DE LISTAS**\n",
        "# [link a Métodos de Listas](https://github.com/ABZ-Aaron/CheatSheets/blob/main/PythonListMethods.pdf)\n",
        "\n"
      ]
    },
    {
      "cell_type": "code",
      "execution_count": null,
      "metadata": {
        "colab": {
          "base_uri": "https://localhost:8080/"
        },
        "id": "6zzX1W-TbHVj",
        "outputId": "57c0d350-2e7b-42a0-af7b-75b9be417cb4"
      },
      "outputs": [
        {
          "output_type": "stream",
          "name": "stdout",
          "text": [
            "Help on class list in module builtins:\n",
            "\n",
            "class list(object)\n",
            " |  list(iterable=(), /)\n",
            " |  \n",
            " |  Built-in mutable sequence.\n",
            " |  \n",
            " |  If no argument is given, the constructor creates a new empty list.\n",
            " |  The argument must be an iterable if specified.\n",
            " |  \n",
            " |  Methods defined here:\n",
            " |  \n",
            " |  __add__(self, value, /)\n",
            " |      Return self+value.\n",
            " |  \n",
            " |  __contains__(self, key, /)\n",
            " |      Return key in self.\n",
            " |  \n",
            " |  __delitem__(self, key, /)\n",
            " |      Delete self[key].\n",
            " |  \n",
            " |  __eq__(self, value, /)\n",
            " |      Return self==value.\n",
            " |  \n",
            " |  __ge__(self, value, /)\n",
            " |      Return self>=value.\n",
            " |  \n",
            " |  __getattribute__(self, name, /)\n",
            " |      Return getattr(self, name).\n",
            " |  \n",
            " |  __getitem__(...)\n",
            " |      x.__getitem__(y) <==> x[y]\n",
            " |  \n",
            " |  __gt__(self, value, /)\n",
            " |      Return self>value.\n",
            " |  \n",
            " |  __iadd__(self, value, /)\n",
            " |      Implement self+=value.\n",
            " |  \n",
            " |  __imul__(self, value, /)\n",
            " |      Implement self*=value.\n",
            " |  \n",
            " |  __init__(self, /, *args, **kwargs)\n",
            " |      Initialize self.  See help(type(self)) for accurate signature.\n",
            " |  \n",
            " |  __iter__(self, /)\n",
            " |      Implement iter(self).\n",
            " |  \n",
            " |  __le__(self, value, /)\n",
            " |      Return self<=value.\n",
            " |  \n",
            " |  __len__(self, /)\n",
            " |      Return len(self).\n",
            " |  \n",
            " |  __lt__(self, value, /)\n",
            " |      Return self<value.\n",
            " |  \n",
            " |  __mul__(self, value, /)\n",
            " |      Return self*value.\n",
            " |  \n",
            " |  __ne__(self, value, /)\n",
            " |      Return self!=value.\n",
            " |  \n",
            " |  __repr__(self, /)\n",
            " |      Return repr(self).\n",
            " |  \n",
            " |  __reversed__(self, /)\n",
            " |      Return a reverse iterator over the list.\n",
            " |  \n",
            " |  __rmul__(self, value, /)\n",
            " |      Return value*self.\n",
            " |  \n",
            " |  __setitem__(self, key, value, /)\n",
            " |      Set self[key] to value.\n",
            " |  \n",
            " |  __sizeof__(self, /)\n",
            " |      Return the size of the list in memory, in bytes.\n",
            " |  \n",
            " |  append(self, object, /)\n",
            " |      Append object to the end of the list.\n",
            " |  \n",
            " |  clear(self, /)\n",
            " |      Remove all items from list.\n",
            " |  \n",
            " |  copy(self, /)\n",
            " |      Return a shallow copy of the list.\n",
            " |  \n",
            " |  count(self, value, /)\n",
            " |      Return number of occurrences of value.\n",
            " |  \n",
            " |  extend(self, iterable, /)\n",
            " |      Extend list by appending elements from the iterable.\n",
            " |  \n",
            " |  index(self, value, start=0, stop=9223372036854775807, /)\n",
            " |      Return first index of value.\n",
            " |      \n",
            " |      Raises ValueError if the value is not present.\n",
            " |  \n",
            " |  insert(self, index, object, /)\n",
            " |      Insert object before index.\n",
            " |  \n",
            " |  pop(self, index=-1, /)\n",
            " |      Remove and return item at index (default last).\n",
            " |      \n",
            " |      Raises IndexError if list is empty or index is out of range.\n",
            " |  \n",
            " |  remove(self, value, /)\n",
            " |      Remove first occurrence of value.\n",
            " |      \n",
            " |      Raises ValueError if the value is not present.\n",
            " |  \n",
            " |  reverse(self, /)\n",
            " |      Reverse *IN PLACE*.\n",
            " |  \n",
            " |  sort(self, /, *, key=None, reverse=False)\n",
            " |      Sort the list in ascending order and return None.\n",
            " |      \n",
            " |      The sort is in-place (i.e. the list itself is modified) and stable (i.e. the\n",
            " |      order of two equal elements is maintained).\n",
            " |      \n",
            " |      If a key function is given, apply it once to each list item and sort them,\n",
            " |      ascending or descending, according to their function values.\n",
            " |      \n",
            " |      The reverse flag can be set to sort in descending order.\n",
            " |  \n",
            " |  ----------------------------------------------------------------------\n",
            " |  Class methods defined here:\n",
            " |  \n",
            " |  __class_getitem__(...) from builtins.type\n",
            " |      See PEP 585\n",
            " |  \n",
            " |  ----------------------------------------------------------------------\n",
            " |  Static methods defined here:\n",
            " |  \n",
            " |  __new__(*args, **kwargs) from builtins.type\n",
            " |      Create and return a new object.  See help(type) for accurate signature.\n",
            " |  \n",
            " |  ----------------------------------------------------------------------\n",
            " |  Data and other attributes defined here:\n",
            " |  \n",
            " |  __hash__ = None\n",
            "\n"
          ]
        }
      ],
      "source": [
        "# Métodos de las listas\n",
        "help(list)\n"
      ]
    },
    {
      "cell_type": "markdown",
      "source": [
        "## **3.1 Ejemplos del uso de los métodos en listas**"
      ],
      "metadata": {
        "id": "-FeXdfZmDWz0"
      }
    },
    {
      "cell_type": "code",
      "execution_count": null,
      "metadata": {
        "colab": {
          "base_uri": "https://localhost:8080/"
        },
        "id": "ANhuc_YYbWEg",
        "outputId": "462583e4-eb05-47c1-a94c-789aa0dddd94"
      },
      "outputs": [
        {
          "output_type": "stream",
          "name": "stdout",
          "text": [
            "['hola', 'Taco', 'chicharron', 'Hot-dog', 'Hamburguesa', 'Tacos de Chicharron', 'Barbacoa', 'Chilaquiles & Taquitos de Birria']\n",
            "['hola', 'Taco', 'chicharron', 'Hot-dog', 'Hamburguesa', 'Tacos de Chicharron', 'Barbacoa', 'Chilaquiles & Taquitos de Birria']\n",
            "['hola', 'Taco', 'chicharron', 'Hot-dog', 'Hamburguesa', 'Tacos de Chicharron', 'Barbacoa', 'Barbacoa', 'Barbacoa', 'Sushi de atún', 'Tamales de Pollito']\n",
            "Barbacoa esta 3 veces\n"
          ]
        }
      ],
      "source": [
        "# Inicializar la var lista con una lista\n",
        "lista = [\"hola\", \"Taco\", \"chicharron\", \"Hot-dog\", \"Hamburguesa\", \"Tacos de Chicharron\"]\n",
        "# crea una copia de la lista en una direccion de mem IGUAL\n",
        "liston = lista\n",
        "# crea una copia de la lista en una direccion de mem diferente\n",
        "comida = lista.copy()\n",
        "# añade un elemento al final de la lista MODIFICA lista\n",
        "liston.append(\"Barbacoa\")\n",
        "comida.append(\"Barbacoa\")\n",
        "comida.append(\"Barbacoa\")\n",
        "comida.append(\"Barbacoa\")\n",
        "lista.append(\"Chilaquiles & Taquitos de Birria\")\n",
        "# añade un elemento al final de la lista NO MODIFICA lista\n",
        "comida.append(\"Sushi de atún\")\n",
        "comida.append(\"Tamales de Pollito\")\n",
        "print(liston)\n",
        "print(lista)\n",
        "print(comida)\n",
        "\n",
        "# count(self, value, /) Return number of occurrences of value.\n",
        "cantidad = comida.count(\"Barbacoa\")\n",
        "\n",
        "print(f\"Barbacoa esta {cantidad} veces\")"
      ]
    },
    {
      "cell_type": "code",
      "execution_count": null,
      "metadata": {
        "colab": {
          "base_uri": "https://localhost:8080/"
        },
        "id": "TXtuo88idF-w",
        "outputId": "178b4bdc-4c1c-495a-97df-05cb6cd27e39"
      },
      "outputs": [
        {
          "output_type": "stream",
          "name": "stdout",
          "text": [
            "['Jorge Diego Felicidades!!', 'Karla', 'Carlos', 'Karen', 444444, 45.55]\n"
          ]
        }
      ],
      "source": [
        "# Crear una lista a partir de variables\n",
        "n1 = \"Jorge Diego Felicidades!!\"\n",
        "n2 = \"Karla\"\n",
        "n3 = \"Carlos\"\n",
        "n4 = \"Karen\"\n",
        "premio = 444444\n",
        "gasto = 45.55\n",
        "alumnos = [n1,n2,n3,n4, premio,gasto]\n",
        "print(alumnos)"
      ]
    },
    {
      "cell_type": "code",
      "execution_count": null,
      "metadata": {
        "colab": {
          "base_uri": "https://localhost:8080/"
        },
        "id": "ugKeohUndvXc",
        "outputId": "67182118-f78f-4731-99c2-ee20e823d6f3"
      },
      "outputs": [
        {
          "output_type": "stream",
          "name": "stdout",
          "text": [
            "[]\n",
            "Posicion Barbacoa 6\n"
          ]
        }
      ],
      "source": [
        "# elimina todos los elementos de la lista clear( )\n",
        "comida.clear()\n",
        "print(comida)\n",
        "\n",
        "#index(self, value, start=0, stop=9223372036854775807, /)\n",
        "#Return first index of value.\n",
        "\n",
        "# verificar si existe el valor en la lista para que no marque error\n",
        "if \"Barbacoa\" in liston:\n",
        "  posicion = liston.index(\"Barbacoa\")\n",
        "  print(f\"Posicion Barbacoa {posicion}\")\n",
        "else:\n",
        "  print(\"No hay Barbacoa\")"
      ]
    },
    {
      "cell_type": "code",
      "execution_count": null,
      "metadata": {
        "colab": {
          "base_uri": "https://localhost:8080/",
          "height": 269
        },
        "id": "yJhhk1eMfLmV",
        "outputId": "7eb5f05a-1826-4536-dec6-3beb2b1149ea"
      },
      "outputs": [
        {
          "output_type": "stream",
          "name": "stdout",
          "text": [
            "['Jose Carlos va a comer Pescado', 'hola', 'Taco', 'chicharron', 'Hot-dog', 'Hamburguesa', 'Tacos de Chicharron', 'Barbacoa', 'Chilaquiles & Taquitos de Birria']\n",
            "['Jose Carlos va a comer Pescado', 'hola', 'Taco', 'chicharron', 'Hot-dog', 'Hamburguesa', 'Tacos de Chicharron', 'Barbacoa', 'Chilaquiles & Taquitos de Birria', 'Jose Carlos va a comer Pescado']\n"
          ]
        },
        {
          "output_type": "error",
          "ename": "IndexError",
          "evalue": "ignored",
          "traceback": [
            "\u001b[0;31m---------------------------------------------------------------------------\u001b[0m",
            "\u001b[0;31mIndexError\u001b[0m                                Traceback (most recent call last)",
            "\u001b[0;32m<ipython-input-7-7ecf6176e0f6>\u001b[0m in \u001b[0;36m<cell line: 8>\u001b[0;34m()\u001b[0m\n\u001b[1;32m      6\u001b[0m \u001b[0mprint\u001b[0m\u001b[0;34m(\u001b[0m\u001b[0mliston\u001b[0m\u001b[0;34m)\u001b[0m\u001b[0;34m\u001b[0m\u001b[0;34m\u001b[0m\u001b[0m\n\u001b[1;32m      7\u001b[0m \u001b[0;31m# error  list index out of range\u001b[0m\u001b[0;34m\u001b[0m\u001b[0;34m\u001b[0m\u001b[0m\n\u001b[0;32m----> 8\u001b[0;31m \u001b[0mprint\u001b[0m\u001b[0;34m(\u001b[0m\u001b[0mliston\u001b[0m\u001b[0;34m[\u001b[0m\u001b[0;36m2240\u001b[0m\u001b[0;34m]\u001b[0m\u001b[0;34m)\u001b[0m\u001b[0;34m\u001b[0m\u001b[0;34m\u001b[0m\u001b[0m\n\u001b[0m",
            "\u001b[0;31mIndexError\u001b[0m: list index out of range"
          ]
        }
      ],
      "source": [
        "#insert(self, index, object, /)\n",
        "# Insert object before index.\n",
        "liston.insert(0, \"Jose Carlos va a comer Pescado\")\n",
        "print(liston)\n",
        "liston.insert(2440, \"Jose Carlos va a comer Pescado\")\n",
        "print(liston)\n",
        "# error  list index out of range\n",
        "print(liston[2240])"
      ]
    },
    {
      "cell_type": "code",
      "execution_count": null,
      "metadata": {
        "id": "0R_D1535gpcy"
      },
      "outputs": [],
      "source": [
        "#pop(self, index=-1, /)\n",
        "#Remove and return item at index (default last).\n",
        "#Raises IndexError if list is empty or index is out of range.\n",
        "print(liston)\n",
        "valor = liston.pop(-1)\n",
        "print(valor)\n",
        "print(liston)\n"
      ]
    },
    {
      "cell_type": "code",
      "execution_count": null,
      "metadata": {
        "id": "50ZHW69JhaGj"
      },
      "outputs": [],
      "source": [
        "\"\"\"\n",
        " remove(self, value, /)\n",
        " |      Remove first occurrence of value.\n",
        " |      Raises ValueError if the value is not present.\n",
        "\"\"\"\n",
        "# verificar si existe el valor en la lista p/q remove no marque error\n",
        "if \"hola\" in liston:\n",
        "  liston.remove(\"hola\")\n",
        "  print(liston)\n",
        "\n",
        "# ValueError: list.remove(x): x not in list\n",
        "#liston.remove(\"Ana Gaby\")"
      ]
    },
    {
      "cell_type": "code",
      "execution_count": null,
      "metadata": {
        "id": "PVV_j62miCLg"
      },
      "outputs": [],
      "source": [
        "\"\"\"\n",
        "  reverse(self, /)\n",
        " |      Reverse *IN PLACE*.\n",
        " |\n",
        "\"\"\"\n",
        "print(liston)\n",
        "liston.reverse()\n",
        "print(liston)\n",
        "print(comida)\n",
        "comida.reverse()\n",
        "print(comida)\n",
        "\n"
      ]
    },
    {
      "cell_type": "code",
      "execution_count": null,
      "metadata": {
        "id": "U-K2AFFLil94"
      },
      "outputs": [],
      "source": [
        "\"\"\"\n",
        " |  sort(self, /, *, key=None, reverse=False)\n",
        " |      Sort the list in ascending order and return None.\n",
        " |\n",
        " |      The sort is in-place (i.e. the list itself is modified) and stable (i.e. the\n",
        " |      order of two equal elements is maintained).\n",
        " |\n",
        " |      If a key function is given, apply it once to each list item and sort them,\n",
        " |      ascending or descending, according to their function values.\n",
        " |\n",
        " |      The reverse flag can be set to sort in descending order.\n",
        "\"\"\"\n",
        "calis = [100, 50, 40, 200,-200]\n",
        "calis.sort()\n",
        "print(\"Ascendente\")\n",
        "print(calis)\n",
        "print(\"descendente\")\n",
        "calis.sort(reverse=True)\n",
        "print(calis)\n",
        "\n",
        "nombres = [\"angeles\", \"Natalia\", \"Renata\", \"Grace\"]\n",
        "nombres.sort()\n",
        "print(nombres)"
      ]
    },
    {
      "cell_type": "code",
      "execution_count": null,
      "metadata": {
        "id": "nn_uiGk7hBeR"
      },
      "outputs": [],
      "source": [
        "print(liston)\n",
        "if len(liston) >= 100:\n",
        "  valor = liston.pop(99)\n",
        "else:\n",
        "  print(\"No existe ese elemento\")"
      ]
    },
    {
      "cell_type": "code",
      "execution_count": null,
      "metadata": {
        "id": "higmD1vYUfMz"
      },
      "outputs": [],
      "source": [
        "'''\n",
        "Teoria:  sintaxis de lista una lista comienza con un corchete de apertura y\n",
        "termina con un corchete de cierre, [] . Los valores dentro de la lista también se denominan elementos .\n",
        "Los elementos están separados por comas\n",
        "'''\n",
        "# lista con 5 elementos de diferentes tipos: int, float, string\n",
        "lista = [ 'ITESM', 75, '😊', 85.99, 5_000]\n",
        "\n",
        "# desplegar los valores almacenados en la lista\n",
        "print(lista)\n",
        "\n",
        "'''\n",
        "Teoria: Obtener los valores individuales de una lista usando indices\n",
        "sintaxis - nombre_lista[indice] ⭐️ índice debe ser un valor entero\n",
        " print( lista[0] ) desplegará ITESM\n",
        " print( lista[4] ) desplegará 5000\n",
        "'''\n",
        "print( lista[0] ) # desplegará ITESM\n",
        "print( lista[1] ) # desplegará 75\n",
        "print( lista[2] ) # desplegará 😊\n"
      ]
    },
    {
      "cell_type": "code",
      "execution_count": null,
      "metadata": {
        "id": "RqrD8hZyhGJ8"
      },
      "outputs": [],
      "source": [
        "msg = \"Feliz\" + \" SS\"\n",
        "\n",
        "msg = msg * 2\n",
        "\n",
        "if \"SS\" in msg:\n",
        "  print(\"Descansa\")\n",
        "else:\n",
        "  print(\"Ayuda\")\n",
        "\n",
        "print(msg)\n"
      ]
    },
    {
      "cell_type": "markdown",
      "source": [
        "# Ejemplo de recorrido x Posición:\n",
        "\n",
        "\n",
        "\n",
        "- para recorrer una lista x posición se requiere un ciclo for desde 0 hasta el último elemento de la lista, de cualquiera de las siguiente formas:\n",
        "- #  for posicion in range(len(lista)):\n",
        "\n",
        "- #  for posicion in range(n): # n almacena la cantidad de elementos de la lista\n",
        "\n",
        "- Para accesar un elemento usando su posición se usa la siguiente sintaxis:\n",
        "# lista[posicion]\n",
        "donde :\n",
        "    - lista    - es el nombre de la lista\n",
        "    - posicion - es una variable entera, que indica la posición del elemento que se quiere accesar, puede tener cualquier nombre pos, index, renglon, col, etc.\n",
        "\n",
        "![](https://sfpprogramacion.files.wordpress.com/2019/11/listas001.jpg?w=964)\n",
        "\n",
        "\n",
        "Ejemplo:\n",
        "modificar el valor que tiene la lista multiplicando cada\n",
        "elemento x 2, desplegar la lista resultante:\n",
        "\n",
        "Solución:\n",
        "```python\n",
        "# se inicializa la lista\n",
        "lista = [9, 10, 11, 12]\n",
        "\n",
        "# recorrer la lista por posición y multiplicar cada elemento x 2 y actualizar\n",
        "for posicion in range(4):\n",
        "  lista[posicion] = lista[posicion] * 2\n",
        "\n",
        "# Desplegar la lista actualizada\n",
        "print(lista)\n",
        "```"
      ],
      "metadata": {
        "id": "9wjOqWzzjaVJ"
      }
    },
    {
      "cell_type": "code",
      "source": [
        "# se inicializa la lista\n",
        "lista = [9, 10, 11, 12]\n",
        "\n",
        "# recorrer la lista por posición y multiplicar cada elemento x 2 y actualizar\n",
        "for posicion in range(4):\n",
        "  lista[posicion] = lista[posicion] * 2\n",
        "\n",
        "# Desplegar la lista actualizada\n",
        "print(lista)"
      ],
      "metadata": {
        "colab": {
          "base_uri": "https://localhost:8080/"
        },
        "id": "mG8Xqq_wmEt-",
        "outputId": "aff7df87-849e-4c89-9d96-3ff118fbd0d1"
      },
      "execution_count": null,
      "outputs": [
        {
          "output_type": "stream",
          "name": "stdout",
          "text": [
            "[18, 20, 22, 24]\n"
          ]
        }
      ]
    },
    {
      "cell_type": "markdown",
      "source": [
        "# Recorrido por posición usando la funcion enumerate( )\n",
        "\n",
        "\n",
        "## Uso de la función enumerate () con listas\n",
        "\n",
        "En cada iteración del ciclo for, la función `enumerate ()`\n",
        "devolverá dos valores:\n",
        "- el índice del elemento en la lista (posición) y\n",
        "- el elemento en la lista (el valor que esta en esa posición)\n",
        "\n",
        "- A continuación se da un ejemplo usando la función enumerate para hacer un\n",
        "recorrido por posición:"
      ],
      "metadata": {
        "id": "xe3_yDr2mknO"
      }
    },
    {
      "cell_type": "code",
      "execution_count": null,
      "metadata": {
        "id": "LrIoaNU5VIEf"
      },
      "outputs": [],
      "source": [
        "'''\n",
        "2\tUso de la función enumerate () con listas\n",
        "3\tEn cada iteración del ciclo for, la función enumerate ()\n",
        "4\tdevolverá dos valores:\n",
        "5\t    el índice del elemento en la lista (posición) y\n",
        "6\t    el elemento en la lista (el valor que esta en esa posición)\n",
        "7\t    ['Tacos de Carne asada','Hamburguesa','Chilaquiles']\n",
        "8\t            0                    1             3\n",
        "9\t'''\n",
        "comida = ['Tacos de Carne asada','Hamburguesa','Chilaquiles','Tacos de Carne asada','Tacos de Carne asada']\n",
        "for posicion, valor in enumerate(comida):\n",
        "  print( f'{comida[posicion]} esta en la posicion {posicion}')\n",
        "\n"
      ]
    },
    {
      "cell_type": "code",
      "execution_count": null,
      "metadata": {
        "id": "Tvh06CP-VVMT"
      },
      "outputs": [],
      "source": [
        "# Inicializar la lista\n",
        "comida = ['Huevos con Jamón','Tacos de Carne asada','Hamburguesa','Chilaquiles', 'Avena']\n",
        "\n",
        "# recorrer y desplegar la lista - enumerate retorna el index y el valor\n",
        "for posicion, valor in enumerate(comida):\n",
        "  print( f'{posicion}-{valor}')"
      ]
    },
    {
      "cell_type": "code",
      "source": [
        "comida = ['Tacos de Carne asada','Hamburguesa','Chilaquiles','Tacos de Carne asada','Tacos de Carne asada']\n",
        "\n",
        "# Función count cuenta la cantidad de veces que se repite un valor en la lista\n",
        "cantidad = comida.count(\"Tacos de Carne asada\")\n",
        "print(cantidad, \"Tacos de Carne asada\")\n",
        "\n",
        "# la función sorted() no cambia la lista\n",
        "print(sorted(comida))\n",
        "print(comida)\n",
        "\n",
        "# el método sort( ) si si cambia la lista\n",
        "comida.sort()\n",
        "print(comida)"
      ],
      "metadata": {
        "colab": {
          "base_uri": "https://localhost:8080/"
        },
        "id": "MuobAwO3naJ3",
        "outputId": "1e8cd660-9df9-449c-b4fa-6b4d3a85461c"
      },
      "execution_count": null,
      "outputs": [
        {
          "output_type": "stream",
          "name": "stdout",
          "text": [
            "3 Tacos de Carne asada\n",
            "['Chilaquiles', 'Hamburguesa', 'Tacos de Carne asada', 'Tacos de Carne asada', 'Tacos de Carne asada']\n",
            "['Tacos de Carne asada', 'Hamburguesa', 'Chilaquiles', 'Tacos de Carne asada', 'Tacos de Carne asada']\n",
            "['Chilaquiles', 'Hamburguesa', 'Tacos de Carne asada', 'Tacos de Carne asada', 'Tacos de Carne asada']\n"
          ]
        }
      ]
    },
    {
      "cell_type": "code",
      "execution_count": null,
      "metadata": {
        "id": "-UdpgFbpLmT7",
        "colab": {
          "base_uri": "https://localhost:8080/"
        },
        "outputId": "24be03c3-c4c7-4d28-889f-9d6946f6226b"
      },
      "outputs": [
        {
          "output_type": "stream",
          "name": "stdout",
          "text": [
            "5\n",
            "[0, 0, 0, 0, 0]\n",
            "0\n",
            "0\n",
            "0\n",
            "0\n",
            "0\n"
          ]
        }
      ],
      "source": [
        "n = int(input())\n",
        "\n",
        "# replicar los elementos de una lista\n",
        "lista = [0] * n\n",
        "print(lista)\n",
        "\n",
        "# Recorrido x elemento\n",
        "for elemento in lista:\n",
        "  print(elemento)"
      ]
    },
    {
      "cell_type": "markdown",
      "source": [
        "# Recorrido x elemento en una lista - observa que no se usa la posicion:\n",
        "  lista[posicion]"
      ],
      "metadata": {
        "id": "ZCqMbaown6PE"
      }
    },
    {
      "cell_type": "code",
      "execution_count": null,
      "metadata": {
        "id": "3aHtB_ESZohN"
      },
      "outputs": [],
      "source": [
        "lista = [2, 4, 2, 9, 10, 3]\n",
        "\n",
        "# desplegar los valores pares\n",
        "for elemento in lista:\n",
        "  if elemento % 2 == 0:\n",
        "    print(elemento, end = \" \")"
      ]
    },
    {
      "cell_type": "markdown",
      "source": [
        "# Uso de Recorrido x posición para sumar todos los valores de una lista"
      ],
      "metadata": {
        "id": "epKYudhFnnj5"
      }
    },
    {
      "cell_type": "code",
      "execution_count": null,
      "metadata": {
        "id": "9DHcks5OaqNY"
      },
      "outputs": [],
      "source": [
        "lista = [2, 3, 4, 5, 6]\n",
        "# 1ºInicializar el acumulador antes del ciclo con cero\n",
        "acum = 0\n",
        "\n",
        "# 2º sumar los 2 primeros valores de la lista\n",
        "for posicion in range(2) :\n",
        "  acum = acum + lista[posicion]\n",
        "\n",
        "print(acum)"
      ]
    },
    {
      "cell_type": "markdown",
      "source": [
        "# Listas tienen un paso de parámetros por referencia en forma automática"
      ],
      "metadata": {
        "id": "2ftiIVuRoQFk"
      }
    },
    {
      "cell_type": "code",
      "execution_count": null,
      "metadata": {
        "id": "WDQ4uqNsZAP7"
      },
      "outputs": [],
      "source": [
        "# las listas - arreglos tienen un paso de parámetros por REFERENCIA\n",
        "# cambian el argumento utilizado al llamar a la función x que  lista apunta a\n",
        "# la dirección de memoria del argumento correspondiente\n",
        "def cambia_lista(lista):\n",
        "  # Recorrido x posicion\n",
        "  for posicion, valor in enumerate(lista):\n",
        "    lista[posicion] = valor * 2\n",
        "\n",
        "def main():\n",
        "  lista = [2,5,300]\n",
        "  print(lista)\n",
        "  cambia_lista(lista)\n",
        "  print(lista)\n",
        "\n",
        "main()"
      ]
    },
    {
      "cell_type": "code",
      "execution_count": null,
      "metadata": {
        "id": "wlaL74vLuWMu"
      },
      "outputs": [],
      "source": [
        "temperatures = [39, 34, 27, 23, 32, 43, 43, 37, 55, 28, 90]\n",
        "print(temperatures[:7])\n",
        "\n",
        "valores = [4, 7, 44, 22, 1, 43, 112, 78, 92, 53, 45]\n",
        "#ordenada = valores.sort()\n",
        "#ordenada = sorted(valores, reversed=True)\n",
        "ordenada = sorted(valores)\n",
        "print(ordenada)\n",
        "print(valores)\n",
        "print(ordenada)\n",
        "print(valores)"
      ]
    },
    {
      "cell_type": "code",
      "execution_count": null,
      "metadata": {
        "id": "o5wKxoTK9cSB",
        "colab": {
          "base_uri": "https://localhost:8080/"
        },
        "outputId": "b63a59e6-0709-4f3a-abca-1ccf584665ca"
      },
      "outputs": [
        {
          "output_type": "stream",
          "name": "stdout",
          "text": [
            "lasgna-pasta\n",
            "pizza\n",
            "Tacos chicharron\n",
            "Tacos chicharron\n"
          ]
        }
      ],
      "source": [
        "import random\n",
        "lista = [\"pizza\", \"lasgna-pasta\", \"Tacos chicharron\"]\n",
        "random.shuffle(lista)\n",
        "comida, cena, desayuno = lista\n",
        "print(comida)\n",
        "print(cena)\n",
        "print(desayuno)\n",
        "print(random.choice(lista))"
      ]
    },
    {
      "cell_type": "code",
      "execution_count": null,
      "metadata": {
        "id": "3Oghx21wzgfI"
      },
      "outputs": [],
      "source": [
        "'''\n",
        "Metodos de listas - son equivalente a las funciones pero se usa la\n",
        "notacion punto .\n",
        "Sintaxis: lista.metodo( )\n",
        "'''\n",
        "\n",
        "precios = [29.9, 35, 54, 85,30] # Se crea la lista precios con 5 elementos\n",
        "print(\"                       precios =\", precios)\n",
        "precios.append(100)           #Append object to the end of the list.\n",
        "print(\"precios.append(100)    precios =\", precios)\n",
        "\n",
        "precios.clear( )              #Remove all items from list.\n",
        "print(\"precios.clear( )       precios =\", precios)\n",
        "\n",
        "precios = [29.9, 35, 54, 85,30]\n",
        "precios2 = precios.copy( )    # Return a shallow copy of the list.\n",
        "print(\"precios2 = precios.copy()    precios2 =\", precios2)\n",
        "\n",
        "precios3 = precios            # precios3 es la misma que precios\n",
        "print(\"precios3 = precios    precios3 =\", precios3)\n",
        "\n",
        "precios3.append(100)\n",
        "print(\"precios3.append(100), precios3 =\", precios3)\n",
        "print(\"                       precios =\", precios , \"  ¿Porqué se modifico?\")  # se modifico 🥴!\n",
        "print(\"                      precios2 =\", precios2, \"No se modifico ¿Porqué?\") # no se modifico 😊\n",
        "\n",
        "ocurrencias = precios.count(100) # Return number of occurrences of value.\n",
        "print(\"ocurrencias = precios.count(100)  ocurrencias = \", ocurrencias) # Return number of occurrences of value.\n",
        "\n",
        "posicion = precios.index(100) #Return first index of value.\n",
        "print(\"posicion = precios.index(100)     posicion =\", posicion)\n",
        "# posicion = precios.index(200) #Raises ValueError if the value is not present.\n",
        "\n",
        "precios.insert(3, 500)        # Insert object before index\n",
        "print(\"precios.insert(3, 500) precios =\", precios)\n",
        "\n",
        "\n",
        "valor = precios.pop( )       # Remove and return item at index (default last).\n",
        "\n",
        "print(\"valor = precios.pop( )            valor =\", valor, \" pop saca el último valor de la lista\")\n",
        "\n",
        "#precios.pop(30)              # Raises IndexError if list is empty or index is out of range.\n",
        "\n",
        "precios.remove(29.9)          # Remove first occurrence of value.\n",
        "\n",
        "print(\"precios.remove(29.9)   precios =\", precios)\n",
        "\n",
        "# precios.remove(500) Raises ValueError if the value is not present.\n",
        "\n",
        "precios.reverse( )\n",
        "print(\"precios.reverse( )     precios =\", precios)\n",
        "\n",
        "precios.sort()\n",
        "print(\"precios.sort( )        precios =\", precios)\n"
      ]
    },
    {
      "cell_type": "markdown",
      "metadata": {
        "id": "wTS_Avwiz795"
      },
      "source": [
        "5. Ejemplo - desplegar 3 listas usando la función zip()\n",
        "\n",
        "Desplegar 3 listas en forma de tabla y\n",
        "\n",
        "crear una lista de listas - usando la funcion zip( )\n",
        "\n",
        "Al Utilizar la función zip con listas de diferente longitud\n",
        "\n",
        "La longitud del objeto de salida será igual a la longitud\n",
        "\n",
        "de la lista de entrada más pequeña.\n",
        "\n",
        "La función zip itera sobre el primer elemento de cada iterador\n",
        "\n",
        "luego sobre los segundos elementos y así sucesivamente.\n",
        "\n",
        "eso quiere decir que tomaria el 1er dato de c/1 de las listas:\n",
        "\n",
        "Mariel, 10, 37, Lunes\n",
        "\n",
        "Graciel, 12,  36.5 Martes\n",
        "\n",
        "Rafael, 14, 36.5, Jueves\n"
      ]
    },
    {
      "cell_type": "code",
      "execution_count": null,
      "metadata": {
        "id": "c6zMBN7Wz8G-",
        "colab": {
          "base_uri": "https://localhost:8080/"
        },
        "outputId": "9e64e74c-1605-4e1e-d094-cef115765eb6"
      },
      "outputs": [
        {
          "output_type": "stream",
          "name": "stdout",
          "text": [
            "Nombre    Edad  Temp. Asistencia\n",
            "Mariel      10  37       Lunes\n",
            "Graciel     12  36.5     Martes\n",
            "Rafael      14  36.5     Jueves\n"
          ]
        }
      ],
      "source": [
        "\n",
        "nombre = ['Mariel', 'Graciel', 'Rafael']\n",
        "edad = [10, 12, 14, 34]\n",
        "temperatura = [37, 36.5, 36.5]\n",
        "asistencia =[ 'Lunes', 'Martes', 'Jueves']\n",
        "\n",
        "# Inicializar la lista vacia\n",
        "lista = [ ]\n",
        "\n",
        "# Desplegar encabezados de la tabla\n",
        "print(f'{\"Nombre\":<10}{\"Edad\":<3}  {\"Temp.\":<3} {\"Asistencia\":>10}')\n",
        "\n",
        "# Iterar sobre las listas para desplegar en forma de tabla\n",
        "for name, edad, temp, dia in zip(nombre, edad, temperatura, asistencia):\n",
        "    print(f'{name:<10}  {edad:<3} {temp:<3} {dia:>10}')\n",
        "\n"
      ]
    },
    {
      "cell_type": "code",
      "execution_count": null,
      "metadata": {
        "id": "hG3Y2-j6vLFk",
        "colab": {
          "base_uri": "https://localhost:8080/"
        },
        "outputId": "fa355551-aaef-49bb-9739-ffe83a0526fd"
      },
      "outputs": [
        {
          "output_type": "stream",
          "name": "stdout",
          "text": [
            "5\n",
            "17  –  4\n"
          ]
        }
      ],
      "source": [
        "datos = [2, 3, 8, 17, 22]\n",
        "print(len(datos))\n",
        "print(datos.pop(3), \" – \", len(datos))"
      ]
    },
    {
      "cell_type": "code",
      "execution_count": null,
      "metadata": {
        "id": "kjH1iQVd0qlC",
        "colab": {
          "base_uri": "https://localhost:8080/"
        },
        "outputId": "c2b6b2a2-9939-441d-856a-2041c4ae782b"
      },
      "outputs": [
        {
          "output_type": "stream",
          "name": "stdout",
          "text": [
            "['arroz', 'pasta', 'embutidos', 'carnes rojas', 'carnes blancas', 'frutas', 'verduras', 'grasas', 'arroz', 'pasta', 'embutidos', 'carnes rojas', 'carnes blancas', 'frutas', 'verduras', 'grasas']\n",
            "['Tacos', 'pasta', 'embutidos', 'carnes rojas', 'carnes blancas', 'frutas', 'verduras', 'grasas', 'arroz', 'pasta', 'embutidos', 'carnes rojas', 'carnes blancas', 'frutas', 'verduras', 'grasas']\n",
            "['arroz', 'pasta', 'embutidos', 'carnes rojas', 'carnes blancas', 'frutas', 'verduras', 'grasas']\n",
            "['Tortas de carnitas', 'pasta', 'embutidos', 'carnes rojas', 'carnes blancas', 'frutas', 'verduras', 'grasas']\n",
            "['Tortas de carnitas', 'pasta', 'embutidos', 'carnes rojas', 'carnes blancas', 'frutas', 'verduras', 'grasas']\n"
          ]
        }
      ],
      "source": [
        "alimentos = ['arroz', 'pasta', 'embutidos', 'carnes rojas', 'carnes blancas', 'frutas', 'verduras', 'grasas']\n",
        "alimentos2 = alimentos + alimentos\n",
        "print(alimentos2)\n",
        "alimentos2[0] = \"Tacos\"\n",
        "print(alimentos2)\n",
        "print(alimentos)\n",
        "# se crea una copia de la lista que apunta a la misma dir de mem\n",
        "alimentos3 = alimentos\n",
        "alimentos3[0] =\"Tortas de carnitas\"\n",
        "print(alimentos3)\n",
        "print(alimentos)\n"
      ]
    },
    {
      "cell_type": "code",
      "execution_count": null,
      "metadata": {
        "id": "3uaxXThkwpoo",
        "colab": {
          "base_uri": "https://localhost:8080/"
        },
        "outputId": "68f5c4f2-7840-4d4b-ea2c-8669065dfaa3"
      },
      "outputs": [
        {
          "output_type": "execute_result",
          "data": {
            "text/plain": [
              "[4, 3, 2, 1]"
            ]
          },
          "metadata": {},
          "execution_count": 11
        }
      ],
      "source": [
        "lista = [1,2,3]\n",
        "lista.append(4)\n",
        "lista.sort(reverse = True)\n",
        "lista"
      ]
    },
    {
      "cell_type": "code",
      "execution_count": null,
      "metadata": {
        "id": "qwf_N2Eqx9Un",
        "colab": {
          "base_uri": "https://localhost:8080/"
        },
        "outputId": "1b1da4e2-37b4-40ed-f780-687bff75b067"
      },
      "outputs": [
        {
          "output_type": "execute_result",
          "data": {
            "text/plain": [
              "[1, 2, 3, 4]"
            ]
          },
          "metadata": {},
          "execution_count": 12
        }
      ],
      "source": [
        "lista = [1,3,2]\n",
        "lista.append(4)\n",
        "lista.sort()\n",
        "lista"
      ]
    },
    {
      "cell_type": "code",
      "execution_count": null,
      "metadata": {
        "id": "-IpQ5S8Mzf9V",
        "colab": {
          "base_uri": "https://localhost:8080/"
        },
        "outputId": "fdaa7efa-573d-4763-8bd9-00b19cd2ffae"
      },
      "outputs": [
        {
          "output_type": "stream",
          "name": "stdout",
          "text": [
            "15 - 3\n"
          ]
        }
      ],
      "source": [
        "edad = [34, 22, 14, 15]\n",
        "# lista.pop() -  retorna y elimina el último elemento de la lista\n",
        "# len(lista) - retorna la cantidad de elementos de la lista\n",
        "print(edad.pop(),\"-\",len(edad))"
      ]
    },
    {
      "cell_type": "markdown",
      "metadata": {
        "id": "QGIEYOg1zAuw"
      },
      "source": [
        "# **4. Recorrido x posición - Leer valores usando recorrido x posición**"
      ]
    },
    {
      "cell_type": "code",
      "execution_count": null,
      "metadata": {
        "id": "DIMVkiuu8W3C",
        "colab": {
          "base_uri": "https://localhost:8080/"
        },
        "outputId": "76b67aa3-4d5d-4f77-ea90-a2485639a1aa"
      },
      "outputs": [
        {
          "output_type": "stream",
          "name": "stdout",
          "text": [
            "Cantidad de valores a ingresar:3\n",
            "Ingresa un valor entero:100\n",
            "Ingresa un valor entero:200\n",
            "Ingresa un valor entero:300\n",
            "[100, 200, 300]\n"
          ]
        }
      ],
      "source": [
        "# Preguntar cantidad de valores a ingresar en la lista\n",
        "cantidad = int( input(\"Cantidad de valores a ingresar:\"))\n",
        "\n",
        "# incializa la lista con esa cantidad de ceros\n",
        "lista = [0] * cantidad\n",
        "\n",
        "# Leer los valores de la lista usando un ciclo for\n",
        "# cada vez se cambia el valor que esta en la posicion\n",
        "# indicada\n",
        "for posicion in range(cantidad):\n",
        "    lista[posicion] = int( input(\"Ingresa un valor entero:\"))\n",
        "\n",
        "# Desplegar el contenido de la lista\n",
        "print(lista)"
      ]
    },
    {
      "cell_type": "markdown",
      "metadata": {
        "id": "W6J7XHpgzHB_"
      },
      "source": [
        "# **5. Recorrer una lista usando la función `enumerate(lista)`**\n"
      ]
    },
    {
      "cell_type": "code",
      "execution_count": null,
      "metadata": {
        "id": "GsJgDZmJ6dno",
        "colab": {
          "base_uri": "https://localhost:8080/"
        },
        "outputId": "6d52d89a-88f0-44f9-bc0e-c7a320a676f4"
      },
      "outputs": [
        {
          "output_type": "stream",
          "name": "stdout",
          "text": [
            "['Tacos de Carne asada', 'Hamburguesa', 'Chilaquiles']\n",
            "Tacos de Carne asada esta en la posicion 0\n",
            "Hamburguesa esta en la posicion 1\n",
            "Chilaquiles esta en la posicion 2\n",
            "['Tacos de Carne asada con Salsa', 'Hamburguesa con Salsa', 'Chilaquiles con Salsa']\n"
          ]
        }
      ],
      "source": [
        "'''\n",
        "Uso de la función enumerate () con listas\n",
        "En cada iteración del ciclo for, la función enumerate ()\n",
        "devolverá dos valores:\n",
        "    el índice del elemento en la lista (posición) y\n",
        "    el elemento en la lista (valor)\n",
        "    ['Tacos de Carne asada','Hamburguesa','Chilaquiles']\n",
        "            0                    1             2\n",
        "'''\n",
        "comida = ['Tacos de Carne asada','Hamburguesa','Chilaquiles']\n",
        "print(comida)\n",
        "# Recorrido x posicion\n",
        "for posicion, valor in enumerate(comida):\n",
        "    print( f'{comida[posicion]} esta en la posicion {posicion}')\n",
        "    comida[posicion] = comida[posicion] + \" con Salsa\"\n",
        "\n",
        "print(comida)"
      ]
    },
    {
      "cell_type": "markdown",
      "metadata": {
        "id": "doModMO5zZw9"
      },
      "source": [
        "# **6. Sublistas usando slicing**"
      ]
    },
    {
      "cell_type": "code",
      "execution_count": null,
      "metadata": {
        "id": "Q5tlOg-PzZ6q",
        "colab": {
          "base_uri": "https://localhost:8080/"
        },
        "outputId": "82e767b5-68a0-4849-c5b4-72535a1fbe6e"
      },
      "outputs": [
        {
          "output_type": "stream",
          "name": "stdout",
          "text": [
            "['🍕']\n",
            "['🍕', '🍔']\n",
            "['🍕', '🍔', '😊']\n",
            "['😊', '😷']\n",
            "['😷']\n",
            "['🍕', '🍔']\n",
            "['🍕', '🍔', '😊']\n"
          ]
        }
      ],
      "source": [
        "''' Teoria :Sacar una sublista sintaxis: lista[indice_inicial:indice_final]\n",
        "Del mismo modo que un índice puede obtener un único valor de una lista,\n",
        "usando slices se pueden obtener varios valores de una lista, en forma de una nueva lista.\n",
        "lista[2:5] el primer número es el índice donde comienza la sublista\n",
        "El segundo número es el índice donde termina, pero NO NO lo incluirá.\n",
        "'''\n",
        "lista = ['🍕', '🍔', '😊', '😷']\n",
        "print(lista[0:1]) #  ['🍕']\n",
        "print(lista[0:2]) #  ['🍕', '🍔']\n",
        "print(lista[0:3]) #  ['🍕', '🍔','😊']\n",
        "print(lista[2:4]) #  [ '😊', '😷'']\n",
        "print(lista[3:])  #  ['😷']\n",
        "print(lista[:2])  #  ['🍕', '🍔']\n",
        "print(lista[:-1]) #  ['🍕', '🍔', '😊']\n"
      ]
    },
    {
      "cell_type": "code",
      "source": [
        "matriz = [ [1, 2], [3, 4], [5, 6] ]\n",
        "\n",
        "# Recorrido x posicion\n",
        "for renglon in range(3):\n",
        "  print(matriz[renglon])\n",
        "\n",
        "print(\"_\"*10)\n",
        "\n",
        "# Recorrido x elemento\n",
        "for renglon in matriz:\n",
        "  print(renglon)"
      ],
      "metadata": {
        "colab": {
          "base_uri": "https://localhost:8080/"
        },
        "id": "wxCqYw9nAAm7",
        "outputId": "f5555379-d885-474b-9e16-efc35bbf9113"
      },
      "execution_count": null,
      "outputs": [
        {
          "output_type": "stream",
          "name": "stdout",
          "text": [
            "[1, 2]\n",
            "[3, 4]\n",
            "[5, 6]\n",
            "__________\n",
            "[1, 2]\n",
            "[3, 4]\n",
            "[5, 6]\n"
          ]
        }
      ]
    },
    {
      "cell_type": "code",
      "source": [
        "lista = ['🍕', '🍔', '😊', '😷']\n",
        "print(lista.pop(-1))"
      ],
      "metadata": {
        "colab": {
          "base_uri": "https://localhost:8080/"
        },
        "id": "aT2c8aZ-8fUI",
        "outputId": "07d841db-11fb-4de8-d965-f10f3c11fc53"
      },
      "execution_count": null,
      "outputs": [
        {
          "output_type": "stream",
          "name": "stdout",
          "text": [
            "😷\n"
          ]
        }
      ]
    },
    {
      "cell_type": "code",
      "source": [
        "lista = ['🍕', '🍔', '😊', '😷']\n",
        "print(lista.pop(1))"
      ],
      "metadata": {
        "colab": {
          "base_uri": "https://localhost:8080/"
        },
        "id": "GNtrTYz88mSU",
        "outputId": "7468d6ee-4944-4f27-8278-f12a77e44b6b"
      },
      "execution_count": null,
      "outputs": [
        {
          "output_type": "stream",
          "name": "stdout",
          "text": [
            "🍔\n"
          ]
        }
      ]
    },
    {
      "cell_type": "code",
      "source": [
        "lista = ['🍕', '🍔', '😊', '😷']\n",
        "print(lista.pop())"
      ],
      "metadata": {
        "colab": {
          "base_uri": "https://localhost:8080/"
        },
        "id": "0a5wPuh18pjl",
        "outputId": "fa9a59e5-5e92-466a-c5f8-9f2ad20aab7d"
      },
      "execution_count": null,
      "outputs": [
        {
          "output_type": "stream",
          "name": "stdout",
          "text": [
            "😷\n"
          ]
        }
      ]
    },
    {
      "cell_type": "code",
      "execution_count": null,
      "metadata": {
        "id": "pbCCWAOc1zh4",
        "colab": {
          "base_uri": "https://localhost:8080/"
        },
        "outputId": "4ce1b82e-0e53-4eb6-ca3b-1652fcf2e3f6"
      },
      "outputs": [
        {
          "name": "stdout",
          "output_type": "stream",
          "text": [
            " cantidad de datos :4\n",
            "Ingresa calificación 1: 100\n",
            "Ingresa calificación 2: 100\n",
            "Ingresa calificación 3: 100\n",
            "Ingresa calificación 4: 100\n"
          ]
        },
        {
          "output_type": "execute_result",
          "data": {
            "text/plain": [
              "[100, 100, 100, 100]"
            ]
          },
          "metadata": {},
          "execution_count": 15
        }
      ],
      "source": [
        "def leer_datos(n):\n",
        "  lista = [] # Lista vacía para leer los datos\n",
        "  for posicion in range(n):\n",
        "    dato = int(input(f'Ingresa calificación {posicion + 1}: '))\n",
        "    lista.append(dato)\n",
        "  return lista\n",
        "\n",
        "leer_datos( int (input(\" cantidad de datos :\")))"
      ]
    },
    {
      "cell_type": "code",
      "source": [
        "# inicializar una lista con n ceros n = 5\n",
        "lista_sum = [0] * 5\n",
        "print(lista_sum)\n",
        "\n",
        "# inicializar una lista con n ceros n = 5 usando un for\n",
        "lista = []\n",
        "for contador in range(5):\n",
        "  lista.append(0)\n",
        "\n",
        "print(lista)"
      ],
      "metadata": {
        "id": "Lemt3uW8Qb43",
        "outputId": "a69947fe-8c47-42ea-c0f6-bada943ced3b",
        "colab": {
          "base_uri": "https://localhost:8080/"
        }
      },
      "execution_count": null,
      "outputs": [
        {
          "output_type": "stream",
          "name": "stdout",
          "text": [
            "[0, 0, 0, 0, 0]\n",
            "[0, 0, 0, 0, 0]\n"
          ]
        }
      ]
    },
    {
      "cell_type": "markdown",
      "source": [
        "#Ejercicio -  Suma valores x columna\n",
        "Se requiere un recorrido por posición :\n",
        "\n",
        "\n",
        "| col_0 | col_1| col_2|  \n",
        "| ---  | ---  | ---  |  \n",
        "|[  [ matriz[0][0] ,| matriz[0][1] ,| matriz[0][2] ]\n",
        "|[ matriz[1][0] ,| matriz[1][1] ,| matriz[1][2] ]\n",
        "|[ matriz[2][0] ,| matriz[2][1] ,| matriz[2][2] ] ]\n",
        "\n",
        "\n",
        "\n",
        "[arr[0], arr[1] , arr[2] ]\n",
        "\n",
        "- Se utiliza una lista-arreglo para ir almacenanando la suma de\n",
        "cada columna, cada elemento de la lista es un acumulador, por lo\n",
        "tanto se debe inicializar con 0.\n",
        "- La cantidad de elementos de la lista debe ser igual a la\n",
        "cantidad de columnas de la matriz\n",
        "\n",
        "[arr[0], arr[1] , arr[2] ]\n"
      ],
      "metadata": {
        "id": "HaONAewk7M8g"
      }
    },
    {
      "cell_type": "markdown",
      "metadata": {
        "id": "ngqRG_JvcMJd"
      },
      "source": [
        "- # Repaso para examen"
      ]
    },
    {
      "cell_type": "code",
      "execution_count": null,
      "metadata": {
        "id": "f2HbOVK3wlyx"
      },
      "outputs": [],
      "source": [
        "matriz_equipos = [\n",
        "[\"Luis\", \"ITD\", \"100\", \"100\"],\n",
        "[\"Lesly\", \"ITC\", \"100\", \"100\"],\n",
        "[\"Ada\", \"IRS\", \"100\", \"100\"]]\n",
        "\"\"\"\n",
        "print(equipos[0:2])\n",
        "print(equipos[0:2][:])\n",
        "print(equipos[1:])\n",
        "\n",
        "\"\"\"\n",
        "# Despliega una lista de alumnos nombre carrera y calificación\n",
        "# Al final despliega el promedio del grupo\n",
        "\"\"\"\n",
        "1. Luis ITD\n",
        "2. Lesly ITC\n",
        "3. Ada IRS\n",
        "\"\"\"\n",
        "# inicializar el acumulador antes de los ciclos\n",
        "acum = 0\n",
        "# Recorrido x eleemnto\n",
        "for index, lista in enumerate(matriz_equipos):\n",
        "  print(f\"{index + 1}. {lista[0]} {lista[1]} \")\n",
        "  # Incrementar el acum con las calificacion\n",
        "  acum += int(lista[2]) + int(lista[3])\n",
        "\n",
        "# fuera del ciclo calcular el promedio\n",
        "promedio = round(acum / 6, 2)\n",
        "print(f\"Promedio {promedio}\")\n",
        "\n"
      ]
    },
    {
      "cell_type": "markdown",
      "metadata": {
        "id": "R8paH2VmU_jd"
      },
      "source": [
        "\n",
        "\n",
        "# Matriz identidad\n",
        "\n",
        "![](https://appgametutoriales.com/wp-content/uploads/2021/12/mid4.png)\n",
        "\n",
        "\n",
        "\n",
        "\n",
        "\n",
        "# Suma todos los elementos de la matriz\n",
        "\n",
        "![](https://pseudocodigoejemplos.com/wp-content/uploads/Hacer-un-algoritmo-que-almacene-numeros-en-una-matriz-de-6-x-6.jpg)"
      ]
    },
    {
      "cell_type": "code",
      "execution_count": null,
      "metadata": {
        "id": "jN6G9yYrzets",
        "colab": {
          "base_uri": "https://localhost:8080/"
        },
        "outputId": "d292c51c-e9d8-49dc-fbfb-146995dc4456"
      },
      "outputs": [
        {
          "output_type": "stream",
          "name": "stdout",
          "text": [
            "La suma de todos los numeros de la matriz es : 1593\n",
            "Total de calificaciones 17\n",
            "El promedio es  93.70588235294117\n"
          ]
        }
      ],
      "source": [
        "notas = [ [100, 95,100,100],\n",
        "         [80, 95, 90],\n",
        "         [50, 100, 100, 100, 100],\n",
        "         [88, 95,100,100,100]]\n",
        "\n",
        "# inicializar el acumulador suma = 0\n",
        "suma = 0\n",
        "# calcular la cantidad de elementos de la matriz\n",
        "cant_elementos = 0\n",
        "# Recorrido x posicion\n",
        "for r in range(len(notas)):\n",
        "  cant_elementos = cant_elementos + len(notas[r])\n",
        "  for c in range(len(notas[r])):\n",
        "    # incrementar el acum suma con el elemetno r c\n",
        "    suma = suma + notas[r][c]\n",
        "\n",
        "# fuera de todos los fors, desplegar la suma\n",
        "print(\"La suma de todos los numeros de la matriz es :\",suma)\n",
        "\n",
        "# calcular el promedio dentro de los for o fuera?\n",
        "print(\"Total de calificaciones\", cant_elementos)\n",
        "\n",
        "promedio = suma / cant_elementos\n",
        "print(\"El promedio es \", promedio)\n",
        "\n",
        "\n",
        "\n"
      ]
    },
    {
      "cell_type": "code",
      "execution_count": null,
      "metadata": {
        "id": "o2GidP1_5L4_",
        "colab": {
          "base_uri": "https://localhost:8080/"
        },
        "outputId": "b8f829b2-e9a1-45e6-9991-2ffa004c9ef7"
      },
      "outputs": [
        {
          "output_type": "stream",
          "name": "stdout",
          "text": [
            "[1007, 957, 997]\n"
          ]
        }
      ],
      "source": [
        "# guardar en una lista los elementos de\n",
        "# la diagonal principal  [0][0]  [1][1] [2][2]\n",
        "# Salida:\n",
        "# [100, 95, 99]\n",
        "matriz = [[1007, 95,100],\n",
        "          [80, 957, 90],\n",
        "          [50, 95, 997]]\n",
        "\n",
        "#\n",
        "lista_diag_ppal = []\n",
        "# Recorrido x posición 0,1,2\n",
        "for reng in range(len(matriz)):\n",
        "  lista_diag_ppal.append(matriz[reng][reng])\n",
        "\n",
        "# Desplegar la lista con los elementos de la diag ppal\n",
        "print(lista_diag_ppal)"
      ]
    },
    {
      "cell_type": "code",
      "execution_count": null,
      "metadata": {
        "id": "N3Lmqni_FAxp"
      },
      "outputs": [],
      "source": [
        "def main():\n",
        "    # Añade el análisis arriba de la función main\n",
        "    # Escribe tu código abajo de esta línea\n",
        "\n",
        "    # leer la cantidad de elemntos que tendrá la lista\n",
        "    n = int(input())\n",
        "\n",
        "    if n <= 0:\n",
        "        print(\"Error\")\n",
        "    else:\n",
        "        lista = []\n",
        "\n",
        "        # leer n elementos de la lista - ciclo contador\n",
        "        for contador in range(n):\n",
        "            # leer str\n",
        "            valor = input()\n",
        "            # añadir el valor a la lista\n",
        "            lista.append(valor)\n",
        "\n",
        "        # fuera del ciclo\n",
        "        print(lista)\n",
        "\n",
        "        # crear una nueva lista sin duplicados\n",
        "        sin_duplicados = []\n",
        "\n",
        "        # Recorrido por elemento en lista\n",
        "        for elemento in lista:\n",
        "            if elemento not in sin_duplicados:\n",
        "                # añadir si no existe en la lista\n",
        "                sin_duplicados.append(elemento)\n",
        "\n",
        "        # desplegar la lista sin duplicados\n",
        "        print(sin_duplicados)\n",
        "\n",
        "        # Añadir código para que despliegue la cantidad de veces\n",
        "        # que se repite cada elemento\n",
        "        # a 1\n",
        "        # b 2\n",
        "        # c 2\n",
        "        # d 3\n",
        "        # e 2\n",
        "        # count()\n",
        "        # recorrer la lista sin_duplicados y contar las veces que existe en lista\n",
        "        for index, elemento in enumerate(sin_duplicados):\n",
        "          cantidad = lista.count(elemento)\n",
        "          print(index, elemento, cantidad)\n",
        "main()"
      ]
    },
    {
      "cell_type": "code",
      "execution_count": null,
      "metadata": {
        "id": "l24AwvjVID2c"
      },
      "outputs": [],
      "source": [
        "from math import sqrt\n",
        "print(sqrt(2))\n",
        "\n",
        "\n",
        "\n",
        "matriz = [\n",
        "[\"Emiliano\", \"ITD\", \"100\", \"200\", \"Chihuahua\"],\n",
        "[\"Sofi\", \"ITC\", \"100\", \"300\",\"Chihuahua\"],\n",
        "[\"Daniela\", \"IRS\", \"100\", \"300\",\"Chihuahua\"],\n",
        "[\"Cho\", \"ITD\", \"100\", \"200\",\"Chihuahua\"],\n",
        "[\"Miguel\", \"ITC\", \"100\", \"300\",\"Chihuahua\"],\n",
        "[\"Karen\", \"IRS\", \"100\", \"300\",\"Chiapas\"],\n",
        "[\"Karla\", \"ITD\", \"100\", \"200\",\"Chihuahua\"],\n",
        "[\"Marilu\", \"ITC\", \"100\", \"300\",\"Chihuahua\"],\n",
        "[\"Humberto\", \"IRS\", \"100\", \"300\",\"Chihuahua\"],\n",
        "[\"Emiliano\", \"ITD\", \"100\", \"200\",\"Chihuahua\"],\n",
        "[\"Sofi\", \"ITC\", \"100\", \"300\",\"Tabasco\"],\n",
        "[\"Daniela\", \"IRS\", \"100\", \"300\",\"Tabasco\"],\n",
        "[\"Cho\", \"ITD\", \"100\", \"200\",\"Tabasco\"],\n",
        "[\"Miguel\", \"ITC\", \"100\", \"300\",\"Tabasco\"],\n",
        "[\"Karen\", \"IRS\", \"100\", \"300\",\"Guanajuato\"],\n",
        "[\"Karla\", \"ITD\", \"100\", \"200\",\"Guanajuato\"],\n",
        "[\"Marilu\", \"ITC\", \"100\", \"300\",\"Guanajuato\"],\n",
        "[\"Humberto\", \"IRS\", \"100\", \"300\",\"Tamaulipas\"],\n",
        "[\"Humberto\", \"IRS\", \"100\", \"300\",\"Tamaulipas\"],\n",
        "[\"Emiliano\", \"ITD\", \"100\", \"200\",\"Tamaulipas\"],\n",
        "[\"Sofi\", \"ITC\", \"100\", \"300\",\"Nuevo León\"],\n",
        "[\"Daniela\", \"IRS\", \"100\", \"300\",\"Nuevo León\"],\n",
        "[\"Cho\", \"ITD\", \"100\", \"200\",\"Nuevo León\"],\n",
        "[\"Miguel\", \"ITC\", \"100\", \"300\",\"Nuevo León\"],\n",
        "[\"Karen\", \"IRS\", \"100\", \"300\",\"Nuevo León\"],\n",
        "[\"Karla\", \"ITD\", \"100\", \"200\",\"Nuevo León\"],\n",
        "[\"Marilu\", \"ITC\", \"100\", \"300\",\"Nuevo León\"],\n",
        "[\"Beto\", \"IRS\", 0, 0,\"Nuevo León\"]\n",
        "]\n",
        "\n",
        "# Desplegar la cantidad de veces que se repite cada nombre de la matriz\n",
        "nombres = []\n",
        "for renglon in matriz:\n",
        "  nombres.append(renglon[4])\n",
        "\n",
        "# desplegar los nombre de todos los alumnos del grupo\n",
        "print(nombres)\n",
        "\n",
        "# Crear una lista de nombre sin duplicados\n",
        "sin_duplicados = []\n",
        "# recorrido x elemento\n",
        "for elemento in nombres:\n",
        "  # verificar si no esta el. nombre entonces se añade a los sin_duplicar\n",
        "  if elemento not in sin_duplicados:\n",
        "    sin_duplicados.append(elemento)\n",
        "\n",
        "# Desplegar la lista sin_duplicados\n",
        "print(sin_duplicados)\n",
        "\n",
        "# Contar la cantidad de veces que se repite cada nombre\n",
        "# recorrer la lista sin_duplicados elemento x elemento\n",
        "for elemento in sin_duplicados:\n",
        "  # calcular la cantidad de veces que se repite el elemento en nombres\n",
        "  cant = nombres.count(elemento)\n",
        "  # Desplegar el nombre y la cantidad de veces que se repite\n",
        "  print(elemento, cant)\n",
        "\n",
        "\n",
        "# Calcular el promedio del periodo1, y el promedio del periodo2\n",
        "acum1 = 0\n",
        "acum2 = 0\n",
        "\n",
        "for renglon in matriz:\n",
        "  acum1 += int(renglon[2])\n",
        "  acum2 += int(renglon[3])\n",
        "\n",
        "#matriz = []\n",
        "\n",
        "# dónde calculamos el promedio?  AFUERA DEL CICLO\n",
        "# YA QUE SUMAMOS TODAS LAS CALIFICACIONES!!\n",
        "if len(matriz) > 0:\n",
        "  promedio1 = round(acum1 / len(matriz),2)\n",
        "  promedio2 = round(acum2 / len(matriz),2)\n",
        "\n",
        "  print(f\"Promedio1={promedio1}\")\n",
        "  print(f\"Promedio2={promedio2}\")\n",
        "else:\n",
        "  print(\"No existen alumnos en el grupo\")\n"
      ]
    },
    {
      "cell_type": "markdown",
      "metadata": {
        "id": "OriLT0tnrZZO"
      },
      "source": [
        "Strings\n",
        "\n",
        "[Métodos de strings](https://github.com/ABZ-Aaron/CheatSheets/blob/main/PythonStringMethods.pdf)"
      ]
    },
    {
      "cell_type": "code",
      "execution_count": null,
      "metadata": {
        "id": "97SGsnG_DAg2"
      },
      "outputs": [],
      "source": [
        "name = \"guadalupe\"\n",
        "print(name.capitalize())"
      ]
    },
    {
      "cell_type": "code",
      "execution_count": null,
      "metadata": {
        "id": "9f7lmyRHDuAP"
      },
      "outputs": [],
      "source": [
        "# string de líneas múltiples\n",
        "alumnos = \"\"\"Carlos\n",
        "Emiliano\n",
        "Cesar\n",
        "Cesar\n",
        "Eduardo\n",
        "Alexa\n",
        "Roberta\n",
        "Jeremy\n",
        "Felipe\n",
        "Omar\n",
        "Armando\n",
        "Ana Victoria\n",
        "Yeshua\n",
        "Karyme\n",
        "Oscar\n",
        "Mauricio\n",
        "Cristobal\n",
        "Alberto\"\"\".lower()\n",
        "\n",
        "lista = alumnos.split(\"\\n\")\n",
        "lista2 = alumnos.split()\n",
        "lista3 = alumnos.split(\"a\")\n",
        "print(lista)\n",
        "print(lista2)\n",
        "print(lista3)\n",
        "print(len(lista))"
      ]
    },
    {
      "cell_type": "code",
      "execution_count": null,
      "metadata": {
        "id": "eWsustml-q7S",
        "colab": {
          "base_uri": "https://localhost:8080/"
        },
        "outputId": "791e58c7-ef0e-493f-dd98-9590de4ecea3"
      },
      "outputs": [
        {
          "output_type": "stream",
          "name": "stdout",
          "text": [
            "Collecting colorama\n",
            "  Downloading colorama-0.4.6-py2.py3-none-any.whl (25 kB)\n",
            "Installing collected packages: colorama\n",
            "Successfully installed colorama-0.4.6\n"
          ]
        }
      ],
      "source": [
        "pip install colorama"
      ]
    },
    {
      "cell_type": "markdown",
      "metadata": {
        "id": "KrM6BvQu-jYm"
      },
      "source": [
        "# COLORES\n"
      ]
    },
    {
      "cell_type": "code",
      "execution_count": null,
      "metadata": {
        "id": "klnn4_fU-lAz",
        "colab": {
          "base_uri": "https://localhost:8080/",
          "height": 401
        },
        "outputId": "811f8dba-2631-4564-88ec-947c3a6701b9"
      },
      "outputs": [
        {
          "output_type": "error",
          "ename": "ModuleNotFoundError",
          "evalue": "ignored",
          "traceback": [
            "\u001b[0;31m---------------------------------------------------------------------------\u001b[0m",
            "\u001b[0;31mModuleNotFoundError\u001b[0m                       Traceback (most recent call last)",
            "\u001b[0;32m<ipython-input-1-3fb00ba26c31>\u001b[0m in \u001b[0;36m<cell line: 8>\u001b[0;34m()\u001b[0m\n\u001b[1;32m      6\u001b[0m 'Yucatan','Zacatecas'] * 2\n\u001b[1;32m      7\u001b[0m \u001b[0;34m\u001b[0m\u001b[0m\n\u001b[0;32m----> 8\u001b[0;31m \u001b[0;32mfrom\u001b[0m \u001b[0mcolorama\u001b[0m \u001b[0;32mimport\u001b[0m \u001b[0minit\u001b[0m\u001b[0;34m,\u001b[0m \u001b[0mFore\u001b[0m\u001b[0;34m,\u001b[0m \u001b[0mBack\u001b[0m\u001b[0;34m,\u001b[0m \u001b[0mStyle\u001b[0m\u001b[0;34m\u001b[0m\u001b[0;34m\u001b[0m\u001b[0m\n\u001b[0m\u001b[1;32m      9\u001b[0m \u001b[0;34m\u001b[0m\u001b[0m\n\u001b[1;32m     10\u001b[0m colores = [Fore.BLACK, Fore.BLUE , Fore.CYAN , Fore.GREEN, Fore.LIGHTBLACK_EX, Fore.WHITE, Fore.LIGHTBLACK_EX ,\n",
            "\u001b[0;31mModuleNotFoundError\u001b[0m: No module named 'colorama'",
            "",
            "\u001b[0;31m---------------------------------------------------------------------------\u001b[0;32m\nNOTE: If your import is failing due to a missing package, you can\nmanually install dependencies using either !pip or !apt.\n\nTo view examples of installing some common dependencies, click the\n\"Open Examples\" button below.\n\u001b[0;31m---------------------------------------------------------------------------\u001b[0m\n"
          ],
          "errorDetails": {
            "actions": [
              {
                "action": "open_url",
                "actionText": "Open Examples",
                "url": "/notebooks/snippets/importing_libraries.ipynb"
              }
            ]
          }
        }
      ],
      "source": [
        "# Inicializar la lista\n",
        "edos = ['Aguascalientes','Baja California','Baja California Sur','Campeche','Coahuila de Zaragoza','Colima',\n",
        "'Chiapas','Chihuahua','Ciudad de M','Durango','Guanajuato','Guerrero','Hidalgo','Jalisco',\n",
        "'Mexico','Michoacan','Morelos','Nayarit','Nuevo Leon','Oaxaca','Puebla','Queretaro',\n",
        "'Quintana Roo','San Luis Potosi','Sinaloa','Sonora','Tabasco','Tamaulipas','Tlaxcala','Veracruz de Ignacio de la Llave',\n",
        "'Yucatan','Zacatecas'] * 2\n",
        "\n",
        "from colorama import init, Fore, Back, Style\n",
        "\n",
        "colores = [Fore.BLACK, Fore.BLUE , Fore.CYAN , Fore.GREEN, Fore.LIGHTBLACK_EX, Fore.WHITE, Fore.LIGHTBLACK_EX ,\n",
        "           Fore.LIGHTBLUE_EX,Fore.LIGHTCYAN_EX,Fore. LIGHTGREEN_EX,Fore.LIGHTMAGENTA_EX , Fore.LIGHTRED_EX ,\n",
        "           Fore.LIGHTWHITE_EX,Fore.LIGHTYELLOW_EX ,Fore.MAGENTA,Fore.RED,Fore.RESET,Fore.WHITE , Fore.YELLOW ]\n",
        "\n",
        "fondo = [  Back.BLACK, Back.BLUE, Back.CYAN, Back.GREEN,Back.LIGHTBLACK_EX, Back.LIGHTBLUE_EX, Back.LIGHTCYAN_EX,\n",
        " Back.LIGHTGREEN_EX, Back.LIGHTMAGENTA_EX, Back.LIGHTRED_EX, Back.LIGHTWHITE_EX, Back.LIGHTYELLOW_EX,\n",
        " Back.MAGENTA, Back.RED, Back.RESET, Back.WHITE , Back.YELLOW ]\n",
        "\n",
        "# Para restablecer colores después de cada impresión inicializar\n",
        "# el módulo con init(autoreset=True) en lugar de init().+Back.RESET\n",
        "init()\n",
        "edo = 0\n",
        "# Desplegar los estados en colores\n",
        "for color in colores:\n",
        "    print(color  + edos[edo])\n",
        "    edo += 1\n",
        "input(\"teclea enter para continuar...\")\n",
        "\n",
        "Fore.RESET\n",
        "# Desplegado de todos los combinaciones disponibles\n",
        "for c in colores:\n",
        "    for f in fondo:\n",
        "        print(f + c + \"Texto\", end = \"___\" + Fore.RESET)\n",
        "    print( )\n",
        "\n",
        "print(Back.RED +  Fore.YELLOW +\"PENSAMIENTO COMPUTACIONAL!\" + Back.RESET + Fore.RESET )\n",
        "print( \"PENSAMIENTO COMPUTACIONAL!\" )"
      ]
    },
    {
      "cell_type": "markdown",
      "metadata": {
        "id": "9IxS4ce7JQyd"
      },
      "source": [
        "# Sonido\n"
      ]
    },
    {
      "cell_type": "code",
      "execution_count": null,
      "metadata": {
        "id": "AjnTjPsOJYDr",
        "colab": {
          "base_uri": "https://localhost:8080/"
        },
        "outputId": "93c607b5-4ae0-4538-c45c-8133c4516da3"
      },
      "outputs": [
        {
          "output_type": "stream",
          "name": "stdout",
          "text": [
            "Requirement already satisfied: pygame in /usr/local/lib/python3.10/dist-packages (2.5.1)\n"
          ]
        }
      ],
      "source": [
        "pip install pygame"
      ]
    },
    {
      "cell_type": "markdown",
      "metadata": {
        "id": "D1CDtaPc35bw"
      },
      "source": [
        "# link a lista de emojis\n",
        "\n",
        "# https://unicode.org/emoji/charts/emoji-list.html#1f60b\n",
        "\n",
        "\n",
        "\n",
        "\n"
      ]
    },
    {
      "cell_type": "code",
      "execution_count": null,
      "metadata": {
        "id": "lVlpaB-b6OZY"
      },
      "outputs": [],
      "source": [
        "# Que tipo de recorrido nos conviene\n",
        "calificaciones = [ [100, 95,100,100],[80, 95, 90],[50, 95, 99],[100,100],[]]\n",
        "\n",
        "# calcular la suma de todos los elementos de la matriz\n",
        "\n",
        "# round(valor, 2)\n",
        "print(\"Promedio de alumnos\")\n",
        "# Calcular y desplegar la suma de cada renglon\n",
        "\n",
        "\n",
        "  # fuera del for elemento\n",
        "\n",
        "    print(index, round(promedio,2))\n",
        "  else:\n",
        "    print(index, \"No Entrego Tareas Promedio = 0\")"
      ]
    },
    {
      "cell_type": "code",
      "source": [
        "\n",
        "print(\"\\U0001F636\\U0000200D\\U0001F32B\\U0000FE0F\")"
      ],
      "metadata": {
        "colab": {
          "base_uri": "https://localhost:8080/"
        },
        "id": "9JI_vRI3qWVQ",
        "outputId": "6aa10d66-073d-4132-ba20-9a5bc6a92a51"
      },
      "execution_count": null,
      "outputs": [
        {
          "output_type": "stream",
          "name": "stdout",
          "text": [
            "😶‍🌫️\n"
          ]
        }
      ]
    },
    {
      "cell_type": "code",
      "execution_count": null,
      "metadata": {
        "id": "mONcAX9CEK2J",
        "colab": {
          "base_uri": "https://localhost:8080/"
        },
        "outputId": "4b688103-068a-4a08-f9e1-5ad3741f19c2"
      },
      "outputs": [
        {
          "output_type": "stream",
          "name": "stdout",
          "text": [
            "👩‍🎤\n",
            "🇧🇷\n",
            "😮‍💨\n",
            "🇦🇷\n"
          ]
        }
      ],
      "source": [
        "print(\"\\U0001F469\\U0000200D\\U0001F3A4\")\n",
        "print(\"\\U0001F1E7\\U0001F1F7\")\n",
        "print(\"\\U0001F62E\\U0000200D\\U0001F4A8\")\n",
        "print(\"\\U0001F1E6\\U0001F1F7\")"
      ]
    },
    {
      "cell_type": "code",
      "execution_count": null,
      "metadata": {
        "id": "1kVT5msVEPvm"
      },
      "outputs": [],
      "source": [
        "pars2=    \"\"\"\\U0001F1E6\\U0001F1E8 EU\n",
        "\\U0001F6AA door\\n\\U0001F6CF bed \\U0001F1E7\\U0001F1F7 Brazil\n",
        "\\U0001F1E7\\U0001F1F7 Brazil\\n\\U0001FA91\\n\\U0001F6BD\n",
        "\\U0001FAA0\\n\\U0001F6BF\\n\\U0001F6C1\\n\\U0001FA92\\n\\U0001F9F4\n",
        "\\U0001F9F7\\n\\U0001F9F9\\n\\U0001F9FA\\n\\U0001F9FB\\n\\U0001F9FC\n",
        "\\U0001F4F1\\n\\U0001F4BB\\n\\U0001F5A8\\n\\U0001F4FA\\n\\U0001F6AA\n",
        "\\U0001F6CF\\n\\U0001FA91\\n\\U0001F6BD\\n\\U0001FAA0\\n\\U0001F6BF\n",
        "\\U0001F6C1\\n\\U0001FA92\\n\\U0001F9F4\\n\\U0001F9F7\\n\\U0001F9F9\n",
        "\\U0001F9FA\\n\\U0001F9FB\\n\\U0001F60B\"\"\"\n",
        "print(pars2)\n",
        "lista = pars2.split(\"\\n\")\n",
        "print(lista)"
      ]
    },
    {
      "cell_type": "code",
      "execution_count": null,
      "metadata": {
        "id": "tcLR6smoEPxI"
      },
      "outputs": [],
      "source": [
        "def pares( ):\n",
        "    pars =    \"\"\"door \\U0001F6AA\n",
        "bed \\U0001F6CF\\nchair \\U0001FA91\\ntoilet \\U0001F6BD\\nplunger \\U0001FAA0\n",
        "shower \\U0001F6BF\\nbathtub \\U0001F6C1\\nrazor \\U0001FA92\\nlotion \\U0001F9F4\n",
        "safety \\U0001F9F7\\nbroom \\U0001F9F9\\nbasket \\U0001F9FA\\npaper \\U0001F9FB\n",
        "soap \\U0001F9FC\\nmobile phone \\U0001F4F1\\nlaptop \\U0001F4BB\\nprinter \\U0001F5A8\n",
        "television \\U0001F4FA\"\"\"\n",
        "\n",
        "    # split metodo que retorna una lista de string\n",
        "    lista = pars.split(\"\\n\")\n",
        "    print(\"Longitud = \", len(lista))\n",
        "    # Recorrido x elemento\n",
        "    for elemento in lista:\n",
        "        print(elemento)\n",
        "\n",
        "    return lista\n",
        "# Duplicar la lista para formar los pares\n",
        "tiles = pares() * 2\n",
        "print(tiles)"
      ]
    },
    {
      "cell_type": "markdown",
      "metadata": {
        "id": "myVPDa_nVAzL"
      },
      "source": [
        "# **Matrices**\n",
        "\n",
        "# [Ej 1. Leer y desplegar los datos de una matriz](https://pythontutor.com/iframe-embed.html#code=n%20%3D%20int%28input%28'N%C3%BAmero%20de%20renglones%3A%20'%29%29%0Am%20%3Dint%28input%28'Numero%20de%20columnas%3A%20'%29%29%0Amatriz1%20%3D%20%5B%5D%0A%23%20Ciclo%20for%20anidado%20para%20llenar%20los%20datos%20de%20la%20matriz%0Afor%20num_reng%20in%20range%28n%29%3A%0A%20%20%20%20renglon%20%3D%20%5B%5D%0A%20%20%20%20for%20num_col%20in%20range%28m%29%3A%0A%20%20%20%20%20%20%20%20num%20%3D%20int%28input%28'Ingresa%20dato%3A%20'%29%29%0A%20%20%20%20%20%20%20%20renglon.append%28num%29%0A%20%20%20%20matriz1.append%28renglon%29%0A%23%20Ciclo%20for%20para%20imprimir%20cada%20lista%20interna%20en%20un%20rengl%C3%B3n%0Afor%20lista%20in%20matriz1%3A%0A%20%20%20%20print%28lista%29%0A%0A&codeDivHeight=400&codeDivWidth=350&cumulative=false&curInstr=0&heapPrimitives=nevernest&origin=opt-frontend.js&py=3&rawInputLstJSON=%5B%5D&textReferences=false)\n",
        "\n",
        "# [Ej 2. Inicializar una matriz con valores consecutivos desde 1.. nxn](https://pythontutor.com/iframe-embed.html#code=%23%20Construye%20una%20matriz%20de%20nxn%20con%20n%C3%BAmeros%20consecutivos%0An%20%3D%20int%28input%28'Indica%20el%20valor%20para%20n%3A%20'%29%29%0Amatriz2%3D%5B%5D%0Anum%20%3D%201%0A%23%20Ciclo%20para%20llenar%20la%20matriz2%20con%20n%C3%BAmeros%20consecutivos%0Afor%20num_reng%20in%20range%28n%29%3A%0A%20%20%20%20renglon%20%3D%20%5B%5D%0A%20%20%20%20for%20num_col%20in%20range%28n%29%3A%0A%20%20%20%20%20%20%20%20renglon.append%28num%29%0A%20%20%20%20%20%20%20%20num%20%2B%3D%201%0A%20%20%20%20matriz2.append%28renglon%29%0A%0A%23imprimimos%20cada%20lista%20de%20la%20matriz%20en%20un%20rengl%C3%B3n%0Afor%20lista%20in%20matriz2%3A%0A%20%20%20%20print%28lista%29&codeDivHeight=400&codeDivWidth=350&cumulative=false&curInstr=0&heapPrimitives=nevernest&origin=opt-frontend.js&py=3&rawInputLstJSON=%5B%5D&textReferences=false)\n",
        "\n",
        "# [Ej 3. Recorrido x elemento de una matriz](https://pythontutor.com/iframe-embed.html#code=matriz%20%3D%5B%5B1,2,3%5D,%20%5B4,5,6%5D,%20%5B7,8,9%5D%5D%0A%23%20Ciclo%20para%20recorrer%20por%20elemento%20una%20matriz%0Afor%20lista%20in%20matriz%3A%0A%20%20%20%20for%20dato%20in%20lista%3A%0A%20%20%20%20%20%20%20%20print%28dato,%20end%3D'%20'%29%0A%20%20%20%20print%28%29%0A%20%20%20%20%0A%0A%0A&codeDivHeight=400&codeDivWidth=350&cumulative=false&curInstr=0&heapPrimitives=nevernest&origin=opt-frontend.js&py=3&rawInputLstJSON=%5B%5D&textReferences=false)\n",
        "\n",
        "# [Ej 4. Contar la cantidad de elementos de la matriz superiores a 25](https://pythontutor.com/iframe-embed.html#code=matriz%20%3D%5B%5B14,28,32%5D,%20%5B24,75,26%5D,%20%5B7,18,29%5D%5D%0A%23%20Ciclo%20para%20recorrer%20por%20elemento%20una%20matriz%0Acuantos%20%3D%200%0Afor%20lista%20in%20matriz%3A%0A%20%20%20%20for%20dato%20in%20lista%3A%0A%20%20%20%20%20%20%20%20if%20dato%20%3E%2025%3A%0A%20%20%20%20%20%20%20%20%20%20%20%20cuantos%20%2B%3D%201%0A%20%20%20%20%0Aprint%28f'La%20matriz%20tiene%20%7Bcuantos%7D%20n%C3%BAmeros%20mayores%20a%2025'%29%0A%20%20%20%20%0A%0A%0A&codeDivHeight=400&codeDivWidth=350&cumulative=false&curInstr=0&heapPrimitives=nevernest&origin=opt-frontend.js&py=3&rawInputLstJSON=%5B%5D&textReferences=false)\n"
      ]
    },
    {
      "cell_type": "markdown",
      "metadata": {
        "id": "VcBZTMe6WgTl"
      },
      "source": [
        "# RETO\n",
        "\n",
        "Recorrido de una matriz por posición\n",
        "\n",
        "- Para el recorrido x posición se requieren de 2 ciclos for anidados (1 dentro del otro)\n",
        "- El ciclo más externo controla la posición de los renglones de la matriz\n",
        "- El ciclo más interno controla la posición de las columnas de la matriz\n",
        "\n",
        "- Ejemplo - cambiar todos los elementos negativos de la matriz por 0- para llevar a cabo es necesario conocer la posición del elemento de la matriz para sustituir ese elemento por 0.\n",
        "\n",
        "- Se utiliza para lleva a cabo cambios en los datos de la matriz, o cuanto la solución del problema requiere conocer la posición de los elementos de la matriz, además es muy importante conocer esta forma de accesar los elementos de una matriz porque en C++ es la única forma de recorrer los elementos de una matriz.\n",
        "\n",
        "\n"
      ]
    },
    {
      "cell_type": "code",
      "execution_count": null,
      "metadata": {
        "id": "bGLAoxS7ZXuy"
      },
      "outputs": [],
      "source": [
        "def muestra_matriz( matriz):\n",
        "  # desplegar los números de columnas de la matriz\n",
        "  for col in range(len(matriz[0])):\n",
        "    print(f\" {col:^3}\", end=\" \")\n",
        "  print()\n",
        "\n",
        "  # desplegar los renglones de la matriz\n",
        "  for renglon, valores in enumerate(matriz):\n",
        "    print(f\"{renglon} {valores}\")"
      ]
    },
    {
      "cell_type": "code",
      "execution_count": null,
      "metadata": {
        "id": "5PaaBN_7XWkP"
      },
      "outputs": [],
      "source": [
        "matriz =[[14,-28,-32], [-24,75,26], [7,-18,29]]\n",
        "# Ciclos anidados para recorrer x posición una matriz\n",
        "print(f\"Matriz inicial:{matriz}\")\n",
        "muestra_matriz(matriz)\n",
        "renglones_matriz = len(matriz)\n",
        "\n",
        "# RECORRIDO X POSICION\n",
        "# ciclo que controla el índice del renglón: 0.. renglones_matriz - 1\n",
        "for ren in range(renglones_matriz):\n",
        "  cant_elementos = len(matriz[ren])\n",
        "  # ciclo que controla el índice de la columna: 0.. cant_elementos - 1\n",
        "  for col in range(cant_elementos):\n",
        "    if matriz[ren][col] < 0:\n",
        "      # cambiar el valor de esa posición de la matriz\n",
        "      matriz[ren][col] = 0\n",
        "\n",
        "print(f\"Matriz modificada:{matriz}\")\n",
        "muestra_matriz(matriz)\n"
      ]
    },
    {
      "cell_type": "code",
      "execution_count": null,
      "metadata": {
        "id": "rw2bwSoNdHKK"
      },
      "outputs": [],
      "source": [
        "import random\n",
        "def pares( ):\n",
        "  \"\"\" 5 ptos, función que retorna una lista con emojis y palabras (duplicada)\n",
        "    para que se formen los pares en la memorama.\n",
        "    representan la parte derecha de las cartas que se van a descubrir\n",
        "    \"\"\"\n",
        "  letras = \"a,b,c,d,e,f,g,h,i,j,k,l,m,n,ñ,o,p,q\"\n",
        "  lista = letras.split(\",\")\n",
        "  lista = lista * 2\n",
        "  return lista\n",
        "\n",
        "lista = pares( )\n",
        "print(len(lista), lista)\n",
        "liston = lista[:18]\n",
        "liston = liston * 2\n",
        "print(len(liston), liston)\n",
        "print(random.randint(1,5))"
      ]
    },
    {
      "cell_type": "code",
      "execution_count": null,
      "metadata": {
        "id": "dJCIYFsjYd_y"
      },
      "outputs": [],
      "source": []
    },
    {
      "cell_type": "markdown",
      "metadata": {
        "id": "zq8ddpjT6iwA"
      },
      "source": [
        "# - Archivos de Texto  -\n",
        "\n",
        "\n",
        "https://replit.com/@roque_itesm_mx/ArchivoTextoW\n",
        "\n",
        "https://replit.com/@roque_itesm_mx/CrearArchivoTexto\n",
        "\n",
        "\n",
        "https://replit.com/@roque_itesm_mx/ArchivoTexto\n",
        "\n"
      ]
    },
    {
      "cell_type": "code",
      "execution_count": null,
      "metadata": {
        "id": "a5SZX4ydveIO",
        "colab": {
          "base_uri": "https://localhost:8080/"
        },
        "outputId": "bb74e463-3db8-42d5-f171-d655a02ccad3"
      },
      "outputs": [
        {
          "output_type": "stream",
          "name": "stdout",
          "text": [
            "---> Contenido del archivo /content/sample_data/README.md\n",
            "---> Contenido en lista /content/sample_data/README.md\n",
            "['This directory includes a few sample datasets to get you started.\\n', '\\n', '*   `california_housing_data*.csv` is California housing data from the 1990 US\\n', '    Census; more information is available at:\\n', '    https://developers.google.com/machine-learning/crash-course/california-housing-data-description\\n', '\\n', '*   `mnist_*.csv` is a small sample of the\\n', '    [MNIST database](https://en.wikipedia.org/wiki/MNIST_database), which is\\n', '    described at: http://yann.lecun.com/exdb/mnist/\\n', '\\n', '*   `anscombe.json` contains a copy of\\n', \"    [Anscombe's quartet](https://en.wikipedia.org/wiki/Anscombe%27s_quartet); it\\n\", '    was originally described in\\n', '\\n', \"    Anscombe, F. J. (1973). 'Graphs in Statistical Analysis'. American\\n\", '    Statistician. 27 (1): 17-21. JSTOR 2682899.\\n', '\\n', '    and our copy was prepared by the\\n', '    [vega_datasets library](https://github.com/altair-viz/vega_datasets/blob/4f67bdaad10f45e3549984e17e1b3088c731503d/vega_datasets/_data/anscombe.json).\\n']\n",
            "This directory includes a few sample datasets to get you started.\n",
            "\n",
            "*   `california_housing_data*.csv` is California housing data from the 1990 US\n",
            "    Census; more information is available at:\n",
            "    https://developers.google.com/machine-learning/crash-course/california-housing-data-description\n",
            "\n",
            "*   `mnist_*.csv` is a small sample of the\n",
            "    [MNIST database](https://en.wikipedia.org/wiki/MNIST_database), which is\n",
            "    described at: http://yann.lecun.com/exdb/mnist/\n",
            "\n",
            "*   `anscombe.json` contains a copy of\n",
            "    [Anscombe's quartet](https://en.wikipedia.org/wiki/Anscombe%27s_quartet); it\n",
            "    was originally described in\n",
            "\n",
            "    Anscombe, F. J. (1973). 'Graphs in Statistical Analysis'. American\n",
            "    Statistician. 27 (1): 17-21. JSTOR 2682899.\n",
            "\n",
            "    and our copy was prepared by the\n",
            "    [vega_datasets library](https://github.com/altair-viz/vega_datasets/blob/4f67bdaad10f45e3549984e17e1b3088c731503d/vega_datasets/_data/anscombe.json).\n",
            "\n",
            "--> contenido del archivo - /content/sample_data/anscombe.json\n",
            "\n",
            "--> contenido en lineas - /content/sample_data/anscombe.json\n",
            "['[\\n', '  {\"Series\":\"I\", \"X\":10.0, \"Y\":8.04},\\n', '  {\"Series\":\"I\", \"X\":8.0, \"Y\":6.95},\\n', '  {\"Series\":\"I\", \"X\":13.0, \"Y\":7.58},\\n', '  {\"Series\":\"I\", \"X\":9.0, \"Y\":8.81},\\n', '  {\"Series\":\"I\", \"X\":11.0, \"Y\":8.33},\\n', '  {\"Series\":\"I\", \"X\":14.0, \"Y\":9.96},\\n', '  {\"Series\":\"I\", \"X\":6.0, \"Y\":7.24},\\n', '  {\"Series\":\"I\", \"X\":4.0, \"Y\":4.26},\\n', '  {\"Series\":\"I\", \"X\":12.0, \"Y\":10.84},\\n', '  {\"Series\":\"I\", \"X\":7.0, \"Y\":4.81},\\n', '  {\"Series\":\"I\", \"X\":5.0, \"Y\":5.68},\\n', '\\n', '  {\"Series\":\"II\", \"X\":10.0, \"Y\":9.14},\\n', '  {\"Series\":\"II\", \"X\":8.0, \"Y\":8.14},\\n', '  {\"Series\":\"II\", \"X\":13.0, \"Y\":8.74},\\n', '  {\"Series\":\"II\", \"X\":9.0, \"Y\":8.77},\\n', '  {\"Series\":\"II\", \"X\":11.0, \"Y\":9.26},\\n', '  {\"Series\":\"II\", \"X\":14.0, \"Y\":8.10},\\n', '  {\"Series\":\"II\", \"X\":6.0, \"Y\":6.13},\\n', '  {\"Series\":\"II\", \"X\":4.0, \"Y\":3.10},\\n', '  {\"Series\":\"II\", \"X\":12.0, \"Y\":9.13},\\n', '  {\"Series\":\"II\", \"X\":7.0, \"Y\":7.26},\\n', '  {\"Series\":\"II\", \"X\":5.0, \"Y\":4.74},\\n', '\\n', '  {\"Series\":\"III\", \"X\":10.0, \"Y\":7.46},\\n', '  {\"Series\":\"III\", \"X\":8.0, \"Y\":6.77},\\n', '  {\"Series\":\"III\", \"X\":13.0, \"Y\":12.74},\\n', '  {\"Series\":\"III\", \"X\":9.0, \"Y\":7.11},\\n', '  {\"Series\":\"III\", \"X\":11.0, \"Y\":7.81},\\n', '  {\"Series\":\"III\", \"X\":14.0, \"Y\":8.84},\\n', '  {\"Series\":\"III\", \"X\":6.0, \"Y\":6.08},\\n', '  {\"Series\":\"III\", \"X\":4.0, \"Y\":5.39},\\n', '  {\"Series\":\"III\", \"X\":12.0, \"Y\":8.15},\\n', '  {\"Series\":\"III\", \"X\":7.0, \"Y\":6.42},\\n', '  {\"Series\":\"III\", \"X\":5.0, \"Y\":5.73},\\n', '\\n', '  {\"Series\":\"IV\", \"X\":8.0, \"Y\":6.58},\\n', '  {\"Series\":\"IV\", \"X\":8.0, \"Y\":5.76},\\n', '  {\"Series\":\"IV\", \"X\":8.0, \"Y\":7.71},\\n', '  {\"Series\":\"IV\", \"X\":8.0, \"Y\":8.84},\\n', '  {\"Series\":\"IV\", \"X\":8.0, \"Y\":8.47},\\n', '  {\"Series\":\"IV\", \"X\":8.0, \"Y\":7.04},\\n', '  {\"Series\":\"IV\", \"X\":8.0, \"Y\":5.25},\\n', '  {\"Series\":\"IV\", \"X\":19.0, \"Y\":12.50},\\n', '  {\"Series\":\"IV\", \"X\":8.0, \"Y\":5.56},\\n', '  {\"Series\":\"IV\", \"X\":8.0, \"Y\":7.91},\\n', '  {\"Series\":\"IV\", \"X\":8.0, \"Y\":6.89}\\n', ']\\n']\n",
            "[\n",
            "  {\"Series\":\"I\", \"X\":10.0, \"Y\":8.04},\n",
            "  {\"Series\":\"I\", \"X\":8.0, \"Y\":6.95},\n",
            "  {\"Series\":\"I\", \"X\":13.0, \"Y\":7.58},\n",
            "  {\"Series\":\"I\", \"X\":9.0, \"Y\":8.81},\n",
            "  {\"Series\":\"I\", \"X\":11.0, \"Y\":8.33},\n",
            "  {\"Series\":\"I\", \"X\":14.0, \"Y\":9.96},\n",
            "  {\"Series\":\"I\", \"X\":6.0, \"Y\":7.24},\n",
            "  {\"Series\":\"I\", \"X\":4.0, \"Y\":4.26},\n",
            "  {\"Series\":\"I\", \"X\":12.0, \"Y\":10.84},\n",
            "  {\"Series\":\"I\", \"X\":7.0, \"Y\":4.81},\n",
            "  {\"Series\":\"I\", \"X\":5.0, \"Y\":5.68},\n",
            "\n",
            "  {\"Series\":\"II\", \"X\":10.0, \"Y\":9.14},\n",
            "  {\"Series\":\"II\", \"X\":8.0, \"Y\":8.14},\n",
            "  {\"Series\":\"II\", \"X\":13.0, \"Y\":8.74},\n",
            "  {\"Series\":\"II\", \"X\":9.0, \"Y\":8.77},\n",
            "  {\"Series\":\"II\", \"X\":11.0, \"Y\":9.26},\n",
            "  {\"Series\":\"II\", \"X\":14.0, \"Y\":8.10},\n",
            "  {\"Series\":\"II\", \"X\":6.0, \"Y\":6.13},\n",
            "  {\"Series\":\"II\", \"X\":4.0, \"Y\":3.10},\n",
            "  {\"Series\":\"II\", \"X\":12.0, \"Y\":9.13},\n",
            "  {\"Series\":\"II\", \"X\":7.0, \"Y\":7.26},\n",
            "  {\"Series\":\"II\", \"X\":5.0, \"Y\":4.74},\n",
            "\n",
            "  {\"Series\":\"III\", \"X\":10.0, \"Y\":7.46},\n",
            "  {\"Series\":\"III\", \"X\":8.0, \"Y\":6.77},\n",
            "  {\"Series\":\"III\", \"X\":13.0, \"Y\":12.74},\n",
            "  {\"Series\":\"III\", \"X\":9.0, \"Y\":7.11},\n",
            "  {\"Series\":\"III\", \"X\":11.0, \"Y\":7.81},\n",
            "  {\"Series\":\"III\", \"X\":14.0, \"Y\":8.84},\n",
            "  {\"Series\":\"III\", \"X\":6.0, \"Y\":6.08},\n",
            "  {\"Series\":\"III\", \"X\":4.0, \"Y\":5.39},\n",
            "  {\"Series\":\"III\", \"X\":12.0, \"Y\":8.15},\n",
            "  {\"Series\":\"III\", \"X\":7.0, \"Y\":6.42},\n",
            "  {\"Series\":\"III\", \"X\":5.0, \"Y\":5.73},\n",
            "\n",
            "  {\"Series\":\"IV\", \"X\":8.0, \"Y\":6.58},\n",
            "  {\"Series\":\"IV\", \"X\":8.0, \"Y\":5.76},\n",
            "  {\"Series\":\"IV\", \"X\":8.0, \"Y\":7.71},\n",
            "  {\"Series\":\"IV\", \"X\":8.0, \"Y\":8.84},\n",
            "  {\"Series\":\"IV\", \"X\":8.0, \"Y\":8.47},\n",
            "  {\"Series\":\"IV\", \"X\":8.0, \"Y\":7.04},\n",
            "  {\"Series\":\"IV\", \"X\":8.0, \"Y\":5.25},\n",
            "  {\"Series\":\"IV\", \"X\":19.0, \"Y\":12.50},\n",
            "  {\"Series\":\"IV\", \"X\":8.0, \"Y\":5.56},\n",
            "  {\"Series\":\"IV\", \"X\":8.0, \"Y\":7.91},\n",
            "  {\"Series\":\"IV\", \"X\":8.0, \"Y\":6.89}\n",
            "]\n"
          ]
        }
      ],
      "source": [
        "print('---> Contenido del archivo /content/sample_data/README.md')\n",
        "\n",
        "with open('/content/sample_data/README.md') as archivo:\n",
        "  # lee todas las líneas del archivo y las deja en una lista\n",
        "  lista = archivo.readlines()\n",
        "  print('---> Contenido en lista /content/sample_data/README.md')\n",
        "  print(lista)\n",
        "\n",
        "  # El ciclo recorre cada línea del archivo\n",
        "  for linea in lista:\n",
        "    print(linea[:-1])\n",
        "\n",
        "\n",
        "print(\"\\n--> contenido del archivo - /content/sample_data/anscombe.json\")\n",
        "# abrir el archivo para lectura\n",
        "with open(\"/content/sample_data/anscombe.json\") as archivo:\n",
        "  lineas = archivo.readlines()\n",
        "  print(\"\\n--> contenido en lineas - /content/sample_data/anscombe.json\")\n",
        "  print(lineas)\n",
        "\n",
        "  # toma cada string de la lista lineas y lo despliega\n",
        "  for linea in lineas:\n",
        "    print(linea[:-1])"
      ]
    },
    {
      "cell_type": "code",
      "source": [
        "def crear_archivo(nombre):\n",
        "    # 1o  Abrir  el archivo en modo a - si ya existe añade al final 📝, si no lo  lo crea 💾\n",
        "    with open(nombre, 'w') as archivo:\n",
        "        N = int(input('Teclea cantidad de alumnos que quieras agregar:'))\n",
        "        for registro in range(N):\n",
        "\t\t\t\t\t# 2o Leer lo datos que se grabarán en el archivo archivo\n",
        "          name = input('Ingresa el nombre:')\n",
        "          edad = input('Ingresa la edad:')\n",
        "          carrera = input('Ingresa la Carrera:')\n",
        "          # Crear el registro del alumno - un string con \\n para que salte de linea\n",
        "          linea = name + ','+ edad + ','+ carrera + '\\n'\n",
        "          # Grabar la  linea del alumno en el archivo\n",
        "          archivo.write(linea)\n",
        "\n",
        "crear_archivo(\"TC1028_404.txt\")"
      ],
      "metadata": {
        "id": "LcG9ZxuRuuE8"
      },
      "execution_count": null,
      "outputs": []
    },
    {
      "cell_type": "code",
      "source": [
        "def crear_archivo(nombre):\n",
        "    # 1o  Abrir  el archivo en modo a - si ya existe añade al final 📝, si no lo  lo crea 💾\n",
        "    with open(nombre, 'a') as archivo:\n",
        "        N = int(input('Teclea cantidad de alumnos que quieras agregar:'))\n",
        "        for registro in range(N):\n",
        "\t\t\t\t\t# 2o Leer lo datos que se grabarán en el archivo archivo\n",
        "          name = input('Ingresa el nombre:')\n",
        "          edad = input('Ingresa la edad:')\n",
        "          carrera = input('Ingresa la Carrera:')\n",
        "          # Crear el registro del alumno - un string con \\n para que salte de linea\n",
        "          linea = name + ','+ edad + ','+ carrera + '\\n'\n",
        "          # Grabar la  linea del alumno en el archivo\n",
        "          archivo.write(linea)\n",
        "\n",
        "crear_archivo(\"TC1028_404.txt\")"
      ],
      "metadata": {
        "colab": {
          "base_uri": "https://localhost:8080/"
        },
        "id": "Fk6KMBXtuUVY",
        "outputId": "3a357413-5447-43f9-f0eb-83f0848c3137"
      },
      "execution_count": null,
      "outputs": [
        {
          "name": "stdout",
          "output_type": "stream",
          "text": [
            "Teclea cantidad de alumnos que quieras agregar:4\n",
            "Ingresa el nombre:Carolina\n",
            "Ingresa la edad:18\n",
            "Ingresa la Carrera:iq\n",
            "Ingresa el nombre:German\n",
            "Ingresa la edad:3\n",
            "Ingresa la Carrera:2\n",
            "Ingresa el nombre:Paola\n",
            "Ingresa la edad:22\n",
            "Ingresa la Carrera:iq\n",
            "Ingresa el nombre:Jose Luis\n",
            "Ingresa la edad:22\n",
            "Ingresa la Carrera:itc\n"
          ]
        }
      ]
    },
    {
      "cell_type": "code",
      "execution_count": null,
      "metadata": {
        "id": "GSm02vyXxv_o"
      },
      "outputs": [],
      "source": [
        "import os.path\n",
        "\n",
        "def main():\n",
        "    #escribe tu código abajo de esta línea\n",
        "    folder = \"assignments/02ArchivoCalculaPromedio/src/\"\n",
        "    with open(\"Data.txt\") as arch_ent:\n",
        "      with open(\"Resultados.txt\", \"w\") as arch_sal  :\n",
        "            acum = 0\n",
        "            contador = 0\n",
        "            for linea in arch_ent:\n",
        "              print(linea[:-1])\n",
        "              acum += int(linea[:-1])\n",
        "              # incrementar el contador de líneas en 1\n",
        "              contador += 1\n",
        "            # calcular el promedi\n",
        "            if contador > 0:\n",
        "              promedio  = acum / contador\n",
        "              arch_sal.write(str(promedio) + \"\\n\")\n",
        "              print(\"Promedio =\",promedio)\n",
        "\n",
        "\n",
        "\n",
        "\n",
        "\n",
        "\n",
        "if __name__=='__main__':\n",
        "    main()"
      ]
    },
    {
      "cell_type": "markdown",
      "metadata": {
        "id": "Tys4Y-bT0B1Y"
      },
      "source": [
        "```python\n",
        "import os.path\n",
        "\n",
        "def main():\n",
        "    #escribe tu código abajo de esta línea\n",
        "    folder = \"assignments/02ArchivoCalculaPromedio/src/\"\n",
        "    with open(os.path.join(folder,\"Data.txt\")) as archEnt :\n",
        "        with open(os.path.join(folder,\"Resultados.txt\"), \"w\") as archSal :\n",
        "            acum = 0\n",
        "            contador = 0\n",
        "            for linea in arch_ent:\n",
        "              print(linea[:-1])\n",
        "              acum += int(linea[:-1])\n",
        "              # incrementar el contador de líneas en 1\n",
        "              contador += 1\n",
        "            # calcular el promedi\n",
        "            if contador > 0:\n",
        "              promedio  = acum / contador\n",
        "              arch_sal.write(str(promedio) + \"\\n\")\n",
        "              print(\"Promedio =\",promedio)\n",
        "\n",
        "\n",
        "\n",
        "\n",
        "if __name__=='__main__':\n",
        "    main()\n",
        "```"
      ]
    },
    {
      "cell_type": "markdown",
      "metadata": {
        "id": "3OIiEN0dfOD9"
      },
      "source": [
        "- # Solución para Github Classroom"
      ]
    }
  ],
  "metadata": {
    "colab": {
      "provenance": [],
      "authorship_tag": "ABX9TyNn5/LJOlQ195/7PAwXkFxN",
      "include_colab_link": true
    },
    "kernelspec": {
      "display_name": "Python 3",
      "name": "python3"
    },
    "language_info": {
      "name": "python"
    }
  },
  "nbformat": 4,
  "nbformat_minor": 0
}