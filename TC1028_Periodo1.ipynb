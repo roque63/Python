{
  "cells": [
    {
      "cell_type": "markdown",
      "metadata": {
        "id": "view-in-github",
        "colab_type": "text"
      },
      "source": [
        "<a href=\"https://colab.research.google.com/github/roque63/Python/blob/main/TC1028_Periodo1.ipynb\" target=\"_parent\"><img src=\"https://colab.research.google.com/assets/colab-badge.svg\" alt=\"Open In Colab\"/></a>"
      ]
    },
    {
      "cell_type": "markdown",
      "metadata": {
        "id": "ySpwCOZOvpCf"
      },
      "source": [
        "\n",
        "# <center> **Apuntes de Python**\n",
        "\n",
        "![](data:image/png;base64,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)\n",
        "\n",
        "\n",
        "## <center> Por **Ma. Guadalupe Roque Díaz de León**\n",
        "<center>\n",
        "\n",
        "| Material cubierto | LUNES | JUEVES|\n",
        "|----------|----------|----------|\n",
        "| SEMANA1  | Instalación   | 1. videos,2. f\"string, Github   |\n",
        "| SEMANA2   | 3. math, 4.PENDAS  | Quiz,Practica Funciones Usuario\n",
        " |\n",
        "| SEMANA3    | ____   | ____   |\n",
        "| SEMANA4    | ____   | ____   |\n",
        "| SEMANA5    | ____   | ____   |\n"
      ]
    },
    {
      "cell_type": "markdown",
      "metadata": {
        "id": "FwVw1aTm2k1_"
      },
      "source": [
        "# **1. Revisa y estudia el material de los siguientes Links**\n",
        "\n",
        "# https://automatetheboringstuff.com/\n",
        "\n",
        "\n",
        "# https://automatetheboringstuff.com/chapter1/\n",
        "\n"
      ]
    },
    {
      "cell_type": "markdown",
      "metadata": {
        "id": "9EwhWk1Teflh"
      },
      "source": [
        "<details>\n",
        "  <summary>Elementos de un programa</summary>\n",
        "\n",
        "Reglas para nombrar las variables  \n",
        "\n",
        "Los nombres de variables se forman usando\n",
        "letras: a-z,\n",
        "digitos: 0-9\n",
        "guion bajo: _\n",
        "\n",
        "- estandar que vamos a usar - los nombres de las variables en minúscula\n",
        "y usar el _ para variables que se conforman de 2 o más  nombres,\n",
        "poner un _ entre nombres.\n",
        "\n",
        "Ejemplos de nombres de variables con estandar:\n",
        "- peso_computadora\n",
        "- peso_mochila\n",
        "- estado_civil\n",
        "- peso_kg\n",
        "- peso_libras\n",
        "- tipo_cambio_dolares_a_pesos\n",
        "- grados_centrigrados\n",
        "- peso\n",
        "- peso2\n",
        "- peso_mexico_2023\n",
        "- peso_promedio_hombres_monterrey_2023\n",
        "- peso_promedio_mujeres_monterrey_2023\n",
        "- precio_tomatillo_verde_soriana\n",
        "- precio_chilaquiles_con_chicharron\n",
        "- precio_hamburguesa_carls_jr\n",
        "- precio_papa_francesa_centrales\n",
        "- peso_gordita_tota\n",
        "- precio_gordita_tota_carnita_salsa_verde\n",
        "\n",
        "\n",
        "</details>\n",
        "\n"
      ]
    },
    {
      "cell_type": "code",
      "execution_count": null,
      "metadata": {
        "colab": {
          "base_uri": "https://localhost:8080/"
        },
        "id": "JzHMB7S45-qU",
        "outputId": "69ce4664-a12c-47dc-b74b-bdadd643f70e"
      },
      "outputs": [
        {
          "output_type": "stream",
          "name": "stdout",
          "text": [
            "Help on built-in function print in module builtins:\n",
            "\n",
            "print(...)\n",
            "    print(value, ..., sep=' ', end='\\n', file=sys.stdout, flush=False)\n",
            "    \n",
            "    Prints the values to a stream, or to sys.stdout by default.\n",
            "    Optional keyword arguments:\n",
            "    file:  a file-like object (stream); defaults to the current sys.stdout.\n",
            "    sep:   string inserted between values, default a space.\n",
            "    end:   string appended after the last value, default a newline.\n",
            "    flush: whether to forcibly flush the stream.\n",
            "\n"
          ]
        }
      ],
      "source": [
        "# desplegar la sintaxis y funcionamiento del print( )\n",
        "help(print)"
      ]
    },
    {
      "cell_type": "code",
      "execution_count": null,
      "metadata": {
        "colab": {
          "base_uri": "https://localhost:8080/"
        },
        "id": "z5wehUEol0-W",
        "outputId": "2bc3dd45-6117-46f3-e6fe-12f615e7f8ae"
      },
      "outputs": [
        {
          "output_type": "stream",
          "name": "stdout",
          "text": [
            "Bienvenidos al curso\n",
            "NO Usando el argumento sep del print deja un espacio\n"
          ]
        }
      ],
      "source": [
        "# Escribir, desplegar en la pantalla\n",
        "print(\"Bienvenidos al curso\")\n",
        "print(\"NO Usando el\",  \"argumento sep\", \"del print deja un espacio\")\n",
        "\n"
      ]
    },
    {
      "cell_type": "code",
      "execution_count": null,
      "metadata": {
        "colab": {
          "base_uri": "https://localhost:8080/"
        },
        "id": "043ptSMMdxpW",
        "outputId": "ab2f608d-4b81-4a7f-d813-0c344e2f2425"
      },
      "outputs": [
        {
          "output_type": "stream",
          "name": "stdout",
          "text": [
            "Usando el--->argumento sep--->del print\n"
          ]
        }
      ],
      "source": [
        "# cambiamos el separador a que no sea el espacio en blanco\n",
        "print(\"Usando el\",  \"argumento sep\", \"del print\", sep = \"--->\")"
      ]
    },
    {
      "cell_type": "code",
      "execution_count": null,
      "metadata": {
        "colab": {
          "base_uri": "https://localhost:8080/"
        },
        "id": "cOmbL3wXFSAI",
        "outputId": "79f62296-e83d-4a43-a9d1-a610a3383fc5"
      },
      "outputs": [
        {
          "output_type": "stream",
          "name": "stdout",
          "text": [
            "Lunes, Martes, Miércoles, Jueves, Ana Sofi\n",
            "Aaron\n",
            "Martínez\n",
            "\n",
            "\n",
            "José Luis\n",
            "¿Cuántos minutos haces \ta tu trabajo o escuela?\n"
          ]
        }
      ],
      "source": [
        "# print( ) sin salto de línea el argumento end se debe cambiar\n",
        "# con end = \" \", ahora no salta de línea\n",
        "print(\"Lunes,\", end = \" \")\n",
        "print(\"Martes,\", end = \" \")\n",
        "print(\"Miércoles,\", end = \" \")\n",
        "print(\"Jueves,\", end = \" \")\n",
        "print(\"Ana Sofi\")\n",
        "print(\"Aaron\\nMartínez\", end = \"\\n\\n\\n\")\n",
        "print(\"José Luis\")\n",
        "print(\"¿Cuántos minutos haces \\ta tu trabajo o escuela?\")"
      ]
    },
    {
      "cell_type": "code",
      "execution_count": null,
      "metadata": {
        "colab": {
          "base_uri": "https://localhost:8080/"
        },
        "id": "bFvT5s0-qJ9w",
        "outputId": "2ad4d9a2-fbd5-4cd4-e503-c3a3177a26ee"
      },
      "outputs": [
        {
          "name": "stdout",
          "output_type": "stream",
          "text": [
            "Chilaquiles del Jubileo son más sabrosos\n"
          ]
        }
      ],
      "source": [
        "# Concatenar strings, todos deben ser string\n",
        "cadena = \"Chilaquiles\" + \" del Jubileo\" + \" son más sabrosos\"\n",
        "print(cadena)"
      ]
    },
    {
      "cell_type": "code",
      "execution_count": null,
      "metadata": {
        "colab": {
          "base_uri": "https://localhost:8080/"
        },
        "id": "QUawgtC9qafR",
        "outputId": "d9d81315-b3ba-4936-82e7-8c1e6932446b"
      },
      "outputs": [
        {
          "output_type": "stream",
          "name": "stdout",
          "text": [
            "Chilaquiles de Centrales son buenos también\n"
          ]
        }
      ],
      "source": [
        "# esto es un string\n",
        "comida_deliciosa = \"Chilaquiles de Centrales son buenos también\"\n",
        "print(comida_deliciosa)"
      ]
    },
    {
      "cell_type": "code",
      "execution_count": null,
      "metadata": {
        "colab": {
          "base_uri": "https://localhost:8080/"
        },
        "id": "A-q0g2SUqhSd",
        "outputId": "15ca9cb4-9b3a-48d3-86ff-4064504e1123"
      },
      "outputs": [
        {
          "name": "stdout",
          "output_type": "stream",
          "text": [
            "Vamos a desayunar Huevos con Jamón\n"
          ]
        }
      ],
      "source": [
        "# los string también puede delimitarse con apostrofo '\n",
        "print('Vamos a desayunar Huevos con Jamón')\n"
      ]
    },
    {
      "cell_type": "code",
      "execution_count": null,
      "metadata": {
        "colab": {
          "base_uri": "https://localhost:8080/"
        },
        "id": "7vHp5wSRrDpG",
        "outputId": "410ec5d9-ecfe-4982-aea8-16f9e46fce4e"
      },
      "outputs": [
        {
          "name": "stdout",
          "output_type": "stream",
          "text": [
            "Holagrupo\n",
            "Hola  grupo\n",
            "Holagrupogrupogrupogrupogrupo\n",
            "HolaHolaHolaHolaHola  grupo\n"
          ]
        }
      ],
      "source": [
        "# concatenación de strings -  respeta los espacios en blanco\n",
        "print('Hola' + 'grupo')\n",
        "print('Hola' + '  grupo')"
      ]
    },
    {
      "cell_type": "code",
      "execution_count": null,
      "metadata": {
        "colab": {
          "base_uri": "https://localhost:8080/"
        },
        "id": "qEvu77Ayd19m",
        "outputId": "37feb167-11af-458e-917f-cf3183ef8c45"
      },
      "outputs": [
        {
          "name": "stdout",
          "output_type": "stream",
          "text": [
            "Holagrupogrupogrupogrupogrupo\n",
            "HolaHolaHolaHolaHola  grupo\n"
          ]
        }
      ],
      "source": [
        "# Replicar un string\n",
        "print('Hola'+'grupo' * 5)\n",
        "print('Hola' * 5 + '  grupo')"
      ]
    },
    {
      "cell_type": "code",
      "execution_count": null,
      "metadata": {
        "colab": {
          "base_uri": "https://localhost:8080/"
        },
        "id": "mHVXOfwarYcU",
        "outputId": "bf5eedf3-0b04-4b1a-8b14-671c5c08cfab"
      },
      "outputs": [
        {
          "name": "stdout",
          "output_type": "stream",
          "text": [
            "False\n"
          ]
        }
      ],
      "source": [
        "# Asignación - asignar un valor a una variable\n",
        "# asignando a una variable un valor entero - sin parte decimal\n",
        "a = 10\n",
        "# asignando a una variable un valor float - con parte decimal\n",
        "b = 10.5\n",
        "# comparación de igualdad ==\n",
        "# compara si el valor de la variable a es igual al valor de la variable b\n",
        "print(a == b)"
      ]
    },
    {
      "cell_type": "code",
      "execution_count": null,
      "metadata": {
        "colab": {
          "base_uri": "https://localhost:8080/"
        },
        "id": "aoZsc1vGCjxP",
        "outputId": "f69372c6-4013-40bf-e540-4ce70b600ebf"
      },
      "outputs": [
        {
          "name": "stdout",
          "output_type": "stream",
          "text": [
            "Help on method raw_input in module ipykernel.kernelbase:\n",
            "\n",
            "raw_input(prompt='') method of google.colab._kernel.Kernel instance\n",
            "    Forward raw_input to frontends\n",
            "    \n",
            "    Raises\n",
            "    ------\n",
            "    StdinNotImplementedError if active frontend doesn't support stdin.\n",
            "\n"
          ]
        }
      ],
      "source": [
        "# conocer qué hace alguna función usa el help(nombre_funcion )\n",
        "help(input)\n"
      ]
    },
    {
      "cell_type": "code",
      "source": [
        "help(print)"
      ],
      "metadata": {
        "colab": {
          "base_uri": "https://localhost:8080/"
        },
        "id": "5j6oQxVbnlVr",
        "outputId": "24e47d5f-69fd-4227-dcbc-752136b2796e"
      },
      "execution_count": null,
      "outputs": [
        {
          "output_type": "stream",
          "name": "stdout",
          "text": [
            "Help on built-in function print in module builtins:\n",
            "\n",
            "print(...)\n",
            "    print(value, ..., sep=' ', end='\\n', file=sys.stdout, flush=False)\n",
            "    \n",
            "    Prints the values to a stream, or to sys.stdout by default.\n",
            "    Optional keyword arguments:\n",
            "    file:  a file-like object (stream); defaults to the current sys.stdout.\n",
            "    sep:   string inserted between values, default a space.\n",
            "    end:   string appended after the last value, default a newline.\n",
            "    flush: whether to forcibly flush the stream.\n",
            "\n"
          ]
        }
      ]
    },
    {
      "cell_type": "code",
      "execution_count": null,
      "metadata": {
        "colab": {
          "base_uri": "https://localhost:8080/"
        },
        "id": "Ey39CvZNCjnF",
        "outputId": "0da87464-1238-44b4-f48d-35a2bfb11619"
      },
      "outputs": [
        {
          "output_type": "stream",
          "name": "stdout",
          "text": [
            "Teclea algo por favor!77\n",
            "77\n"
          ]
        }
      ],
      "source": [
        "# leer un valor desde el teclado, el input siempre retorna un valor str\n",
        "sabe = input(\"Teclea algo por favor!\" )\n",
        "print(sabe)"
      ]
    },
    {
      "cell_type": "code",
      "execution_count": null,
      "metadata": {
        "colab": {
          "base_uri": "https://localhost:8080/"
        },
        "id": "eZ2W-LnXCj1L",
        "outputId": "a6f4f08f-ba09-47b4-a6c8-2acb4fa05bc9"
      },
      "outputs": [
        {
          "output_type": "stream",
          "name": "stdout",
          "text": [
            "Teclea tu edad:18\n",
            "18\n"
          ]
        }
      ],
      "source": [
        "# Leer el valor y guardarlo en la variable edad, retorna string 😮\n",
        "edad = input(\"Teclea tu edad:\")\n",
        "\n",
        "# desplegar el valor de la variable edad en la consola, edad es string 😮\n",
        "print(edad)\n"
      ]
    },
    {
      "cell_type": "code",
      "execution_count": null,
      "metadata": {
        "colab": {
          "base_uri": "https://localhost:8080/"
        },
        "id": "OpCqUS8EFzH_",
        "outputId": "ceeb1ee1-c42e-444d-b74e-fbfd18101d80"
      },
      "outputs": [
        {
          "output_type": "execute_result",
          "data": {
            "text/plain": [
              "str"
            ]
          },
          "metadata": {},
          "execution_count": 12
        }
      ],
      "source": [
        "type(edad)"
      ]
    },
    {
      "cell_type": "code",
      "execution_count": null,
      "metadata": {
        "id": "1hOSk37GmO6b"
      },
      "outputs": [],
      "source": [
        "# esto es un comentario\n",
        "# Analisis\n",
        "# Datos de entrada:peso, altura\n",
        "# Datos de salida:imc\n",
        "# Procesos:calcular el imc usando la formula\n",
        "# imc = peso / estatura 2\n",
        "\n",
        "#Algoritmo pseudocodigo\n",
        "# 1. Leer peso, leer altura\n",
        "# 2. Calcular imc = peso / (estatura * estatura)\n",
        "#            imc = peso / estatura ** 2\n",
        "# 3. Desplegar imc\n"
      ]
    },
    {
      "cell_type": "code",
      "execution_count": null,
      "metadata": {
        "colab": {
          "base_uri": "https://localhost:8080/"
        },
        "id": "jCY7WmcrCj_B",
        "outputId": "687e027d-c9ae-40e4-c1ed-ccba00ce4af0"
      },
      "outputs": [
        {
          "output_type": "stream",
          "name": "stdout",
          "text": [
            "Teclea tu nombre:Ximena\n",
            "Teclea tu edad:17\n",
            "Teclea tu peso en kg:63.6\n",
            "Teclea tu estatura en mts:1.62\n",
            "Hola Ximena \n",
            "Tu edad es : 17 , muchas Felicidades\n",
            "Tu estatura es 1.62\n",
            "Tu imc es 24.234110653863738\n"
          ]
        }
      ],
      "source": [
        "\"\"\"\n",
        "Esto es un comentario de múltiples líneas\n",
        "inicia con 3 dobles comillas y termina con 3 dobles comillas\n",
        "Programa que calcula el imc\n",
        "Datos de entrada: nombre, edad, peso, estatura\n",
        "Datos de salida: mensajes para ingresar los datos de entrada\n",
        "saludos e imc\n",
        "\n",
        "\"\"\"\n",
        "\n",
        "# Leer los datos de entrada\n",
        "nombre = input(\"Teclea tu nombre:\")\n",
        "edad = int( input(\"Teclea tu edad:\"))\n",
        "peso = float(input(\"Teclea tu peso en kg:\"))\n",
        "estatura = float( input(\"Teclea tu estatura en mts:\"))\n",
        "\n",
        "\n",
        "# calcular el imc\n",
        "imc = peso / (estatura * estatura)\n",
        "\n",
        "\n",
        "# Desplegar los resultados\n",
        "# salto de renglon \"\\n\" dentro de un string\n",
        "print(\"Hola\", nombre,\"\\nTu edad es :\", edad, \", muchas Felicidades\")\n",
        "print(\"Tu estatura es\", estatura)\n",
        "print(\"Tu imc es\", imc)\n"
      ]
    },
    {
      "cell_type": "markdown",
      "metadata": {
        "id": "PdJ2awlPZDHq"
      },
      "source": [
        "# **2. format string - f\" string {expresion}\"**\n",
        "\n",
        "### Al mostrar un valor flotante usando print, se mostrará con muchas cifras decimales.\n",
        "\n",
        "Por ejemplo:\n",
        "\n",
        "print( 45 / 3.3)\n",
        "\n",
        "\n",
        "Es posible mostrar menos cifras decimales usando una cadena con formato, como se muestra enseguida.  \n",
        "\n",
        "import math\n",
        "\n",
        "![](https://experiencia21.tec.mx/courses/310212/files/107251291/preview)\n",
        "\n",
        "\n",
        "## Mas información en el siguiente link:\n",
        "\n",
        "# [string con formatos](https://arielortiz.info/rip3/#cadenas_formato)\n",
        "\n",
        "# Observa, revisa los siguientes ejemplos:\n"
      ]
    },
    {
      "cell_type": "code",
      "execution_count": null,
      "metadata": {
        "colab": {
          "base_uri": "https://localhost:8080/"
        },
        "id": "5K5Rgma-XAi5",
        "outputId": "01c1df66-a0c6-4b44-b5bc-75238810c0c6"
      },
      "outputs": [
        {
          "name": "stdout",
          "output_type": "stream",
          "text": [
            "Con 4 decimales 13.5135\n",
            "Con 2 decimales 13.51\n"
          ]
        }
      ],
      "source": [
        "# f - string desplegando 4 decimales y 2 decimales\n",
        "\n",
        "result = 45 / 3.33\n",
        "\n",
        "print(f'Con 4 decimales {result:.4f}')\n",
        "\n",
        "print(f'Con 2 decimales {result:.2f}')"
      ]
    },
    {
      "cell_type": "code",
      "execution_count": null,
      "metadata": {
        "colab": {
          "base_uri": "https://localhost:8080/"
        },
        "id": "8BH2bZrLbqLx",
        "outputId": "a00a6455-b511-4a5b-e83f-8709bebc5ee8"
      },
      "outputs": [
        {
          "name": "stdout",
          "output_type": "stream",
          "text": [
            "Hola el valor de result es 13.5135, Adios\n",
            "result =    13.5135Adios\n",
            "result =  13.51351 Adios\n",
            "result =       13.5Adios\n",
            "result =   13.51   Adios\n"
          ]
        }
      ],
      "source": [
        "print(f\"Hola el valor de result es {result:.4f}, Adios\")\n",
        "\n",
        "print(f\"result = {result:10.6}Adios\")\n",
        "\n",
        "print(f\"result = {result:^10.7}Adios\")\n",
        "\n",
        "print(f\"result = {result:10.3}Adios\")\n",
        "\n",
        "print(f\"result = {result:^10.4}Adios\")\n"
      ]
    },
    {
      "cell_type": "code",
      "execution_count": null,
      "metadata": {
        "colab": {
          "base_uri": "https://localhost:8080/"
        },
        "id": "JfF5PkVwbf9L",
        "outputId": "f9777b3d-e515-4050-9df0-5bbc12bef1e2"
      },
      "outputs": [
        {
          "name": "stdout",
          "output_type": "stream",
          "text": [
            "Teclea tu nombre:Tacos Chespirito\n",
            "Hola     Tacos Chespirito\n",
            "Hola Tacos Chespirito    \n",
            "Hola Tacos Chespirito    Adios\n",
            "Hola     Tacos ChespiritoAdios\n",
            "Hola   Tacos Chespirito  Adios\n"
          ]
        }
      ],
      "source": [
        "nombre = input(\"Teclea tu nombre:\")\n",
        "# formatos con alineación en 20 espacios\n",
        "print(f\"Hola {nombre:>20}\")\n",
        "print(f\"Hola {nombre:<20}\")\n",
        "print(f\"Hola {nombre:<20}Adios\")\n",
        "print(f\"Hola {nombre:>20}Adios\")\n",
        "print(f\"Hola {nombre:^20}Adios\")"
      ]
    },
    {
      "cell_type": "code",
      "execution_count": null,
      "metadata": {
        "colab": {
          "base_uri": "https://localhost:8080/"
        },
        "id": "33iRS9iyGGKX",
        "outputId": "830ce5bc-c52d-43e8-f6d0-9754463bf3fe"
      },
      "outputs": [
        {
          "name": "stdout",
          "output_type": "stream",
          "text": [
            "precio $333,333,333\n"
          ]
        }
      ],
      "source": [
        "# formato para desplegar con , en los miles\n",
        "precio = 333333333\n",
        "print(f\"precio ${precio:,d}\")"
      ]
    },
    {
      "cell_type": "code",
      "execution_count": null,
      "metadata": {
        "colab": {
          "base_uri": "https://localhost:8080/"
        },
        "id": "au9lahgv3prP",
        "outputId": "aa0c42df-001e-487b-a098-246650e59154"
      },
      "outputs": [
        {
          "name": "stdout",
          "output_type": "stream",
          "text": [
            "Modelo ********TEC21********\n"
          ]
        }
      ],
      "source": [
        "# formato para centrar un que queremos desplegar en 21 espacios, con relleno de *\n",
        "uni = \"TEC21\"\n",
        "print(f\"Modelo {uni:*^21}\")"
      ]
    },
    {
      "cell_type": "code",
      "execution_count": null,
      "metadata": {
        "colab": {
          "base_uri": "https://localhost:8080/"
        },
        "id": "1Zu3qcehBqYv",
        "outputId": "3c700517-6abe-4a5b-e5e0-6860909d67f5"
      },
      "outputs": [
        {
          "name": "stdout",
          "output_type": "stream",
          "text": [
            "Total sin dcto.  $ 10,000\n",
            "Descuento        $  1,000\n",
            "Total a pagar    $  9,000\n"
          ]
        }
      ],
      "source": [
        "# Datos de salida:\n",
        "total_sin_descuento = 10000\n",
        "monto_descuento = 1000\n",
        "total_pagar = total_sin_descuento - monto_descuento\n",
        "\n",
        "\n",
        "print(f\"Total sin dcto.  ${total_sin_descuento:>7,}\")\n",
        "print(f\"Descuento        ${monto_descuento:>7,}\")\n",
        "print(f\"Total a pagar    ${total_pagar:>7,}\")\n"
      ]
    },
    {
      "cell_type": "markdown",
      "metadata": {
        "id": "LdeysSG8K93E"
      },
      "source": [
        "# **3. funciones predefinidas en python**\n",
        "  \n",
        "- Estudio Previo: Revisa, analiza el siguiente video 🧐-\n",
        "\n",
        "[![Funciones predefinidas en Python](https://i.ytimg.com/vi/xJLj6fWfw6k/hqdefault.jpg?sqp=-oaymwEXCNACELwBSFryq4qpAwkIARUAAIhCGAE=&rs=AOn4CLAQoJP7sPSckympQUrvktFSMuGwDA)](https://www.youtube.com/watch?v=xJLj6fWfw6k)\n",
        "\n"
      ]
    },
    {
      "cell_type": "code",
      "execution_count": null,
      "metadata": {
        "colab": {
          "base_uri": "https://localhost:8080/"
        },
        "id": "NihpAJDq1u3x",
        "outputId": "50125d05-57cf-4453-f574-1ae020d46fc7"
      },
      "outputs": [
        {
          "name": "stdout",
          "output_type": "stream",
          "text": [
            "Help on built-in module math:\n",
            "\n",
            "NAME\n",
            "    math\n",
            "\n",
            "DESCRIPTION\n",
            "    This module provides access to the mathematical functions\n",
            "    defined by the C standard.\n",
            "\n",
            "FUNCTIONS\n",
            "    acos(x, /)\n",
            "        Return the arc cosine (measured in radians) of x.\n",
            "        \n",
            "        The result is between 0 and pi.\n",
            "    \n",
            "    acosh(x, /)\n",
            "        Return the inverse hyperbolic cosine of x.\n",
            "    \n",
            "    asin(x, /)\n",
            "        Return the arc sine (measured in radians) of x.\n",
            "        \n",
            "        The result is between -pi/2 and pi/2.\n",
            "    \n",
            "    asinh(x, /)\n",
            "        Return the inverse hyperbolic sine of x.\n",
            "    \n",
            "    atan(x, /)\n",
            "        Return the arc tangent (measured in radians) of x.\n",
            "        \n",
            "        The result is between -pi/2 and pi/2.\n",
            "    \n",
            "    atan2(y, x, /)\n",
            "        Return the arc tangent (measured in radians) of y/x.\n",
            "        \n",
            "        Unlike atan(y/x), the signs of both x and y are considered.\n",
            "    \n",
            "    atanh(x, /)\n",
            "        Return the inverse hyperbolic tangent of x.\n",
            "    \n",
            "    ceil(x, /)\n",
            "        Return the ceiling of x as an Integral.\n",
            "        \n",
            "        This is the smallest integer >= x.\n",
            "    \n",
            "    comb(n, k, /)\n",
            "        Number of ways to choose k items from n items without repetition and without order.\n",
            "        \n",
            "        Evaluates to n! / (k! * (n - k)!) when k <= n and evaluates\n",
            "        to zero when k > n.\n",
            "        \n",
            "        Also called the binomial coefficient because it is equivalent\n",
            "        to the coefficient of k-th term in polynomial expansion of the\n",
            "        expression (1 + x)**n.\n",
            "        \n",
            "        Raises TypeError if either of the arguments are not integers.\n",
            "        Raises ValueError if either of the arguments are negative.\n",
            "    \n",
            "    copysign(x, y, /)\n",
            "        Return a float with the magnitude (absolute value) of x but the sign of y.\n",
            "        \n",
            "        On platforms that support signed zeros, copysign(1.0, -0.0)\n",
            "        returns -1.0.\n",
            "    \n",
            "    cos(x, /)\n",
            "        Return the cosine of x (measured in radians).\n",
            "    \n",
            "    cosh(x, /)\n",
            "        Return the hyperbolic cosine of x.\n",
            "    \n",
            "    degrees(x, /)\n",
            "        Convert angle x from radians to degrees.\n",
            "    \n",
            "    dist(p, q, /)\n",
            "        Return the Euclidean distance between two points p and q.\n",
            "        \n",
            "        The points should be specified as sequences (or iterables) of\n",
            "        coordinates.  Both inputs must have the same dimension.\n",
            "        \n",
            "        Roughly equivalent to:\n",
            "            sqrt(sum((px - qx) ** 2.0 for px, qx in zip(p, q)))\n",
            "    \n",
            "    erf(x, /)\n",
            "        Error function at x.\n",
            "    \n",
            "    erfc(x, /)\n",
            "        Complementary error function at x.\n",
            "    \n",
            "    exp(x, /)\n",
            "        Return e raised to the power of x.\n",
            "    \n",
            "    expm1(x, /)\n",
            "        Return exp(x)-1.\n",
            "        \n",
            "        This function avoids the loss of precision involved in the direct evaluation of exp(x)-1 for small x.\n",
            "    \n",
            "    fabs(x, /)\n",
            "        Return the absolute value of the float x.\n",
            "    \n",
            "    factorial(x, /)\n",
            "        Find x!.\n",
            "        \n",
            "        Raise a ValueError if x is negative or non-integral.\n",
            "    \n",
            "    floor(x, /)\n",
            "        Return the floor of x as an Integral.\n",
            "        \n",
            "        This is the largest integer <= x.\n",
            "    \n",
            "    fmod(x, y, /)\n",
            "        Return fmod(x, y), according to platform C.\n",
            "        \n",
            "        x % y may differ.\n",
            "    \n",
            "    frexp(x, /)\n",
            "        Return the mantissa and exponent of x, as pair (m, e).\n",
            "        \n",
            "        m is a float and e is an int, such that x = m * 2.**e.\n",
            "        If x is 0, m and e are both 0.  Else 0.5 <= abs(m) < 1.0.\n",
            "    \n",
            "    fsum(seq, /)\n",
            "        Return an accurate floating point sum of values in the iterable seq.\n",
            "        \n",
            "        Assumes IEEE-754 floating point arithmetic.\n",
            "    \n",
            "    gamma(x, /)\n",
            "        Gamma function at x.\n",
            "    \n",
            "    gcd(*integers)\n",
            "        Greatest Common Divisor.\n",
            "    \n",
            "    hypot(...)\n",
            "        hypot(*coordinates) -> value\n",
            "        \n",
            "        Multidimensional Euclidean distance from the origin to a point.\n",
            "        \n",
            "        Roughly equivalent to:\n",
            "            sqrt(sum(x**2 for x in coordinates))\n",
            "        \n",
            "        For a two dimensional point (x, y), gives the hypotenuse\n",
            "        using the Pythagorean theorem:  sqrt(x*x + y*y).\n",
            "        \n",
            "        For example, the hypotenuse of a 3/4/5 right triangle is:\n",
            "        \n",
            "            >>> hypot(3.0, 4.0)\n",
            "            5.0\n",
            "    \n",
            "    isclose(a, b, *, rel_tol=1e-09, abs_tol=0.0)\n",
            "        Determine whether two floating point numbers are close in value.\n",
            "        \n",
            "          rel_tol\n",
            "            maximum difference for being considered \"close\", relative to the\n",
            "            magnitude of the input values\n",
            "          abs_tol\n",
            "            maximum difference for being considered \"close\", regardless of the\n",
            "            magnitude of the input values\n",
            "        \n",
            "        Return True if a is close in value to b, and False otherwise.\n",
            "        \n",
            "        For the values to be considered close, the difference between them\n",
            "        must be smaller than at least one of the tolerances.\n",
            "        \n",
            "        -inf, inf and NaN behave similarly to the IEEE 754 Standard.  That\n",
            "        is, NaN is not close to anything, even itself.  inf and -inf are\n",
            "        only close to themselves.\n",
            "    \n",
            "    isfinite(x, /)\n",
            "        Return True if x is neither an infinity nor a NaN, and False otherwise.\n",
            "    \n",
            "    isinf(x, /)\n",
            "        Return True if x is a positive or negative infinity, and False otherwise.\n",
            "    \n",
            "    isnan(x, /)\n",
            "        Return True if x is a NaN (not a number), and False otherwise.\n",
            "    \n",
            "    isqrt(n, /)\n",
            "        Return the integer part of the square root of the input.\n",
            "    \n",
            "    lcm(*integers)\n",
            "        Least Common Multiple.\n",
            "    \n",
            "    ldexp(x, i, /)\n",
            "        Return x * (2**i).\n",
            "        \n",
            "        This is essentially the inverse of frexp().\n",
            "    \n",
            "    lgamma(x, /)\n",
            "        Natural logarithm of absolute value of Gamma function at x.\n",
            "    \n",
            "    log(...)\n",
            "        log(x, [base=math.e])\n",
            "        Return the logarithm of x to the given base.\n",
            "        \n",
            "        If the base not specified, returns the natural logarithm (base e) of x.\n",
            "    \n",
            "    log10(x, /)\n",
            "        Return the base 10 logarithm of x.\n",
            "    \n",
            "    log1p(x, /)\n",
            "        Return the natural logarithm of 1+x (base e).\n",
            "        \n",
            "        The result is computed in a way which is accurate for x near zero.\n",
            "    \n",
            "    log2(x, /)\n",
            "        Return the base 2 logarithm of x.\n",
            "    \n",
            "    modf(x, /)\n",
            "        Return the fractional and integer parts of x.\n",
            "        \n",
            "        Both results carry the sign of x and are floats.\n",
            "    \n",
            "    nextafter(x, y, /)\n",
            "        Return the next floating-point value after x towards y.\n",
            "    \n",
            "    perm(n, k=None, /)\n",
            "        Number of ways to choose k items from n items without repetition and with order.\n",
            "        \n",
            "        Evaluates to n! / (n - k)! when k <= n and evaluates\n",
            "        to zero when k > n.\n",
            "        \n",
            "        If k is not specified or is None, then k defaults to n\n",
            "        and the function returns n!.\n",
            "        \n",
            "        Raises TypeError if either of the arguments are not integers.\n",
            "        Raises ValueError if either of the arguments are negative.\n",
            "    \n",
            "    pow(x, y, /)\n",
            "        Return x**y (x to the power of y).\n",
            "    \n",
            "    prod(iterable, /, *, start=1)\n",
            "        Calculate the product of all the elements in the input iterable.\n",
            "        \n",
            "        The default start value for the product is 1.\n",
            "        \n",
            "        When the iterable is empty, return the start value.  This function is\n",
            "        intended specifically for use with numeric values and may reject\n",
            "        non-numeric types.\n",
            "    \n",
            "    radians(x, /)\n",
            "        Convert angle x from degrees to radians.\n",
            "    \n",
            "    remainder(x, y, /)\n",
            "        Difference between x and the closest integer multiple of y.\n",
            "        \n",
            "        Return x - n*y where n*y is the closest integer multiple of y.\n",
            "        In the case where x is exactly halfway between two multiples of\n",
            "        y, the nearest even value of n is used. The result is always exact.\n",
            "    \n",
            "    sin(x, /)\n",
            "        Return the sine of x (measured in radians).\n",
            "    \n",
            "    sinh(x, /)\n",
            "        Return the hyperbolic sine of x.\n",
            "    \n",
            "    sqrt(x, /)\n",
            "        Return the square root of x.\n",
            "    \n",
            "    tan(x, /)\n",
            "        Return the tangent of x (measured in radians).\n",
            "    \n",
            "    tanh(x, /)\n",
            "        Return the hyperbolic tangent of x.\n",
            "    \n",
            "    trunc(x, /)\n",
            "        Truncates the Real x to the nearest Integral toward 0.\n",
            "        \n",
            "        Uses the __trunc__ magic method.\n",
            "    \n",
            "    ulp(x, /)\n",
            "        Return the value of the least significant bit of the float x.\n",
            "\n",
            "DATA\n",
            "    e = 2.718281828459045\n",
            "    inf = inf\n",
            "    nan = nan\n",
            "    pi = 3.141592653589793\n",
            "    tau = 6.283185307179586\n",
            "\n",
            "FILE\n",
            "    (built-in)\n",
            "\n",
            "\n"
          ]
        }
      ],
      "source": [
        "# añadir al inicio el import math para cargar la librería math 📊\n",
        "import math\n",
        "\n",
        "help(math)\n"
      ]
    },
    {
      "cell_type": "code",
      "execution_count": null,
      "metadata": {
        "colab": {
          "base_uri": "https://localhost:8080/"
        },
        "id": "A_OMCsvW312b",
        "outputId": "4181126c-71c0-4bc1-be12-305e5000c39c"
      },
      "outputs": [
        {
          "name": "stdout",
          "output_type": "stream",
          "text": [
            "3.141592653589793\n",
            "pi = 3.14\n",
            "e = 2.7183\n",
            "raiz(2) = 1.4142135623730951\n"
          ]
        }
      ],
      "source": [
        "import math\n",
        "\n",
        "# al usar las funciones poner math.pi, math.sqrt( )\n",
        "print(math.pi)\n",
        "print(f\"pi = {math.pi:.2f}\")\n",
        "print(f\"e = {math.e:.4f}\")\n",
        "print(f\"raiz(2) = {math.sqrt(2)}\")"
      ]
    },
    {
      "cell_type": "code",
      "execution_count": null,
      "metadata": {
        "colab": {
          "base_uri": "https://localhost:8080/"
        },
        "id": "wzH9OEGUeFAN",
        "outputId": "c7ebaf07-8f8b-405f-8696-825241f2adfd"
      },
      "outputs": [
        {
          "name": "stdout",
          "output_type": "stream",
          "text": [
            "3.141592653589793\n",
            "pi = 3.14\n",
            "e = 2.7183\n",
            "raiz(2) = 1.4142135623730951\n"
          ]
        }
      ],
      "source": [
        "from math import pi, e, sqrt\n",
        "\n",
        "# al usar las funciones poner sin math.\n",
        "print(pi)\n",
        "print(f\"pi = {pi:.2f}\")\n",
        "print(f\"e = {e:.4f}\")\n",
        "print(f\"raiz(2) = {sqrt(2)}\")"
      ]
    },
    {
      "cell_type": "code",
      "execution_count": null,
      "metadata": {
        "colab": {
          "base_uri": "https://localhost:8080/"
        },
        "id": "eEkHFfFSv4tS",
        "outputId": "8ad1c893-f892-4389-95a0-97ad76a53fd0"
      },
      "outputs": [
        {
          "name": "stdout",
          "output_type": "stream",
          "text": [
            "2.23606797749979\n",
            "100000.0\n",
            "3.141592653589793\n"
          ]
        }
      ],
      "source": [
        "from math import sqrt, pow, pi\n",
        "# de estar forma NO NO se tiene que poner el prefijo math.\n",
        "print(sqrt(5))\n",
        "print(pow(10, 5))\n",
        "print(pi)"
      ]
    },
    {
      "cell_type": "code",
      "execution_count": null,
      "metadata": {
        "colab": {
          "base_uri": "https://localhost:8080/"
        },
        "id": "z4Oes4BE8XjB",
        "outputId": "df1ad220-6c17-43fd-cfea-782a5d3434b8"
      },
      "outputs": [
        {
          "name": "stdout",
          "output_type": "stream",
          "text": [
            "Help on built-in function round in module builtins:\n",
            "\n",
            "round(number, ndigits=None)\n",
            "    Round a number to a given precision in decimal digits.\n",
            "    \n",
            "    The return value is an integer if ndigits is omitted or None.  Otherwise\n",
            "    the return value has the same type as the number.  ndigits may be negative.\n",
            "\n"
          ]
        }
      ],
      "source": [
        "# Qué hace la función round( ) ? No esta dentro de math,\n",
        "# round( )  es una función ya incluida en python\n",
        "help(round)\n"
      ]
    },
    {
      "cell_type": "code",
      "execution_count": null,
      "metadata": {
        "colab": {
          "base_uri": "https://localhost:8080/"
        },
        "id": "PO2bjpG58kw1",
        "outputId": "591f7201-e13e-4b29-b4af-0b255241440b"
      },
      "outputs": [
        {
          "name": "stdout",
          "output_type": "stream",
          "text": [
            "5.1235\n"
          ]
        }
      ],
      "source": [
        "# ejemplo, observa cuándo SI redondea 😍 !!\n",
        "print( round(5.1234555,4) )"
      ]
    },
    {
      "cell_type": "code",
      "execution_count": null,
      "metadata": {
        "colab": {
          "base_uri": "https://localhost:8080/"
        },
        "id": "0AOupANY8tIk",
        "outputId": "862bd2e7-19b7-4eb2-c561-3fc0c133fce8"
      },
      "outputs": [
        {
          "name": "stdout",
          "output_type": "stream",
          "text": [
            "5.1234\n"
          ]
        }
      ],
      "source": [
        "# ejemplo, observa cuándo NO redondea 🥺!!\n",
        "print( round(5.1234455,4) )"
      ]
    },
    {
      "cell_type": "code",
      "execution_count": null,
      "metadata": {
        "colab": {
          "base_uri": "https://localhost:8080/"
        },
        "id": "RuYnr5WRy1Kp",
        "outputId": "681ebff9-4d52-403e-eae8-f3c2a9d897b4"
      },
      "outputs": [
        {
          "name": "stdout",
          "output_type": "stream",
          "text": [
            "5\n",
            "5\n",
            "6\n"
          ]
        }
      ],
      "source": [
        "# Si no se le envia un 2o argumento,\n",
        "# solo retorna la parte entera con redondeo\n",
        "print( round(5.1234455))\n",
        "print( round(5.4))\n",
        "print( round(5.5))"
      ]
    },
    {
      "cell_type": "code",
      "execution_count": null,
      "metadata": {
        "colab": {
          "base_uri": "https://localhost:8080/"
        },
        "id": "fOlhAvEty9AD",
        "outputId": "1c41f7f2-2871-44e7-ebed-45411f20b854"
      },
      "outputs": [
        {
          "name": "stdout",
          "output_type": "stream",
          "text": [
            "6.0\n",
            "5.0\n",
            "6.0\n"
          ]
        }
      ],
      "source": [
        "print( round(5.5234455,0) )\n",
        "print( round(5.4234455,0) )\n",
        "print( round(5.5,0) )"
      ]
    },
    {
      "cell_type": "markdown",
      "metadata": {
        "id": "RMf6Gye-XwUF"
      },
      "source": [
        "# **4. PEMDAS**\n",
        "\n",
        "\n",
        "# Jerarquia de evaluación\n",
        "|  | operador | Descripción |\n",
        "| ----------- | ----------- | ----------- |\n",
        "| 1\t| ( ) |\tparéntesis para agrupar |\n",
        "| 2 |\t** |\texponenciación |\n",
        "| 3\t| +, -\t| positivo, negativo (unarios) |\n",
        "| 4\t| *, /, //, %\t| multiplicación, división con decimales , división  entera y residuo |\n",
        "| 5\t| +, -\t| suma, resta |\n"
      ]
    },
    {
      "cell_type": "code",
      "execution_count": null,
      "metadata": {
        "colab": {
          "base_uri": "https://localhost:8080/"
        },
        "id": "B5tvPcUBtQvk",
        "outputId": "49088e7f-abb3-4590-eff0-d69d5688798a"
      },
      "outputs": [
        {
          "output_type": "stream",
          "name": "stdout",
          "text": [
            "Cantidad de  🌮 entre 3 personas 👩🏻‍⚖️🧑🏻‍💻👩🏻‍⚖️  🌮🌮\n",
            "Me sobran 🌮🌮\n"
          ]
        }
      ],
      "source": [
        "# División entera, repartir 8 ⚽️ entre 3 personas 👩🏻‍⚖️🧑🏻‍💻👩🏻‍⚖️\n",
        "cant_balones = 8 // 3\n",
        "# calcular el residuo de repartir 8 ⚽️ entre 3 personas 👩🏻‍⚖️🧑🏻‍💻👩🏻‍⚖️\n",
        "balones_sobrantes = 8 % 3\n",
        "print(\"Cantidad de  🌮 entre 3 personas 👩🏻‍⚖️🧑🏻‍💻👩🏻‍⚖️ \", cant_balones *  \"🌮\")\n",
        "print(\"Me sobran\",balones_sobrantes *  \"🌮\")"
      ]
    },
    {
      "cell_type": "code",
      "execution_count": null,
      "metadata": {
        "colab": {
          "base_uri": "https://localhost:8080/"
        },
        "id": "BW-b3dbL7aIe",
        "outputId": "bdbc7ba1-e4c0-43cb-9f4d-63b24bd8539e"
      },
      "outputs": [
        {
          "data": {
            "text/plain": [
              "9.233333333333334"
            ]
          },
          "execution_count": 27,
          "metadata": {},
          "output_type": "execute_result"
        }
      ],
      "source": [
        "# evalua la siguiente expresión aplicando la jerarquia\n",
        "2 ** 3 / 4 + 4 ** 2 / 3 - 3 ** 1 / 5 + 5 ** 1 / 2"
      ]
    },
    {
      "cell_type": "code",
      "execution_count": null,
      "metadata": {
        "colab": {
          "base_uri": "https://localhost:8080/"
        },
        "id": "l0rrNlFD7k8T",
        "outputId": "12c33bf8-6896-47a5-8bef-6c0038cc829e"
      },
      "outputs": [
        {
          "data": {
            "text/plain": [
              "9.716666666666667"
            ]
          },
          "execution_count": 28,
          "metadata": {},
          "output_type": "execute_result"
        }
      ],
      "source": [
        "# evalua la siguiente expresión aplicando la jerarquia\n",
        "(2 + 3 / 4 )+ (4 + 2 / 3) - (3 + 1 / 5) + (5 +( 1 / 2))\n"
      ]
    },
    {
      "cell_type": "code",
      "execution_count": null,
      "metadata": {
        "colab": {
          "base_uri": "https://localhost:8080/"
        },
        "id": "2kGTDxBD74O1",
        "outputId": "65e8f4bb-644c-4dd5-f7d6-d693db35795e"
      },
      "outputs": [
        {
          "data": {
            "text/plain": [
              "6.066666666666666"
            ]
          },
          "execution_count": 29,
          "metadata": {},
          "output_type": "execute_result"
        }
      ],
      "source": [
        "# evalua la siguiente expresión aplicando la jerarquia\n",
        "(2 * 3 / 4 )+ (4 * 2 / 3) - (3 * 1 / 5) + (5 *( 1 / 2))\n"
      ]
    },
    {
      "cell_type": "code",
      "execution_count": null,
      "metadata": {
        "colab": {
          "base_uri": "https://localhost:8080/"
        },
        "id": "nBUmf3EU8cyu",
        "outputId": "3d451cff-9d53-4cf5-d04a-0e540cb08107"
      },
      "outputs": [
        {
          "data": {
            "text/plain": [
              "6.0667"
            ]
          },
          "execution_count": 30,
          "metadata": {},
          "output_type": "execute_result"
        }
      ],
      "source": [
        "# evalua la siguiente expresión aplicando la jerarquia\n",
        "\n",
        "round((2 * 3 / 4 )+ (4 * 2 / 3) - (3 * 1 / 5) + (5 *( 1 / 2))\n",
        ",4)"
      ]
    },
    {
      "cell_type": "markdown",
      "metadata": {
        "id": "NuGJzCDeKOa7"
      },
      "source": [
        "- Ayuda para el ejercicio Cuenta Bancaria\n",
        "\n",
        "- se multiplica por 0.925 porque el banco cobra 7.5 %\n",
        "  -100 - 7.5 = 92.5 / 100 = 0.925\n",
        "\n",
        "Dame el saldo del mes anterior: 100.1\n",
        "\n",
        "Dame los ingresos: 57.38\n",
        "\n",
        "Dame los egresos: 5.23\n",
        "\n",
        "Dame el número de cheques: 2\n",
        "\n",
        "El saldo final de la cuenta es: 116.78125\n",
        "\n",
        "\n",
        "1º descubre que operaciones debes llevar a cabo para obener el saldo final\n",
        "- esta es una forma\n",
        "  - (100.1 + 57.38 - (5.23 + 2 * 13) ) * 0.925\n",
        "- otra forma\n",
        "  - (100.1 + 57.38 - 5.23 - 2 * 13)  * 0.925\n",
        "- otra forma ... piensa otra forma  😊\n",
        "\n",
        "2º cambia la expresión ahora usando los nombres de variables que usaste para ingresar los datos de entrada:\n",
        "- Ejemplo -\n",
        "  - saldo_final = (saldo_anterior  + ingresos - (egresos +  cantidad_cheques * 13) ) * 0.925\n",
        "  - saldo_final = (saldo_anterior  + ingresos - egresos -  cantidad_cheques * 13 ) * 0.925\n",
        "\n"
      ]
    },
    {
      "cell_type": "code",
      "execution_count": null,
      "metadata": {
        "colab": {
          "base_uri": "https://localhost:8080/"
        },
        "id": "vZWlifihoE0D",
        "outputId": "23cd1e72-4d67-49c4-a2c2-3e1f3cc64836"
      },
      "outputs": [
        {
          "name": "stdout",
          "output_type": "stream",
          "text": [
            "2.4270509831248424\n"
          ]
        }
      ],
      "source": [
        "import math\n",
        "\n",
        "var_phi = (1 + math.sqrt(5) ) / 2\n",
        "\n",
        "print(var_phi * 1.5)\n"
      ]
    },
    {
      "cell_type": "markdown",
      "metadata": {
        "id": "q0_gUYp0667-"
      },
      "source": [
        "# **5. Organizar un programa con funciones**\n",
        "\n",
        "## Tema - programas estructurados con funciones - modulos\n",
        "\n",
        "- En los siguientes videos y en el capítulo del libro  \n",
        "  [Capítulo 3 del libro Automate the Boring Stuff with Python que se encuentra en](https://automatetheboringstuff.com/chapter3)   \n",
        "  asegúrate de aprender y comprender lo siguiente:\n",
        "  - ¿Cómo se define una **función** en python?\n",
        "  - ¿Qué son los **parámetros**, qué son los **argumentos**?\n",
        "  - ¿Qué es un valor de retorno?\n",
        "  - ¿Cómo se usa el estatuto **return**?\n",
        "  - A qué se refiere el alcance **local y global** de una variable\n",
        "  - ¿Qué pasa si tienes una variable global y una local con el mismo nombre?\n",
        "  - Para qué sirve el estatuto _**global**_ en Python\n",
        "\n",
        "\n",
        "  - [![](https://i.ytimg.com/vi/WB4hJJkfhLU/hqdefault.jpg?sqp=-oaymwEXCNACELwBSFryq4qpAwkIARUAAIhCGAE=&rs=AOn4CLCHbhPAeNRv67GF9kT2eX71k6-XIA)](https://www.youtube.com/watch?v=WB4hJJkfhLU) 5.1\n",
        "\n",
        "  - [![](data:image/webp;base64,UklGRl4UAABXRUJQVlA4IFIUAABQYACdASpQAbwAPt1mrE+opaQiJhiMQRAbiWRu401KSv4Xuz7n/g/KB8/13+G/lbeB+699D0Mf2ndfeaHzdPUD0UP/X9pzoqfWm/yuDQ/4Dt8/33ijYIBMu5f+V69f7Tvh+Wuoc73tCPb/7156n1/mxpZczD0iP9XyZ6i3SY9FU5Ms5hR9Cuy/sqQ4DrjZiG58aTixxY4rr2l1jKN+7ifuTlo4sg1ovmmTXxauFTv6KbC82ECWpqupOHqpvydtCOe+c0g5bp/ZKbXRD/xGzl/hCjhywWnSoJcrtOb3oc4C68HGsqee/pE2/nfm9IFsz/kkK+Ur/Fl158KesSM+lj9Gq/fX80dW31Bn2zULdnvqrqEOBFrQsgEILYXUwy1KXrYSqj0xBzCfis7fuHXDx6ASU0Vz7YtpZdlUNSbLFc7pqyMh9qZq2pxq5KTWdZp+neetHRWb6tzjyus1U4kidkq1l6lvzYct+3iiFzW48ZagewjPq4QJ/M+3gjtQtv5zwfd9CVoUVJgiKH1PFJhjo3z48dVecmiPDvWIZOrrwxuxmIR3uHI8LfDhvtHUtJJEEWoloeH9yOlI0FfaDYzpLT9tZ5lRsjECs1nl6kzjQi3C/qhxbNcaRhFLcK7R8Iac9TaHTv6N7PuZM/NSStXCoH9G9n3IP1CWDtU1EAHK52zQ4pCtmIt6wZpW6jEPHUEl6ZbrABuRSxo6Y26rZ6POZ50jzOucnYuHVQg5qLcCOikQ5a30y4dlQBrjsNLtIkbfer0j+2mRvGguiV9rE+peui6dP0+zr4ZxT2MklAwLJsKSP1hPAz5lQ+aQrc5xV2KdfHObwIVyZ6FzW2JtpHzgeRUCu9KP2/Q2WgBWWbER3cN+WeazAbTBgKWnvafH9A4FQGQagbyPYOJES0M/JTp/YYdfKLgZOXNDutA7qMuFtJkASlzDjlXfbxwsodjdRY2k4Ima5lj+E8Wike0G0vJ8+a28yLdGqGEu/z9MOwftPobxJrYnDMzDH10g0dLGmw7vnP0Hu4si/v3a+5NUSAD+9KTH0ZtyJ5UFJBzb9jEwmvhHELVfCIJrdKd+u1xqt7vb9KS51Vu7zxcF/0GIUUeJXSKDik9y4U0b1+dkKlQGmaUQAAAAAAlfwSDsxAAgyee8kEckBy90CTVwJJRdixYb9fdMBGwo/eXMdBP91fL816pdmKvP2RLVGjYyFFVxsC7mE0F/tNLehVNP5sNY2/xFAXJqBC5pP3PsWfxold+pwPD2z0ApdGVuX1mWNz6vpX7voML0SYi2v7ouYAAAFHunWr/7/uTLP+u/ieDPi6rh6YvIbEfeStVgW++Q0k+2rLGVRE8EVkWmACm/D+ZYQPV+/Sth08+ppDqgUk0k7Q9GbhRmQk7fMB3taINLAEg+gY2iko46o5iRJjkM5bZitjnZJyUYh8+RWT1soJ6KNtM2MZbgbl6rI/ZI1GTN2mbaWrxqJXO5mseANFdRuAuo5nWv05xk9/6LmzOLJbEauiumBp1k7oKimRDXFp4i8CPEnIxvl8DIWWApDchN8TqMa9DbWYh8eKUP76TRn/RKy0CghOb8DU7mYP6z6XrSCy8OVwvlhFkhggkP2s9OUstxva4ZcpqokVHyQjvD/JBXDt+iOZkrX9v6TBz54pRkZSUcr6L43wtTicnZKp/EEpNxZQ3Utx+Io2YQ/e5yB11Tdi7jouIOYPeKydvuClWurY5p/A6PYjY+hitLbA+RBLQ6KoKaJpkb5rwiBM8GTZ5OipWYQ9B/bvlRM+zSikzUOthQhI7WNfUPSs20fYbzzG2HZE3V4HyMAMuxtji8Yxl5gamPQMDY3CgRFPD1KIpAfYX8tWgjhfYneRTCTs/PtlkJ6n0IxKdB+xKvSX8gTTrH0wdA/H6mKRjBOMspqS0B1jhMQzfPJk5ZfwL2RL/Q1861VhESanEO0KjtT3LrXruvWbap6x0kHjZ0xSghRpKH/H5H0tygkOac3fc9++WL8xGuWJiurvjmC1RZPtGu+1rXonPQYds1sbxVxRx8crhaJg8oSfBw6JyzKQXEjHPw2ZEJWkRJWxCEkwNpOP8IQuqwxCB05dzt5m9N/f1Y/VG6Pa0umsUIrgIkZdePfwHo0SEZGAeL0zAr6dvCWRFbzyot1uJ7mY46N5A6jqW3NCVpDfZf+5ids1+uk/gWj7NE0H/P3iBM23tRFoa0HcyOFcqdoeUqqLuHiteGSPkl9cuqJIUl5YZgZhOG4JNyuAey/Qx6VX/oqGzyd2fqusehCv0j+1VkF48JMdeIok+ukw3vLdt9tG30zkBJA312nOYnwjF3sigF1TJ7iYwt94uhc3AkZuhEjx7CgeFFSlrM6aGDLxY+CHiAzE1eZdiPSb3C9YSnANP4um0i88xDSRhsgMhY+Ie15qnphprKIcq9qjuLel4CHGiZvg7spo7B5a8l9DuTNUpyKUl95i0ztQx3NRIgmjuyQfxkkSpTAkWWZT4IUAWFK7TLq0lUJ349BteAvCuglvb11HcPCSq9+FzeKEapJEgSDwgm9Snm9zYpQDh9Nzzw1QVwGHirXgAPG/vA+BguMj76xLTUvG/WdOwIyCRKzo5c2vhM7Q9Pv8PBG1DQiGXLjEz8zw4/IV1lhlthac7cT4HUVkc9HRm6D/O4Icrqfigs+jKnd8mVEKarenimKF4Yx5sI6n3ZrpQPQfAdHj9ACZTvhpibPIVz53LiicmIDublUg8xj1oFfI920HKxhpv7e0xB7Y6m/p1XqRoUE/2Ktgh8e7gi2/g+KyM/TFGeOZN8Qwg9WLawBIzBOKapRKTILpE6JBoBBevVd/Z1JbF2TgH/W7/4cI7gT0Q3ja3FoIJTsbRaPOSJ3c0gUB7qNT+MjWu/JXewFX4gI8/nBEIRsxM186OzHrqVQ4+AKXifd2UpFda7R5szf+Rri+7Vnk0G5946Mj+EmUUfCHchrn8KKJeh/3aQh7szHsWcu2pp3TciBkmFta8rxqYMtUxz8/OihfUpeU3KEgVzZHTU7YOSlmhDAYcbScqXuqIygBba4bRmgKTpsyWxThgLAAupH1oobzRXnz8UbiGOYFr6NH5it5ljGKILsljXchGGV/6fhGKgXx6wfXoDGSoCZI/nnJPEM0QoEdHPCRkQImIlCQgQ7MdRC6x68CDRsp32+IjEmCK+IiUU0ROUEUFLBQ/hf828GC/X5U7f8OxnPWYBqgCQmriNMaXUORDgA1N3HPB7Jw+/QEDZF+P86OgwmSztuzaiSYScPY8ePQW/MOkgL+h5HU/RjEvSh6hx13xUWBle/8Xd/O3q4enLzm4tYvGsVdUKT9hmDvGn+z35R4QYdcTnB7daW1h0R35AyKZDpgFBVPbZdn76NgP6Okf8+Mc/YEcSj4qkd1Firi4vefuoU+c3bq/1vhvXwcbuE2XeZUMYBrntk68ogzMlr8s/uwUhjP8vOsca0QynphiAk7t6fOxO95pc/5x28xR+IIwNf0hCaN1jhRiVEiF0Ks/E6j9qT7FTTFfG6RuVI+VYSIHS3gpCbA3KHE9IFZP0RaSnt1iuoLHGWpmb4OWgCNTKMv50iHhn6TJJEbxOPWTWFKhRwdZ2kuw8yIoKjx/8hZSwrIVg6/eERs4QZ+KRczcTWZhh47A+VEUuMXAzdxISuoM3RgpkB8N0aB/H7ewF2BIY0gC9R0+fkLDqT0GT0gtkq6xDJSvtrZKupn63sHKBM8PCIDmJI/R3Y+eGSpKkmTIiBdim/vN5VRt+USOQAAA4hSCQ6PFrMJPtu+6t9BWkm+iorAUrJe+ifY8BU11rCMISppZtFmPgzE5IqFPfYIKPENzoxn2KXfL8kqFyiUTAp5xrCHf4DTKgkmq5bDH5gXyA99QQWzu6u8K5Hpi+rKEVK5EOKhs43fc/mNtslulHhnKpn3GsJC6j2oXqGOqN/nZGZCAFdWIZsyo+Z4jsos4Ljata8XuYT7QSAZfaYs6Mq18S1E0krG9AaJ9Wdic0DanpeZdnhYDrr3xa86x3e21UrNWaezAmgvfUVpu7zmD5XusUiJRkOS2UGLeTGpXbBwPHeatZ8IwPqWV5FITA2P+OCZMMg6KBjrjZoL1hiGXqzTt4Kyek9J4UCUYWmAc+OG7dhwk7n5U0gj+YG6SHf3VlEDxHAO+kXCm3y5m6OVvC3N7jLeUfunz6QVtVGaOD9X2ktpil4XGXIalHOgoiekck1wgMlIQlejWCKOj5OYmsCiYkZMatXlsT9ziB8YKhyQuhCvANYLAk/Od7unc/pt8YNIA4BbraT4CAgpBSRIQOMwKp3TPbtwLxWCAJHiYc2B6hxph1EpvIHN4AKz9EseSnfREQd/zRGPw0DJXiV9oW4Km6U9G7/L3NQbt8eDXNgrm6FI+dgXFmEMPIdxo3mwby9J/v3mimPjvPT6BwiL5p6y0p14HjlI+CjanwfDHs4kha9EtfhBuaGGmO8kPJBBXR7HearRvoeCWqY0nlX2+UqLfmMjOTb/1vTxMdMBVWeJH9//DfhRliPY+TCR7Fy/lxxXo9rIZd4VwNodNaivMWACsMqMuIqQNqKE38dH+GynD+g3E1oEngOMv+T2PnwB5Zbez3O+KQ4Md7iNjgFpW4puP9b4ckXgpOh9+hbgl4w5Qsqd8El9QtGvfiOlH2BZUlNNsJOYqsCjSNz8I8mKDcxIUJJuR5WVPHranT7jpcb8NaZBbMdazjqpBZLxy5mYGRrOs4z+/epTszkT/FcxxXcuB6zlTLdawm5HG72oCewkC0zlwLTQdzJB1a9Nqb6Wd9/0u0bG0PkfQagNACH5Vczn5pyV3Dnqe1r9GNt5xG1k5EetIO4w5nvma8BwbZuajYc4ziSNh8nYBXgW3WazqZW8w7/rZhIPk7kph+Qsii4dUrQi9DuXc0z/URCNpR0twLGAMXwVl6RVgYJHkMr36UAENsE51WlWjA47t2UuwnvCwD3Px3pIgi8NevOF8qth9Yas9+SVLTdsgVAysqdmFcMgLl0yYlmPZBX5Vj4v+jwcsfYqGv+rqs3Kmss4t7UduC2Fo6l7h2Pb4eJLZM1VbEE4JwMRbQ+BPDoUF/ZO2zNocBXE1t0GNS0W7L8F1m29S2YAavs2CLziK19NX1ZW1YfQZIyw4wXHkmlsxXMAjVE04pDxixcizVeTccwi3U+7rsY62hgaiN8Ic0kxoJFKhUYVMAJJjp3BhDEfgB+tg2wQovO0jryMtrMLjH6v3Yj7X9WuecGj+kgnIwFExy7yZ0oUE9DvIhJtMgYyMHlYJB072YZSSsECPzrRolDWywHNz3hqaxrzHQ5FbKic4ljXGIJg3M1+ZsZxnx7sffHS8SoNVbLfmeAdr4eyCZ5qyx1xXOh7dDGQccqkqfeLP3YlKenYC3D0wR1jlKXs9pO01nQEJ93E44IqUubrR0trdrDNzVbcgKr/o3lSp2+A7VsBht98nZLjH+OTCM0QPgclOd8b+3pNMj6f4U30kEwC3SOoCfNGb0B8kfFqzUvoqI4g73ere/9uHyLzgi7TECtktLpZBbT73JUsE6LJhwiYFl1LKmSXtoGOiMzsGs6IFBR9ZHcalKX1Rtcb8P/28us8nE6bhg2meffqATJfRqktYD0VwIBme3OKyrfnkQAmaLM5cuWkM1KzCY4f1nAUiZ2SwfJnm/E9dkTVcX3DgsFz7fb3snQT0W3x/dcM8raLBFwmS1md8YJuz/3D644LUvwqW+ZRqgwkcIRiP/Fnw0//duuyeqn1wZm0gsSA2y1l2cdtO4ox9Vq2jrtMMCpqAfPqIxFyiWkLSlT1AvaT44OjtBy51nfRVzTaKaTjyrdEed29BId7S4rvxMQoxDwqzMBWDV4GoCGMChR1OCbuwa7j8kiDnYTkwJb2ji7zUn1a9pGLTUXcc1fpDm61VYuDSKz/y+KHK+swqRGWwZjgGWQs1VDGs91QXSx0W9XWA/KCDzFwi0wTFrnYEv/7dFIK0Y9nqOS9NfuQ/JMd9q6pn9TWPTPvCzgoGwLuYoPvtiodpj/TVFq8sxNDYOcFFppzfQ8F+YalagxSDCQACmifM+AknT3hXGT6xvh2oo693ejzkVbkaTfek7PjQRQjKoP/ReF/XXUmEayditSTuX4ETzFxc6m/jKGQLUzph1ALt8g2IAynxJy4w+Eb/V08aJfMR7ToLnsFFjUNiNkplJMRXidKra4eQCutWzSpX1epMYVOsydDTcYm8h/PFT7nynvPb2SwkovsFRkhYhFAbCknsnj/g7b9lqhBMDnOdJ4jL6R2VveeXSnWm5UD4kKGHoSom8BcDzVkmVTJcE322Um9wRDyGlGDQW2ksn9+WM9ZMkoTAHYjgBYng1umE9zqhU2OO3ReG/CLAaKp/wjTeLl0UIIO5YqrWgY7JzF1a7pWhDCFH/h8fBCrrU94ia0AOismN7nrh18Xfn/nga9wdNgrFqM7rEG9hE6WcDSJpeSVzu3omZjoNRndYdsgsDG9/ptp/MpIzg84bjYghus0fFXIvCkBjwYDprwmFc2dqPcXy55rTLhxwib6ByA5OqjHhS1Wp993vlCmY6TmnJnORFUyfr5rqm3Cz0QV7Zj+N5B91xOpwu6JrThop6dfa9Pc7rfukQ/UsPin7QLiiqLQNxUMDFYS0mTERblQi5k0F98ljQI2tz3T5ySrb5aT4oaCH/SeGUIB7Zc3yWbPFb18npyqWmUBKA2+puKg4+LN+GiXxbPyMI9CtuVfmc1grNqtPTUmVPLthFXZWajy8lE+rZcC5z3paSNSbnwqXUtHqhUs4ODNTMnLkvl2IUuFURbfEchQcaibbEKroR2dPZfZ00ftqlleu3gl1VCypmI/k9H/iAiHCQildZT59aS0PBHPtJI+SUOnm4h7MT4sIrj2kW8ehG/mC6/YnRtYCZquC5D7MCpL4QmRB0Zs7XLwA/SOixUGfiAAA=)](https://www.youtube.com/watch?v=VY448UWAQ_0) 5.2 Sintaxis de Funciones\n",
        "\n",
        "  - [![](https://i.ytimg.com/vi/vawEHhV_HFA/hqdefault.jpg?sqp=-oaymwEXCNACELwBSFryq4qpAwkIARUAAIhCGAE=&rs=AOn4CLCms5I85yX78drYA78AnWLxSQ9ZOA)](https://www.youtube.com/watch?v=vawEHhV_HFA) 5.3 Funciones II\n",
        "\n",
        "  - [![](https://i.ytimg.com/vi/M-CoVBK_bLE/hqdefault.jpg?sqp=-oaymwEXCNACELwBSFryq4qpAwkIARUAAIhCGAE=&rs=AOn4CLDDPguEiwf_xTjTz89oMAYns4Yskw)](https://www.youtube.com/watch?v=M-CoVBK_bLE) 5.4 Lección 10 - global y local scope\n",
        "\n",
        "\n",
        "A continuación puedes ver ejemplos :  \n",
        "- **1. funciones sin parámetros y sin valor de retorno**\n",
        "- **2. funciones con parámetros y sin valor de retorno**\n",
        "- **3. funciones con parámetros y con valor de retorno**"
      ]
    },
    {
      "cell_type": "code",
      "execution_count": null,
      "metadata": {
        "colab": {
          "base_uri": "https://localhost:8080/"
        },
        "id": "PrLIl2X-CJJp",
        "outputId": "54fa8e40-0698-4881-ad28-0d4c24f6cff5"
      },
      "outputs": [
        {
          "name": "stdout",
          "output_type": "stream",
          "text": [
            "4.7\n",
            "7.604759747124507\n"
          ]
        }
      ],
      "source": [
        "import math\n",
        "r = ( 1 + math.sqrt(5)) / 2\n",
        "print(r * float(input()))"
      ]
    },
    {
      "cell_type": "markdown",
      "metadata": {
        "id": "V3CPnZ3LfzZr"
      },
      "source": [
        "**1. Ejemplos de funciones sin parámetros y sin valor de retorno**"
      ]
    },
    {
      "cell_type": "code",
      "execution_count": null,
      "metadata": {
        "colab": {
          "base_uri": "https://localhost:8080/"
        },
        "id": "xb8sVkR8aPJ2",
        "outputId": "6786374a-b9fd-47fa-cf31-56992faba66e"
      },
      "outputs": [
        {
          "name": "stdout",
          "output_type": "stream",
          "text": [
            "▶️---▶️ Inicia nombre_funcion( )\n",
            "despliega tu nombre\n",
            "Adios!\n",
            "Vamonos a comer!!\n",
            "▶️---▶️ Termina nombre_funcion( )\n",
            "\n",
            "▶️---▶️ Inicia hoy_jueves()\n",
            "Ya es jueves!! vamos a bailar!!\n",
            "Cuando juegan los Rayados!! \n",
            "No querian golear a Messi\n",
            "Messi les pidio que perdieran porque el quiere ganar!\n",
            "▶️---▶️ Termina hoy_jueves()\n",
            "\n",
            "▶️---▶️ Inicia hoy_jueves()\n",
            "Ya es jueves!! vamos a bailar!!\n",
            "Cuando juegan los Rayados!! \n",
            "No querian golear a Messi\n",
            "Messi les pidio que perdieran porque el quiere ganar!\n",
            "▶️---▶️ Termina hoy_jueves()\n",
            "\n",
            "▶️---▶️ Inicia hoy_jueves()\n",
            "Ya es jueves!! vamos a bailar!!\n",
            "Cuando juegan los Rayados!! \n",
            "No querian golear a Messi\n",
            "Messi les pidio que perdieran porque el quiere ganar!\n",
            "▶️---▶️ Termina hoy_jueves()\n",
            "\n",
            "▶️---▶️ Inicia hoy_jueves()\n",
            "Ya es jueves!! vamos a bailar!!\n",
            "Cuando juegan los Rayados!! \n",
            "No querian golear a Messi\n",
            "Messi les pidio que perdieran porque el quiere ganar!\n",
            "▶️---▶️ Termina hoy_jueves()\n",
            "\n"
          ]
        }
      ],
      "source": [
        "# funcion sin parámetros de entrada sin valor de retorno\n",
        "def nombre_funcion( ):\n",
        "  print(\"▶️---▶️ Inicia nombre_funcion( )\")\n",
        "  print(\"despliega tu nombre\")\n",
        "  print(\"Adios!\")\n",
        "  print(\"Vamonos a comer!!\")\n",
        "  print(\"▶️---▶️ Termina nombre_funcion( )\\n\")\n",
        "\n",
        "\n",
        "def hoy_jueves():\n",
        "  print(\"▶️---▶️ Inicia hoy_jueves()\")\n",
        "  print(\"Ya es jueves!! vamos a bailar!!\")\n",
        "  print(\"Cuando juegan los Rayados!! \")\n",
        "  print(\"No querian golear a Messi\")\n",
        "  print(\"Messi les pidio que perdieran porque el quiere ganar!\")\n",
        "  print(\"▶️---▶️ Termina hoy_jueves()\\n\")\n",
        "\n",
        "\n",
        "# llamar a función sin parámetros y sin valor de retorno\n",
        "nombre_funcion()\n",
        "hoy_jueves()\n",
        "hoy_jueves()\n",
        "hoy_jueves()\n",
        "hoy_jueves()"
      ]
    },
    {
      "cell_type": "markdown",
      "metadata": {
        "id": "pBAXDWDaf8TJ"
      },
      "source": [
        "**2. Ejemplos de funciones CON parámetros y sin valor de retorno**"
      ]
    },
    {
      "cell_type": "code",
      "execution_count": null,
      "metadata": {
        "colab": {
          "base_uri": "https://localhost:8080/"
        },
        "id": "mjfHQF-8aPtD",
        "outputId": "f616f93e-ef97-4ad5-db75-4eac4b59afa4"
      },
      "outputs": [
        {
          "name": "stdout",
          "output_type": "stream",
          "text": [
            "▶️---▶️ Inicia nombre_funcion2( )\n",
            "Hola *****Ana Gaby!******\n",
            "Vamos a comer:           Ana Gaby!\n",
            "Ana Gaby!hola buenos dias!!\n",
            "Ana Gaby!           que comiste que te ves tan feliz\n",
            "***********Ana Gaby!vamos a desayunar a corazon contento\n",
            "▶️---▶️ Termina nombre_funcion2( )\n",
            "\n",
            "▶️---▶️ Inicia nombre_funcion2( )\n",
            "Hola *******Dario********\n",
            "Vamos a comer:               Dario\n",
            "Dariohola buenos dias!!\n",
            "Dario               que comiste que te ves tan feliz\n",
            "***************Dariovamos a desayunar a corazon contento\n",
            "▶️---▶️ Termina nombre_funcion2( )\n",
            "\n",
            "▶️---▶️ Inicia nombre_funcion2( )\n",
            "Hola ********Dana********\n",
            "Vamos a comer:                Dana\n",
            "Danahola buenos dias!!\n",
            "Dana                que comiste que te ves tan feliz\n",
            "****************Danavamos a desayunar a corazon contento\n",
            "▶️---▶️ Termina nombre_funcion2( )\n",
            "\n",
            "Teclea un nombre:Lupita\n",
            "▶️---▶️ Inicia nombre_funcion2( )\n",
            "Hola *******Lupita*******\n",
            "Vamos a comer:              Lupita\n",
            "Lupitahola buenos dias!!\n",
            "Lupita              que comiste que te ves tan feliz\n",
            "**************Lupitavamos a desayunar a corazon contento\n",
            "▶️---▶️ Termina nombre_funcion2( )\n",
            "\n",
            "▶️---▶️ Inicia nombre_funcion2( )\n",
            "Hola Monterrey ? 10 ⚽️ -1 ⚽️\n",
            "Vamos a comer:Monterrey ? 10 ⚽️ -1 ⚽️\n",
            "Monterrey ? 10 ⚽️ -1 ⚽️hola buenos dias!!\n",
            "Monterrey ? 10 ⚽️ -1 ⚽️que comiste que te ves tan feliz\n",
            "Monterrey ? 10 ⚽️ -1 ⚽️vamos a desayunar a corazon contento\n",
            "▶️---▶️ Termina nombre_funcion2( )\n",
            "\n"
          ]
        }
      ],
      "source": [
        "# funcion con parámetros de entrada sin valor de retorno\n",
        "def nombre_funcion2( nombre):\n",
        "  print(\"▶️---▶️ Inicia nombre_funcion2( )\")\n",
        "  print(f\"Hola {nombre:*^20}\")\n",
        "  print(f\"Vamos a comer:{nombre:>20}\")\n",
        "  print(f\"{nombre}hola buenos dias!!\")\n",
        "  print(f\"{nombre:<20}que comiste que te ves tan feliz\")\n",
        "  print(f\"{nombre:*>20}vamos a desayunar a corazon contento\")\n",
        "  print(\"▶️---▶️ Termina nombre_funcion2( )\\n\")\n",
        "\n",
        "\n",
        "# llamar a función con parámetros y sin valor de retorno\n",
        "nombre_funcion2(\"Ana Gaby!\")\n",
        "nombre_funcion2(\"Dario\")\n",
        "nombre_funcion2(\"Dana\")\n",
        "nombre_funcion2(input(\"Teclea un nombre:\"))\n",
        "nombre_funcion2(\"Monterrey ? 10 ⚽️ -1 ⚽️\")\n"
      ]
    },
    {
      "cell_type": "markdown",
      "metadata": {
        "id": "LROaPRZ1gAf_"
      },
      "source": [
        "**3. Ejemplo de funcion CON parámetros y CON valor de retorno**"
      ]
    },
    {
      "cell_type": "code",
      "execution_count": null,
      "metadata": {
        "colab": {
          "base_uri": "https://localhost:8080/"
        },
        "id": "gi7R-M1vbxgP",
        "outputId": "e79360fb-2525-4fe7-9980-ce539a4c96a5"
      },
      "outputs": [
        {
          "name": "stdout",
          "output_type": "stream",
          "text": [
            "310\n",
            "Teclea tu cal1:100\n",
            "Teclea tu cal2:90\n",
            "Teclea tu cal3:80\n",
            "La suma total es:270\n",
            "El promedio es:90.0\n",
            "Tu promedio es:90.00\n",
            "Tu promedio es:90.00\n"
          ]
        }
      ],
      "source": [
        "# funcion suma con parámetros de entrada con valor de retorno\n",
        "def suma( a, b, c):\n",
        "  return a + b + c\n",
        "# Nota importante: aqui ya termino el bloque de instrucciones de la función suma\n",
        "#----------------------------------------------------------\n",
        "\n",
        "# funcion promedios con parámetros de entrada con valor de retorno\n",
        "def promedios(a, b, c):\n",
        "  return suma(a, b, c) / 3.0\n",
        "\n",
        "\n",
        "# llamar a función con parámetros y con valor de retorno\n",
        "resultado = suma(10,100,200)\n",
        "print(resultado)\n",
        "\n",
        "# leer datos de entrada\n",
        "cal1 = int(input(\"Teclea tu cal1:\"))\n",
        "cal2 = int(input(\"Teclea tu cal2:\"))\n",
        "cal3 = int(input(\"Teclea tu cal3:\"))\n",
        "\n",
        "# llamar a función con parámetros y con valor de retorno\n",
        "promedio = suma(cal1,cal2, cal3) / 3\n",
        "print(f\"La suma total es:{suma(cal1, cal2, cal3)}\")\n",
        "print(f\"El promedio es:{suma(cal1, cal2, cal3) / 3}\")\n",
        "\n",
        "# Desplegar el promedio con 2 decimales\n",
        "print(f\"Tu promedio es:{promedio:.2f}\")\n",
        "\n",
        "# LLamar a la función promedio\n",
        "promedio = promedios(cal1,cal2,cal3)\n",
        "print(f\"Tu promedio es:{promedio:.2f}\")\n",
        "\n"
      ]
    },
    {
      "cell_type": "markdown",
      "metadata": {
        "id": "eTh2maR9IW-k"
      },
      "source": [
        "\n",
        "# **6. Condicional - if - if - else - if - elif ...**\n",
        "\n",
        "## **Material y videos de estudio previo**\n",
        "\n",
        "## https://automatetheboringstuff.com/chapter2/\n",
        "\n",
        "## CONDICIONALES\n",
        "\n",
        "  - [![](https://i.ytimg.com/vi/4XA9CKJJbr4/hqdefault.jpg)](https://www.youtube.com/watch?v=4XA9CKJJbr4)\n",
        "\n",
        "\n",
        "  - [![xx](https://i.ytimg.com/vi/lWeCgEbk-Ro/hqdefault.jpg)](https://www.youtube.com/watch?v=lWeCgEbk-Ro)\n",
        "\n",
        "\n",
        "\n",
        "\n",
        "\n",
        "\n",
        "<div align='center'>\n",
        "\n",
        "# Operadores relacionales\n",
        "\n",
        "\n",
        "\n",
        "<font size = 4>\n",
        "\n",
        "| operador | Description |\n",
        "| ----------- | ----------- |\n",
        "| <= | menor o igual |\n",
        "| >= | mayor o igual |\n",
        "| < | menor que |\n",
        "| > | mayor que |\n",
        "| == | igual |\n",
        "| !=  | diferente |\n",
        "\n",
        "</font>\n",
        "\n",
        "# Operadores logicos\n",
        "| operador | Descripción |\n",
        "| ----------- | ----------- |\n",
        "| and | operador lógico and |\n",
        "| or | operador lógico or  |\n",
        "| not | operador lógico de negación |\n",
        "\n",
        "\n",
        "# Tabla de verdad del and\n",
        "| operador | Descripción |\n",
        "| ----------- | ----------- |\n",
        "| T  **and**    T | True  |\n",
        "| T  **and**    F | False  |\n",
        "| F  **and**    T | False  |\n",
        "| F  **and**    F | False  |\n",
        "\n",
        "# Tabla de verdad del or\n",
        "| operador | Descripción |\n",
        "| ----------- | ----------- |\n",
        "| T  **or**    T | True  |\n",
        "| T  **or**    F | True  |\n",
        "| F  **or**    T | True  |\n",
        "| F  **or**    F | False  |\n",
        "\n",
        "\n",
        "# Tabla de verdad del not\n",
        "| operador | Descripción |\n",
        "| ----------- | ----------- |\n",
        "| **not** T | False  |\n",
        "| **not** F | True  |\n",
        "\n",
        "\n",
        "# Jerarquia de evaluación\n",
        "|  | operador | Descripción |\n",
        "| ----------- | ----------- | ----------- |\n",
        "| 1\t| ( ) |\tparéntesis para agrupar |\n",
        "| 2 |\t** |\texponenciación |\n",
        "| 3\t| +, -\t| positivo, negativo |\n",
        "| 4\t| *, /, //, %\t| multiplicación, división, división  entera y residuo |\n",
        "| 5\t| +, -\t| suma, resta |\n",
        "| 6\t| <, <=, >, >=, !=, == | \toperadores de comparación |\n",
        "| 7\t| not\t| operador  not |\n",
        "| 8\t| and\t| operador  and |\n",
        "| 9\t|or\t| operador  or |\n",
        "\n",
        "\n",
        "\n",
        "# Ejemplo\n",
        "\n",
        "![](https://automatetheboringstuff.com/2e/images/000095.jpg)\n",
        "\n",
        "</div>"
      ]
    },
    {
      "cell_type": "markdown",
      "metadata": {
        "id": "Z7OioUnV_StD"
      },
      "source": [
        "\n",
        "\n",
        "\n",
        "\n",
        "![](https://itiem1.files.wordpress.com/2010/10/codigo-ascii.jpg)\n",
        "\n",
        "- cuando se comparan string,\n",
        "internamente se usa el código ascii\n",
        "\n",
        "- \"A\"  código 65\n",
        "- \"a\"  código 97\n",
        "\n",
        "\n",
        "- \"A\" > \"a\"\n",
        "\n",
        "- es False"
      ]
    },
    {
      "cell_type": "code",
      "execution_count": null,
      "metadata": {
        "colab": {
          "base_uri": "https://localhost:8080/"
        },
        "id": "hrTnH8zE6qFc",
        "outputId": "24d1a636-3e96-4ac9-bdf3-2598d4af5f37"
      },
      "outputs": [
        {
          "name": "stdout",
          "output_type": "stream",
          "text": [
            "False\n"
          ]
        }
      ],
      "source": [
        "# ejemplo de comparar string - se hace usando códigos ASCII\n",
        "letra1 = \"A\"\n",
        "letra2 = \"a\"\n",
        "\n",
        "# comparación y asignación\n",
        "\n",
        "mayor = letra1 > letra2\n",
        "\n",
        "print(mayor)"
      ]
    },
    {
      "cell_type": "code",
      "execution_count": null,
      "metadata": {
        "colab": {
          "base_uri": "https://localhost:8080/"
        },
        "id": "7sTm3fuC7Est",
        "outputId": "c35664df-78be-4388-a443-ee979f2ad880"
      },
      "outputs": [
        {
          "output_type": "stream",
          "name": "stdout",
          "text": [
            "Teclea tu nombre:Regina\n",
            "Teclea otro nombre:Ana Sofi\n",
            "False\n",
            "False\n"
          ]
        }
      ],
      "source": [
        "# Leer 2 nombres string\n",
        "nombre = input(\"Teclea tu nombre:\")\n",
        "nombre2 = input(\"Teclea otro nombre:\")\n",
        "\n",
        "# La comparación se hace internamente usando los códigos ASCII\n",
        "resultado = nombre == nombre2\n",
        "resultado2 = nombre < nombre2\n",
        "\n",
        "# Desplegar los resultados de las comparaciones\n",
        "print(resultado)\n",
        "print(resultado2)"
      ]
    },
    {
      "cell_type": "markdown",
      "metadata": {
        "id": "7MPr9OWLy_YN"
      },
      "source": [
        "## 6.1 Diagrama de flujo de if sin else\n",
        "\n",
        "\n",
        "<div align='center'>\n",
        "<img src=\"https://automatetheboringstuff.com/images/000019.jpg?auto=format&fit=clip&q=40&w=1080\" alt=\"drawing\" width=\"400\" height = \"400\"/>\n",
        "</div>\n",
        "\n"
      ]
    },
    {
      "cell_type": "code",
      "execution_count": null,
      "metadata": {
        "colab": {
          "base_uri": "https://localhost:8080/"
        },
        "id": "qXvJUrB3h5nP",
        "outputId": "c8eb1163-e15b-41f6-9854-b3d0fe6d0392"
      },
      "outputs": [
        {
          "name": "stdout",
          "output_type": "stream",
          "text": [
            "Teclea tu nombre:Chompiras\n"
          ]
        }
      ],
      "source": [
        "# Ejemplo de if sin else\n",
        "# leer el nombre\n",
        "name = input(\"Teclea tu nombre:\")\n",
        "\n",
        "# if  condicion :\n",
        "# los : sirven para indentar el bloque de instrucciones\n",
        "if name == \"Karla\":\n",
        "  print(\"Felicidades!\")"
      ]
    },
    {
      "cell_type": "markdown",
      "metadata": {
        "id": "cqbuwSPBzJRh"
      },
      "source": [
        "## **6.2 Diagrama de flujo de if con else**\n",
        "\n",
        "<div align='center'>\n",
        "<img src=\"https://automatetheboringstuff.com/images/000106.png?auto=format&fit=clip&q=40&w=1080\" alt=\"drawing\" width=\"400\" height = \"400\"/>\n",
        "</div>\n"
      ]
    },
    {
      "cell_type": "code",
      "execution_count": null,
      "metadata": {
        "colab": {
          "base_uri": "https://localhost:8080/"
        },
        "id": "PtBeOKTZ_h-o",
        "outputId": "70c2210a-ef77-4c7a-95d1-41e7b31c2bfe"
      },
      "outputs": [
        {
          "name": "stdout",
          "output_type": "stream",
          "text": [
            "Teclea tu nombre:Chilindrina\n",
            "Hello, stranger.\n"
          ]
        }
      ],
      "source": [
        "# Ejemplo de if con else\n",
        "# Leer el nombre\n",
        "name = input(\"Teclea tu nombre:\")\n",
        "\n",
        "# if con else - recuerda poner :\n",
        "# para indentar el bloque de instrucciones\n",
        "if name == 'Alice':\n",
        "  print('Hi, Alice.')\n",
        "else:\n",
        "  print('Hello, stranger.')"
      ]
    },
    {
      "cell_type": "markdown",
      "metadata": {
        "id": "v52hK_yRzVLy"
      },
      "source": [
        "  ## **6.3 Diagrama de flujo de if con elif con elif ...**\n",
        "\n",
        "<div align='center'>\n",
        "<img src=\"https://automatetheboringstuff.com/images/000107.png?auto=format&fit=clip&q=40&w=1080\" alt=\"drawing\" width=\"400\" height = \"400\"/>\n",
        "</div>\n",
        "\n",
        "\n"
      ]
    },
    {
      "cell_type": "code",
      "execution_count": null,
      "metadata": {
        "colab": {
          "base_uri": "https://localhost:8080/"
        },
        "id": "B8zSjB5OAZjP",
        "outputId": "2bd27639-4fa2-409e-f1d7-65ebb10aea10"
      },
      "outputs": [
        {
          "name": "stdout",
          "output_type": "stream",
          "text": [
            "Teclea tu nombre:Alice\n",
            "Teclea tu edad:80\n",
            "Hi, Alice.\n"
          ]
        }
      ],
      "source": [
        "# Ejemplo de if con elif, elif, ... else\n",
        "name = input(\"Teclea tu nombre:\")\n",
        "age = int(input(\"Teclea tu edad:\"))\n",
        "\n",
        "if name == 'Alice':\n",
        "  print('Hi, Alice.')\n",
        "elif age < 12:\n",
        "  print('You are not Alice, kiddo.')\n",
        "elif name == \"Jeremy\" and age == 19:\n",
        "  print(\"Si es Jeremy de la tc1028-401\")\n",
        "elif name == \"Fernando\" and age == 18:\n",
        "  print(\"Si es Fernando,de la tc1028-402\")\n",
        "else:\n",
        "  print(\"Adios!!\")\n"
      ]
    },
    {
      "cell_type": "code",
      "execution_count": null,
      "metadata": {
        "colab": {
          "base_uri": "https://localhost:8080/"
        },
        "id": "xPqU9pkt5msk",
        "outputId": "7086d5cc-4bd7-46d2-a884-a959090efcd9"
      },
      "outputs": [
        {
          "name": "stdout",
          "output_type": "stream",
          "text": [
            "Dame la calificacion del examen 1: 77\n",
            "Dame la calificacion del examen 2: 10\n",
            "Dame la calificacion del examen 3: 14\n",
            "\n",
            "El promedio es 33.67\n",
            "No aprobaste. Tendrás que cursar de nuevo el curso\n"
          ]
        }
      ],
      "source": [
        "def leer_calificaciones():\n",
        "    ex1 = float(input(\"Dame la calificacion del examen 1: \"))\n",
        "    ex2 = float(input(\"Dame la calificacion del examen 2: \"))\n",
        "    ex3 = float(input(\"Dame la calificacion del examen 3: \"))\n",
        "\n",
        "    prom = (ex1 + ex2 + ex3) / 3\n",
        "\n",
        "    return prom\n",
        "\n",
        "def imprime_prom():\n",
        "\n",
        "    prom = leer_calificaciones()\n",
        "\n",
        "    if prom >= 70:\n",
        "        print(f\"\\nEl promedio es {prom:.2f}\")\n",
        "        print(\"Aprobaste el curso. FELICIDADES!\")\n",
        "    else:\n",
        "        print(f\"\\nEl promedio es {prom:.2f}\")\n",
        "        print(\"No aprobaste. Tendrás que cursar de nuevo el curso\")\n",
        "\n",
        "imprime_prom()\n"
      ]
    },
    {
      "cell_type": "code",
      "execution_count": null,
      "metadata": {
        "colab": {
          "base_uri": "https://localhost:8080/"
        },
        "id": "ZUarIjDT2rqv",
        "outputId": "fbae3202-5a1f-4485-c88f-51db27e4950e"
      },
      "outputs": [
        {
          "name": "stdout",
          "output_type": "stream",
          "text": [
            "Dame la calificacion del examen 1: 100\n",
            "Dame la calificacion del examen 2: 100\n",
            "Dame la calificacion del examen 3: 100\n",
            "\n",
            "El promedio es 100.000\n",
            "Aprobaste el curso. FELICIDADES!\n"
          ]
        }
      ],
      "source": [
        "# Función que pide las calificaciones\n",
        "def leer_calificaciones():\n",
        "    # Leer los datos al usuario\n",
        "    ex1 = float(input(\"Dame la calificacion del examen 1: \"))\n",
        "    ex2 = float(input(\"Dame la calificacion del examen 2: \"))\n",
        "    ex3 = float(input(\"Dame la calificacion del examen 3: \"))\n",
        "\n",
        "    # Calculando el promedio\n",
        "    prom = (ex1 + ex2 + ex3) / 3\n",
        "\n",
        "    # Regresando el valor del promedio\n",
        "    return prom\n",
        "\n",
        "\n",
        "# Función que imprime el promedio y un mensaje\n",
        "def imprime_prom():\n",
        "\n",
        "    prom = leer_calificaciones()\n",
        "\n",
        "    # Comparando el valor del promedio\n",
        "    if prom >= 70:\n",
        "        print(f\"\\nEl promedio es {prom:.3f}\")\n",
        "        print(\"Aprobaste el curso. FELICIDADES!\")\n",
        "    else:\n",
        "        print(f\"\\nEl promedio es {prom:.3f}\")\n",
        "        print(\"No aprobaste. Tendrás que cursar de nuevo el curso\")\n",
        "\n",
        "\n",
        "# Llamando a la función\n",
        "imprime_prom()\n"
      ]
    },
    {
      "cell_type": "code",
      "execution_count": null,
      "metadata": {
        "colab": {
          "base_uri": "https://localhost:8080/"
        },
        "id": "-1wX6_4z6tw2",
        "outputId": "8dd6c1af-f7fc-4a72-8232-06c580c5c289"
      },
      "outputs": [
        {
          "name": "stdout",
          "output_type": "stream",
          "text": [
            "Quieres aprender s/n?:s\n",
            "Hago todos los ejercicios\n"
          ]
        }
      ],
      "source": [
        "# leer respuesta del alumno\n",
        "quiero_aprender = input(\"Quieres aprender s/n?:\")\n",
        "\n",
        "# Hacer las comparaciones y se dejan en variables booleanas\n",
        "respuesta_si = quiero_aprender == \"s\"\n",
        "respuesta_no = quiero_aprender == \"n\"\n",
        "otra_respuesta = quiero_aprender not in [\"s\", \"n\"]\n",
        "\n",
        "# Diseño de condicionales if - elif - else\n",
        "if respuesta_si :\n",
        "  print(\"Hago todos los ejercicios\")\n",
        "elif respuesta_no:\n",
        "  print(\"No hago los ejercicios\")\n",
        "elif otra_respuesta:\n",
        "  print(\"Tecleaste mal la respuesta\")\n",
        "else:\n",
        "  print(\"nunca se ejutará!\")\n"
      ]
    },
    {
      "cell_type": "markdown",
      "metadata": {
        "id": "v5d5YMhHFnrS"
      },
      "source": [
        "# **7. Sesión 8: Super Quiz**\n",
        "\n",
        "- Quiz - todo lo visto hasta el momento\n",
        "\n",
        "- Ejercicio sillas usando condicionale y funciones con valor de retorno\n"
      ]
    },
    {
      "cell_type": "markdown",
      "metadata": {
        "id": "77cMLbskLLM8"
      },
      "source": [
        "# **8. CICLOS**\n",
        "\n",
        "Previo:\n",
        "- ¿Cómo funciona el while?\n",
        "\n",
        "\n",
        "- ¿Qué voy a aprender con esta actividad?\n",
        "\n",
        "- Aprenderás qué es y cómo funciona el estatuto  \n",
        "while para utilizarlo en programas que resuelven problemas en los que se requiere repetir procesos.\n",
        "\n",
        "- ¿Qué tengo que hacer?\n",
        "\n",
        "- En el video o en el capítulo del libro que se especifican enseguida asegúrate de encontrar lo siguiente:\n",
        "\n",
        "- Qué es el estatuto while\n",
        "- Cómo se usa en Python\n",
        "- Qué es un ciclo infinito\n",
        "\n",
        "- Capítulo 2 del libro Automate the Boring Stuff with Python que se encuentra en  \n",
        "https://automatetheboringstuff.com/chapter2/.\n",
        "\n",
        "# Videos de Estudio Previo -\n",
        "\n",
        "## Lección 6 - while\n",
        "while Loop Statements\n",
        "Lesson 6 - while Loops-\n",
        "\n",
        "~~break, and continue~~ no estan permitido usarlos en nuestros cursos  \n",
        "\n",
        "\n",
        "[![Lección 6 - while Loops](https://i.ytimg.com/vi/885qKiiKisI/hqdefault.jpg?sqp=-oaymwEXCNACELwBSFryq4qpAwkIARUAAIhCGAE=&rs=AOn4CLD--aMHns95LSHOPHpLlqMHoD_FGA)](https://youtu.be/885qKiiKisI)\n",
        "\n",
        "## Lección 7 - for\n",
        "for Loops and the range() Function\n",
        "\n",
        "\n",
        "[![](https://i.ytimg.com/vi/HFQGxh1jY3g/hqdefault.jpg?sqp=-oaymwEXCNACELwBSFryq4qpAwkIARUAAIhCGAE=&rs=AOn4CLDdmGKRYPDB8t7bQO3KiX2TOrHD_w)](https://www.youtube.com/watch?v=HFQGxh1jY3g)\n",
        "\n",
        "\n",
        "\n",
        "## Lección 14 - for\n",
        "[![](https://i.ytimg.com/vi/umTnflPbYww/hqdefault.jpg?sqp=-oaymwEXCNACELwBSFryq4qpAwkIARUAAIhCGAE=&rs=AOn4CLB2AbXEH1hv9K0tp7llSl_1vvykSA)](https://www.youtube.com/watch?v=umTnflPbYww)\n",
        "\n"
      ]
    },
    {
      "cell_type": "markdown",
      "metadata": {
        "id": "vKDIKTaUELj8"
      },
      "source": [
        "# Ciclo while :\n",
        "- Instrucción **while** - Ejecuta repetitivamente un bloque de instrucciones, mientras la condición es ***`True`***\n",
        "\n",
        "- Primero se evalúa la **condición**, mientras sea ***`True`*** ejecuta una y otra vez el bloque de instrucciones, en caso de ser ***`False`*** salta el bloque de instrucciones del ciclo y continua ejecutando las instrucciones que estén después del while.\n",
        "\n",
        "- Sintaxis:  \n",
        "```\n",
        "while condición :\n",
        "    # Bloque de instrucciones     \n",
        "    # Instrucciones indentadas\n",
        "    instrucción 1\n",
        "                :\n",
        "    instrucción iN\n",
        "  \n",
        "  instruccion fuera del ciclo\n",
        "```\n",
        "\n",
        "# Variable Contador\n",
        "Para la solución de problemas con ciclos contador se requiere de una variable contador, para diseñar un ciclo contador que va desde 1 hasta n se deben seguir estas reglas:\n",
        "\n",
        "- Regla 1. Inicializar el contador antes del ciclo:\n",
        "\n",
        "  - contador = 1\n",
        "\n",
        "- Regal 2. Actualizar el contador dentro del ciclo:\n",
        "\n",
        "  - contador = contador + 1\n",
        "\n",
        "\n",
        "\n",
        "# Variable Acumulador\n",
        "\n",
        "Para la solución de problemas con ciclos frecuentemente se requiere ir acumulando diferentes valores, entonces se usa una o varias variables que van acumulando.\n",
        "\n",
        "# Reglas para los acumuladores de Sumatoria:\n",
        "       \n",
        "- Inicializar ✏️ el acumulador antes del ciclo:\n",
        "```\n",
        "acum = 0\n",
        "```\n",
        "- Actualizar ✅ la variable acumulador dentro del ciclo\n",
        "```\n",
        "acum = acum + expresión\n",
        "```\n",
        "\n",
        "# Reglas para los acumuladores de Multiplicatoria:\n",
        "\n",
        "- Inicializar  ✏️  el acumulador antes del ciclo:\n",
        "```\n",
        "acum = 1\n",
        "```\n",
        "- Actualizar ✅ la variable acumulador dentro del ciclo\n",
        "```\n",
        "acum = acum * expresión\n",
        "```"
      ]
    },
    {
      "cell_type": "markdown",
      "metadata": {
        "id": "eWtRhxeCd1DP"
      },
      "source": [
        "## 8.1 Ejemplos de  Ciclo while Creciente y ciclos while Decreciente\n"
      ]
    },
    {
      "cell_type": "code",
      "execution_count": null,
      "metadata": {
        "colab": {
          "base_uri": "https://localhost:8080/"
        },
        "id": "xFbToBqYI7kI",
        "outputId": "ee432b81-5333-41a2-f7ab-726a15898d10"
      },
      "outputs": [
        {
          "output_type": "stream",
          "name": "stdout",
          "text": [
            "Teclea la cantidad de veces a ejecutar el ciclo:4\n",
            "vcc= 1\n",
            "vcc= 2\n",
            "vcc= 3\n",
            "vcc= 4\n",
            "Teclea la cantidad de veces a ejecutar el ciclo:4\n",
            "vcc= 4\n",
            "vcc= 3\n",
            "vcc= 2\n",
            "vcc= 1\n"
          ]
        }
      ],
      "source": [
        "# Ciclo contador creciente\n",
        "def ciclo_creciente():\n",
        "    # Leer la cantidad de veces que se ejecutara el ciclo\n",
        "    cantidad = int(input('Teclea la cantidad de veces a ejecutar el ciclo:'))\n",
        "\n",
        "    # 1. Inicializar la vcc 1..cantidad\n",
        "    vcc = 1\n",
        "    # 2. Condicion para que se ejecute cantidad veces vcc <= cantidad\n",
        "    while vcc <= cantidad:\n",
        "        print('vcc=',vcc)\n",
        "        # 3. Actualizar la vcc dentro\n",
        "        vcc = vcc + 1\n",
        "\n",
        "# Ciclo contador decreciente\n",
        "def ciclo_decreciente():\n",
        "    # Leer la cantidad de veces que se ejecutara el ciclo\n",
        "    cantidad = int(input('Teclea la cantidad de veces a ejecutar el ciclo:'))\n",
        "\n",
        "    # 1. Inicializar la vcc cantidad..1\n",
        "    vcc = cantidad\n",
        "    # 2. Condicion para que se ejecute cantidad veces vcc >= 1\n",
        "    while (vcc >= 1):\n",
        "        print('vcc=',vcc)\n",
        "        # 3. Actualizar la vcc dentro\n",
        "        vcc = vcc - 1\n",
        "\n",
        "# Para que una función se ejecute tengo Llamarla 📲\n",
        "ciclo_creciente()\n",
        "ciclo_decreciente()"
      ]
    },
    {
      "cell_type": "code",
      "execution_count": null,
      "metadata": {
        "colab": {
          "base_uri": "https://localhost:8080/"
        },
        "id": "YHn_vQrFJdxO",
        "outputId": "49f0cbfd-c273-4f4b-b74f-8dfe5a601a28"
      },
      "outputs": [
        {
          "output_type": "stream",
          "name": "stdout",
          "text": [
            "4\n",
            "Calcular el total a pagar:\n",
            "Teclea la cantidad de productos:3\n",
            "Teclea el precio 1 : 2100\n",
            "Teclea el precio 2 : 1000\n",
            "Teclea el precio 3 : 3000\n",
            "Total a pagar $6,100.0\n"
          ]
        }
      ],
      "source": [
        "# Ma. Guadalupe Roque Díaz de León\n",
        "# Ciclo while\n",
        "\n",
        "def ciclo_contador_creciente():\n",
        "    # Desplegar que hace la función\n",
        "    print('Esta función despliega los numeros del 1 ')\n",
        "    print('Hasta el valor que ingreses ahora:', end='')\n",
        "\n",
        "    # Leer la cantidad de veces que se ejecutará el ciclo\n",
        "    print('Teclea el valor:', end ='')\n",
        "    cantidad = int(input())\n",
        "\n",
        "    # 1. Inicializar la vcc antes del ciclo\n",
        "    vcc = 1\n",
        "\n",
        "    # 2. Incluir en la condicion la vcc\n",
        "    while vcc <= cantidad:\n",
        "        # Bloque de instrucciones del while\n",
        "        # Delimitadas por la indentación\n",
        "        print(vcc)\n",
        "\n",
        "        # 3. Actualizar vcc\n",
        "        vcc = vcc + 1\n",
        "\n",
        "\n",
        "def ciclo_contador_decreciente():\n",
        "    # Desplegar que hace la función\n",
        "    print('Esta función despliega los numeros de cantidad a 1')\n",
        "\n",
        "    # Leer la cantidad de veces que se ejecutará el ciclo\n",
        "    print('Teclea el valor:', end ='')\n",
        "    cantidad = int(input())\n",
        "\n",
        "    # 1. Inicializar la vcc antes del ciclo\n",
        "    vcc = cantidad\n",
        "\n",
        "    # 2. Incluir en la condicion la vcc\n",
        "    while vcc >= 1:\n",
        "        # Bloque de instrucciones del while\n",
        "        # Delimitadas por la indentación\n",
        "        print(vcc)\n",
        "\n",
        "        # 3. Actualizar vcc\n",
        "        vcc = vcc - 1\n",
        "\n",
        "def de_reversa():\n",
        "\n",
        "    # Leer la cantidad de dias -veces que se ejecutará el ciclo\n",
        "    print('Teclea la cantidad de dias que deseas ahorrar:', end = '')\n",
        "    cantidad = int(input())\n",
        "\n",
        "    # 1. Inicializar la vcc antes del ciclo y el acumulador\n",
        "    acum = 0\n",
        "    vcc = cantidad\n",
        "\n",
        "    # 2. Incluir en la condicion la vcc\n",
        "    while vcc >= 1:\n",
        "        # Incrementar el acumulador en vcc\n",
        "        acum = acum + vcc\n",
        "\n",
        "        # 3. Actualizar la vcc vcc dentro del ciclo\n",
        "        vcc = vcc - 1\n",
        "\n",
        "\n",
        "    # Desplegar la cantidad que se ahorro - acumulo\n",
        "    print(f'Tu ahorro de ${cantidad} a $1 es ${acum}')\n",
        "\n",
        "\n",
        "\n",
        "\n",
        "# ciclo contador creciente con acumulador\n",
        "def alcancia( ):\n",
        "    # Leer la cantidad de valores a sumar en cantidad\n",
        "    print('Cantidad de valores a sumar:')\n",
        "    cantidad = int(input())\n",
        "\n",
        "    # 1. Inicializar el acumulador y la vcc\n",
        "    acum = 0\n",
        "    vcc = 1\n",
        "\n",
        "    # 2. Incluir en la condicion la vcc\n",
        "    while ( vcc <= cantidad ):\n",
        "        # Acumular el vcc en acum\n",
        "        acum = acum + vcc\n",
        "\n",
        "        # 3. Actualizar vcc\n",
        "        vcc = vcc + 1\n",
        "\n",
        "    # Desplegar los resultados\n",
        "    print(f\"El total ${acum:,}\")\n",
        "\n",
        "\n",
        "# ciclo contador creciente con acumulador\n",
        "# lee los precios dentro del ciclo\n",
        "def tiendita_chonita():\n",
        "    print('Calcular el total a pagar:')\n",
        "    print('Teclea la cantidad de productos:', end='')\n",
        "    cantidad = int(input())\n",
        "\n",
        "    # 1. Inicializar acumulador y vcc\n",
        "    acumulador = 0\n",
        "    vcc = 1\n",
        "\n",
        "    # 2. Incluir en la condicion la vcc\n",
        "    while  vcc <= cantidad :\n",
        "        # Teclea el precio\n",
        "        print('Teclea el precio', vcc,': ', end='')\n",
        "        precio = float(input())\n",
        "\n",
        "        # Acumular el vcc en acum\n",
        "        acumulador = acumulador  + precio\n",
        "\n",
        "        # 3. Actualizar vcc\n",
        "        vcc = vcc + 1\n",
        "\n",
        "    # Desplegar los resultados\n",
        "    print(f\"Total a pagar ${acumulador:,}\")\n",
        "\n",
        "\n",
        "def elevado():\n",
        "    print('Esta función eleva x^n')\n",
        "\n",
        "    # Leer x y n\n",
        "    cantidad = int(input('Teclea el exponente n:'))\n",
        "    base_x = int(input('Teclea la base x :'))\n",
        "\n",
        "    # Se acumulará una multiplicatoria el acumulador\n",
        "    # inicializarlo con 1, inicializar la vcc\n",
        "    acum = 1\n",
        "    vcc = 1\n",
        "\n",
        "    # Ciclo contador creciente\n",
        "    while (vcc <= cantidad):\n",
        "        acum = acum * base_x\n",
        "        vcc = vcc + 1\n",
        "\n",
        "    # Desplegar acum que guarda base_xˆcantidad\n",
        "    print(f'{base_x}^{cantidad}={acum}')\n",
        "\n",
        "def adivina():\n",
        "    # Leer cantidad\n",
        "    cantidad = int(input('Teclea la cantidad de valores que quieres ver:'))\n",
        "    # Verificar si es positivo\n",
        "    if (cantidad > 0):\n",
        "        # Inicializar las variables\n",
        "        vcc = 1   # 1º inicializar la vcc\n",
        "        base_x1 = 8\n",
        "        iDelta = 5\n",
        "        # Ciclo contador se ejecuta cantidad veces vcc <= cantidad\n",
        "        while (vcc <= cantidad): # 2º Incluir la vcc en la condición\n",
        "            print(base_x1,'=>', end = '')\n",
        "            base_x1 = base_x1 + iDelta\n",
        "            iDelta = iDelta + 5\n",
        "            vcc = vcc + 1   # 3º Actualizar la vcc\n",
        "\n",
        "        iResp = int(input('\\nCual es el siguiente numero de la serie:'))\n",
        "\n",
        "        if (iResp == base_x1):\n",
        "            print('Correcto! Felicidades!')\n",
        "        else:\n",
        "            print('Error, el siguiente número es', base_x1)\n",
        "    else:\n",
        "        print('No hay serie!')\n",
        "\n",
        "def adivina2():\n",
        "    print('Teclea la cantidad de valores que quieres ver:', end ='')\n",
        "     # Leer cantidad\n",
        "    cantidad = int(input())\n",
        "\n",
        "     # Verificar si es positivo\n",
        "    if (cantidad > 0):\n",
        "         # Inicializar las variables\n",
        "        vcc = 1\n",
        "        base_x1 = 9999\n",
        "        iDelta = 100\n",
        "\n",
        "        while (vcc <= cantidad):\n",
        "            print(base_x1,'=>', end = '')\n",
        "            base_x1 = base_x1 - iDelta\n",
        "            iDelta = iDelta + 100\n",
        "            vcc = vcc + 1\n",
        "\n",
        "        iResp = int(input('\\nCuál es el siguiente numero de la serie:'))\n",
        "\n",
        "        while (iResp != base_x1):\n",
        "            print('El número es incorrecto!')\n",
        "            iResp = int(input('Cuál es el siguiente numero de la serie:'))\n",
        "\n",
        "        print('Es correcto,Felicidades!')\n",
        "    else:\n",
        "        print('No hay serie!')\n",
        "\n",
        "\n",
        "\n",
        "def main():\n",
        "    # Leer la opcion del menu\n",
        "    opcion = int(input())\n",
        "\n",
        "    # Determinar la opcion que ingreso el usuario\n",
        "    if opcion == 1:\n",
        "        ciclo_contador_creciente()\n",
        "    elif opcion == 2:\n",
        "        ciclo_contador_decreciente()\n",
        "    elif opcion == 3:\n",
        "        alcancia()\n",
        "    elif opcion == 4:\n",
        "        tiendita_chonita()\n",
        "    elif opcion == 5:\n",
        "        de_reversa()\n",
        "    elif opcion == 6:\n",
        "        elevado()\n",
        "    elif opcion == 7:\n",
        "        adivina()\n",
        "    elif opcion == 8:\n",
        "        adivina2()\n",
        "    else:\n",
        "        print('Opcion no existe!')\n",
        "\n",
        "# Llamar a la función main()\n",
        "main()\n"
      ]
    },
    {
      "cell_type": "code",
      "execution_count": null,
      "metadata": {
        "colab": {
          "base_uri": "https://localhost:8080/"
        },
        "id": "FtR9TmVe4UDO",
        "outputId": "77444e11-f5bd-4519-abd4-ce695a814d58"
      },
      "outputs": [
        {
          "name": "stdout",
          "output_type": "stream",
          "text": [
            "15\n",
            "17\n"
          ]
        }
      ],
      "source": [
        "#Ejercicio 1\n",
        "#¿Qué aparece en la pantalla si se ejecuta el siguiente código de Python?:\n",
        "\n",
        "x = 8\n",
        "y = 3\n",
        "while y <= 16 :\n",
        "      x += 1\n",
        "      y += 2\n",
        "\n",
        "print(x)\n",
        "print(y)\n",
        "\n"
      ]
    },
    {
      "cell_type": "code",
      "execution_count": null,
      "metadata": {
        "colab": {
          "base_uri": "https://localhost:8080/"
        },
        "id": "QtCTesQ5sWz0",
        "outputId": "7d48b03f-0341-4d39-e2a6-52717d6b00ca"
      },
      "outputs": [
        {
          "name": "stdout",
          "output_type": "stream",
          "text": [
            "cantidad de renglones:4\n",
            "cantidad de columnas:4\n",
            "🎂🎂🎂🎂\n",
            "🎂🎂🎂🎂\n",
            "🎂🎂🎂🎂\n"
          ]
        }
      ],
      "source": [
        "# ejemplo de ciclo\n",
        "\n",
        "renglones = int(input(\"cantidad de renglones:\"))\n",
        "columnas = int(input(\"cantidad de columnas:\"))\n",
        "\n",
        "vcc = 1\n",
        "while vcc < renglones:\n",
        "  # replicar el string\n",
        "  print(\"🎂\" * columnas)\n",
        "\n",
        "  # actualizar la vcc dentro del ciclo\n",
        "  vcc = vcc + 1\n",
        "\n"
      ]
    },
    {
      "cell_type": "code",
      "execution_count": null,
      "metadata": {
        "id": "quSIGBp94i4Q"
      },
      "outputs": [],
      "source": [
        "\n",
        "#Ejercicio 2\n",
        "#¿Qué aparece en la pantalla si se ejecuta el siguiente código de Python?:\n",
        "\n",
        "d = 0\n",
        "r = 13\n",
        "s = r / 2\n",
        "while s > 2 or r % 2 == 0 :\n",
        "     d += 1\n",
        "     r -= 2\n",
        "     s -= 2\n",
        "\n",
        "print(str(d) + \" \" + str(r) + \" \" + str(s))\n",
        "\n"
      ]
    },
    {
      "cell_type": "markdown",
      "metadata": {
        "id": "nTWYrwZCIoOu"
      },
      "source": [
        "## 8.2 Ciclo while - Centinela - se desconoce la cantidad de veces que se va a ejecutar el ciclo antes de que inicie."
      ]
    },
    {
      "cell_type": "code",
      "execution_count": null,
      "metadata": {
        "colab": {
          "base_uri": "https://localhost:8080/"
        },
        "id": "8jSbYMFBF1La",
        "outputId": "f3e88e12-3269-4c91-a395-0ebb694e68ed"
      },
      "outputs": [
        {
          "name": "stdout",
          "output_type": "stream",
          "text": [
            "Teclea el precio :120\n",
            "Teclea el precio :400\n",
            "Teclea el precio :120\n",
            "Teclea el precio :15\n",
            "Teclea el precio :60\n",
            "Teclea el precio :10\n",
            "Teclea el precio :5\n",
            "Teclea el precio :55\n",
            "Teclea el precio :30\n",
            "Teclea el precio :100\n",
            "Teclea el precio :300\n",
            "1215\n",
            "11\n"
          ]
        }
      ],
      "source": [
        "def main():\n",
        "    num = int(input(\"Teclea el precio :\"))\n",
        "    suma = num\n",
        "    contador = 1\n",
        "    while suma < 1000:\n",
        "        num = int(input(\"Teclea el precio :\"))\n",
        "        suma = suma + num\n",
        "        contador = contador + 1\n",
        "    print(suma)\n",
        "    print(contador)\n",
        "main()"
      ]
    },
    {
      "cell_type": "code",
      "execution_count": null,
      "metadata": {
        "colab": {
          "base_uri": "https://localhost:8080/"
        },
        "id": "CludR1vwJRZZ",
        "outputId": "3434cf34-e3b7-409e-f4af-0b143879d729"
      },
      "outputs": [
        {
          "name": "stdout",
          "output_type": "stream",
          "text": [
            "5\n",
            "5\n",
            "4\n",
            "4\n",
            "33\n",
            "33\n",
            "33\n",
            "33\n",
            "0\n",
            "El usuario ingreso 4 valores\n"
          ]
        }
      ],
      "source": [
        "4# 1. Inicializar la vcc antes del ciclo\n",
        "valor_centinela = int(input())\n",
        "if valor_centinela == 0:\n",
        "    print('no se procesaron valores')\n",
        "else:\n",
        "    contador = 0\n",
        "    # 2. Incluir la vcc en la condición del ciclo\n",
        "    while valor_centinela != 0:\n",
        "        # instrucciones del ciclo\n",
        "        print(valor_centinela)\n",
        "\n",
        "        # 3. Actualizar la vcc dentro del ciclo\n",
        "        # leer el siguiente valor que ingresará el usuario\n",
        "        valor_centinela = int(input())\n",
        "\n",
        "        # contar la cantidad de valores que ingresa el usuario\n",
        "        contador = contador + 1\n",
        "    print(\"El usuario ingreso\", contador, \"valores\")"
      ]
    },
    {
      "cell_type": "code",
      "execution_count": null,
      "metadata": {
        "colab": {
          "base_uri": "https://localhost:8080/"
        },
        "id": "5LKhD6fcJGlQ",
        "outputId": "4a08a4de-fd4c-4449-8ed1-45e209f1a604"
      },
      "outputs": [
        {
          "name": "stdout",
          "output_type": "stream",
          "text": [
            "Teclea el número del mes:80\n",
            "Error!, Teclea el número del mes:0\n",
            "Error!, Teclea el número del mes:8\n",
            "Correcto!!\n"
          ]
        },
        {
          "data": {
            "text/plain": [
              "8"
            ]
          },
          "execution_count": 5,
          "metadata": {},
          "output_type": "execute_result"
        }
      ],
      "source": [
        "def validar_mes():\n",
        "    # 1. Inicializar la vcc antes del ciclo\n",
        "    mes = int(input(\"Teclea el número del mes:\"))\n",
        "\n",
        "    # 2. Incluir la vcc en la condición\n",
        "    while mes <  1 or mes > 12 :\n",
        "        # 3. Actualizar la vcc dentro del ciclo\n",
        "        mes = int(input(\"Error!, Teclea el número del mes:\"))\n",
        "\n",
        "    print(\"Correcto!!\")\n",
        "    return mes\n",
        "\n",
        "validar_mes()"
      ]
    },
    {
      "cell_type": "markdown",
      "metadata": {
        "id": "4D_Pp3KwOf2p"
      },
      "source": [
        "## 8.3 Ciclo for - veremos primero la función range( )\n",
        "# función range( )\n",
        "## 4 opciones de la función range( )\n",
        "1. ## **range(max_value)**: Al ejecutarse range(max_value), genera una secuencia inmutable de n números enteros consecutivos que empieza en 0 y acaba en max_value - 1.\n",
        "\n",
        "2. ## **range(min_value, max_value)**: Al ejecutarse range(min_value, max_value) genera una secuencia inmutable de enteros consecutivos que empieza en min_value y acaba en max_value - 1.\n",
        "\n",
        "3. ## **range(start_value, end_value, step_positivo)**: Al ejecutarse range(start_value, end_value, step_positivo) genera una secuencia inmutable de enteros que empieza en m y acaba justo antes de superar o igualar a n, incrementa los valores de la secuencia con p. Nota - start_value < end_value\n",
        "\n",
        "4. ## **range(start_value, end_value, step_negativo)**: Al ejecutarse range(start_value, end_value, step_negativo) genera una secuencia inmutable de enteros que empieza en m y acaba justo antes de superar o igualar a n, decrementa los valores de la secuencia con p. Nota - start_value > end_value\n",
        "\n",
        "\n",
        "\n"
      ]
    },
    {
      "cell_type": "code",
      "execution_count": null,
      "metadata": {
        "colab": {
          "base_uri": "https://localhost:8080/"
        },
        "id": "YREEMXHk2FX7",
        "outputId": "6d830fc2-3bbd-4164-97b9-385db66eaab9"
      },
      "outputs": [
        {
          "name": "stdout",
          "output_type": "stream",
          "text": [
            "[0, 1, 2, 3, 4, 5, 6, 7, 8, 9, 10, 11, 12, 13, 14, 15, 16, 17, 18, 19, 20, 21, 22, 23, 24, 25, 26, 27, 28, 29, 30, 31, 32, 33, 34, 35, 36, 37, 38, 39, 40, 41, 42, 43, 44, 45, 46, 47, 48, 49, 50, 51, 52, 53, 54, 55, 56, 57, 58, 59, 60, 61, 62, 63, 64, 65, 66, 67, 68, 69, 70, 71, 72, 73, 74, 75, 76, 77, 78, 79, 80, 81, 82, 83, 84, 85, 86, 87, 88, 89, 90, 91, 92, 93, 94, 95, 96, 97, 98, 99]\n",
            "[0, 1, 2, 3]\n",
            "[0, 1, 2, 3, 4, 5, 6]\n",
            "[0, 1, 2, 3, 4, 5, 6, 7, 8, 9]\n"
          ]
        }
      ],
      "source": [
        "# range(max_value)\n",
        "print(list(range(100)))\n",
        "print(list(range(4)))\n",
        "print(list(range(7)))\n",
        "print(list(range(10)))\n"
      ]
    },
    {
      "cell_type": "code",
      "execution_count": null,
      "metadata": {
        "colab": {
          "base_uri": "https://localhost:8080/"
        },
        "id": "o5lY1ucSO-bg",
        "outputId": "1b4ca6db-12f4-4b41-d8ff-b8ab457956a9"
      },
      "outputs": [
        {
          "name": "stdout",
          "output_type": "stream",
          "text": [
            "[0, 1, 2, 3, 4, 5, 6, 7, 8, 9]\n",
            "[0, 1, 2, 3, 4]\n"
          ]
        }
      ],
      "source": [
        "# Ejemplos con función range(max_value)\n",
        "\n",
        "\"\"\"\n",
        "1. ## range(max_value): Al ejecutarse range(n),\n",
        "genera una secuencia inmutable de n números enteros\n",
        "consecutivos que empieza en 0 y acaba en max_value - 1.\n",
        "\"\"\"\n",
        "print(list(range(10))) #[0, 1, 2, 3, 4, 5, 6, 7, 8, 9]\n",
        "print(list(range(5))) #[0, 1, 2, 3, 4]\n"
      ]
    },
    {
      "cell_type": "code",
      "execution_count": null,
      "metadata": {
        "colab": {
          "background_save": true
        },
        "id": "qy5-J-szQBDi",
        "outputId": "0d383d68-e05a-477d-e3fd-bdc787c91155"
      },
      "outputs": [
        {
          "name": "stdout",
          "output_type": "stream",
          "text": [
            "[1, 2, 3, 4, 5, 6, 7, 8, 9, 10]\n",
            "[3, 4, 5, 6]\n",
            "[]\n",
            "[1, 2, 3, 4, 5, 6]\n"
          ]
        }
      ],
      "source": [
        "# Ejemplos con función range(min_value, max_value)\n",
        "\"\"\"\n",
        "2. ## range(min_value, max_value): Al ejecutarse range(m, n)\n",
        "genera una secuencia inmutable de enteros consecutivos que\n",
        "empieza en min_value y acaba en max_value - 1.\n",
        "\"\"\"\n",
        "print(list(range(1, 11)))\n",
        "print(list(range(3, 7))) #[3,4,5,6]\n",
        "print(list(range(100, 7))) # []\n",
        "print(list(range(1, 7)))\n"
      ]
    },
    {
      "cell_type": "code",
      "execution_count": null,
      "metadata": {
        "id": "BsUc-hzlQA44"
      },
      "outputs": [],
      "source": [
        "# Ejemplos con range(start_value, end_value, step_positivo)\n",
        "\"\"\"\n",
        "3. ## range(start_value, end_value, step_positivo):\n",
        "Al ejecutarse range(m, n, p) genera una secuencia inmutable\n",
        "de enteros que empieza en m y acaba justo antes de superar o\n",
        "igualar a n, incrementa los valores de la secuencia con p.\n",
        "Nota - start_value < end_value\n",
        "\"\"\"\n",
        "\n",
        "print(list(range(1, 101, 2)))\n",
        "print(list(range(1, 101, 3)))\n",
        "print(list(range(1, 101, 5)))"
      ]
    },
    {
      "cell_type": "code",
      "execution_count": null,
      "metadata": {
        "id": "RYPxDPC1QAqC"
      },
      "outputs": [],
      "source": [
        "# Ejemplos con range(start_value, end_value, step_negativo)\n",
        "\"\"\"\n",
        "4. ## range(start_value, end_value, step_negativo):\n",
        "Al ejecutarse range(m, n, p) genera una secuencia inmutable de\n",
        "enteros que empieza en m y acaba justo antes de superar o igualar\n",
        " a n, decrementa los valores de la secuencia con p.\n",
        " Nota - start_value > end_value - CICLO DECRECIENTE -\n",
        " \"\"\"\n",
        "print(list(range(100, 0, -2)))\n",
        "print(list(range(100, 0, -5)))\n",
        "print(list(range(3, -5, -1)))\n"
      ]
    },
    {
      "cell_type": "markdown",
      "metadata": {
        "id": "sd1ct27eQhGU"
      },
      "source": [
        "## 8.4 Ciclo for\n",
        "\n",
        "## - Ciclo for creciente con range( )\n",
        "\n",
        "```python\n",
        "# se ejecuta 5 veces desde  0..4\n",
        "for vcc in range(5):\n",
        "    print(vcc, end = ',')\n",
        "\n",
        "```\n",
        "\n",
        "## - Ciclo for decreciente con range( )\n",
        "```python\n",
        "# se ejecuta 5 veces 5 hasta 1\n",
        "for vcc in range(5, 0, -1):\n",
        "    print(vcc, end = ',')\n",
        "\n",
        "```\n",
        "\n",
        "## - Ciclo for con acumulador\n",
        "```python\n",
        "acum = ''\n",
        "for vcc in range(1, 5):\n",
        "    acum = acum + str(vcc) + ','\n",
        "\n",
        "print(acum[0:-1])\n",
        "\n",
        "```\n",
        "\n",
        "\n",
        "## - Ciclo for con contador\n",
        "```python\n",
        "contador_tacos = 0\n",
        "for vcc in range(1, 6):\n",
        "    contador_tacos += 1\n",
        "\n",
        "print(contador)\n",
        "```"
      ]
    },
    {
      "cell_type": "code",
      "execution_count": null,
      "metadata": {
        "colab": {
          "base_uri": "https://localhost:8080/"
        },
        "id": "aDeqzWBwOeWF",
        "outputId": "259fca20-5c93-4ed1-9e39-01abcd6a33f3"
      },
      "outputs": [
        {
          "name": "stdout",
          "output_type": "stream",
          "text": [
            "1,2,3,4\n"
          ]
        }
      ],
      "source": [
        "# acumulador de string\n",
        "# ciclo for creciente de 1..4\n",
        "acum = ''\n",
        "for vcc in range(1, 5):\n",
        "    acum = acum + str(vcc) + ','\n",
        "\n",
        "# elimina la última , del string\n",
        "print(acum[0:-1])\n"
      ]
    },
    {
      "cell_type": "code",
      "execution_count": null,
      "metadata": {
        "colab": {
          "base_uri": "https://localhost:8080/"
        },
        "id": "It7lfjyKL3Um",
        "outputId": "51815968-4b58-406c-9331-e1f031aa72ec"
      },
      "outputs": [
        {
          "name": "stdout",
          "output_type": "stream",
          "text": [
            "0,1,2,3,4\n"
          ]
        }
      ],
      "source": [
        "# ciclo for creciente de 0..4\n",
        "for vcc in range(0, 5):\n",
        "    if vcc == 4:\n",
        "        print(vcc)\n",
        "    else:\n",
        "        print(vcc, end = ',')\n"
      ]
    },
    {
      "cell_type": "code",
      "execution_count": null,
      "metadata": {
        "colab": {
          "base_uri": "https://localhost:8080/"
        },
        "id": "TUYfh-LBL5WF",
        "outputId": "2475488a-275d-428d-ae8a-2bcfa896ce86"
      },
      "outputs": [
        {
          "name": "stdout",
          "output_type": "stream",
          "text": [
            "0,1,2,3,4,"
          ]
        }
      ],
      "source": [
        "# ciclo for creciente de 0..4\n",
        "for vcc in range(5):\n",
        "    print(vcc, end = ',')\n"
      ]
    },
    {
      "cell_type": "code",
      "execution_count": null,
      "metadata": {
        "colab": {
          "base_uri": "https://localhost:8080/"
        },
        "id": "PauzYkKCL5fy",
        "outputId": "54f026f3-f9c7-4cd4-a76f-aeb34c860b47"
      },
      "outputs": [
        {
          "name": "stdout",
          "output_type": "stream",
          "text": [
            "1,3,5,"
          ]
        }
      ],
      "source": [
        "# ciclo for creciente con incremento de 2 en 2\n",
        "# 1, 3, 5  (7 no se incluye)\n",
        "for vcc in range(1, 7, 2):\n",
        "    print(vcc, end = ',')\n"
      ]
    },
    {
      "cell_type": "code",
      "execution_count": null,
      "metadata": {
        "colab": {
          "base_uri": "https://localhost:8080/"
        },
        "id": "BcZu93eeL5j1",
        "outputId": "3558c03e-4877-46b5-f739-a220833362aa"
      },
      "outputs": [
        {
          "name": "stdout",
          "output_type": "stream",
          "text": [
            "1,4,7,"
          ]
        }
      ],
      "source": [
        "# ciclo for creciente con incremento de 3 en 3\n",
        "# 1, 4, 7 (10 no se incluye)\n",
        "for vcc in range(1, 10, 3):\n",
        "    print(vcc, end = ',')\n"
      ]
    },
    {
      "cell_type": "code",
      "execution_count": null,
      "metadata": {
        "colab": {
          "base_uri": "https://localhost:8080/"
        },
        "id": "6mCUt7xJL5nH",
        "outputId": "1f026d1d-3ea8-4b9c-d5d9-d249486556ae"
      },
      "outputs": [
        {
          "name": "stdout",
          "output_type": "stream",
          "text": [
            "5,4,3,2,"
          ]
        }
      ],
      "source": [
        "# ciclo for decreciente  con decremento de 1\n",
        "# 5, 4, 3, 2 (1 no se incluye)\n",
        "for vcc in range(5, 1, -1):\n",
        "    print(vcc, end = ',')\n"
      ]
    },
    {
      "cell_type": "code",
      "execution_count": null,
      "metadata": {
        "colab": {
          "base_uri": "https://localhost:8080/"
        },
        "id": "rev-XjZ9L5qI",
        "outputId": "46b69df1-7a5f-4a67-91e5-418863f64e97"
      },
      "outputs": [
        {
          "name": "stdout",
          "output_type": "stream",
          "text": [
            "10,8,6,4,2,"
          ]
        }
      ],
      "source": [
        "# ciclo for decreciente con decremento de 2 en 2\n",
        "for vcc in range(10, 1, -2):\n",
        "    print(vcc, end = ',')"
      ]
    },
    {
      "cell_type": "markdown",
      "source": [
        "# **Ejercicio archivos**\n",
        "\n",
        "![](https://www.lucaedu.com/wp-content/uploads/2022/02/alumnos-motivados.jpg)\n",
        "\n",
        "Diseña y codifica un programa en c++ que lea el archivo Datos.txt,  \n",
        "\n",
        "y genere un reporte con los promedios de  cada columna,  \n",
        "- el programa debe mostrar 4 promedios del grupo:  \n",
        "- Parcial1 =\n",
        "- Parcial2 =\n",
        "- Parcial3 =\n",
        "- Final =\n",
        "\n",
        "Debes entregar un link a tu colab y compartirlo a mi cuenta: roque@tec.mx"
      ],
      "metadata": {
        "id": "1jQNmnaIgybo"
      }
    },
    {
      "cell_type": "code",
      "source": [
        "%%writefile Datos.txt\n",
        "Frida,100,100,90,99.98\n",
        "Olga,100,100,100,100.0\n",
        "Lola,100,80,90,88.88\n",
        "Pepe,80,90,100,99.95\n",
        "Tomas,70,80,80,88.88\n",
        "Ricardo,100,100,100,100.0\n"
      ],
      "metadata": {
        "colab": {
          "base_uri": "https://localhost:8080/"
        },
        "id": "61DIweogg_N8",
        "outputId": "f0ac6fef-e8de-4239-eb33-4a21e4541ea8"
      },
      "execution_count": null,
      "outputs": [
        {
          "output_type": "stream",
          "name": "stdout",
          "text": [
            "Overwriting Datos.txt\n"
          ]
        }
      ]
    }
  ],
  "metadata": {
    "colab": {
      "provenance": [],
      "authorship_tag": "ABX9TyNtFW2kdLEvZ7cBEO6Zl9Eb",
      "include_colab_link": true
    },
    "kernelspec": {
      "display_name": "Python 3",
      "name": "python3"
    },
    "language_info": {
      "name": "python"
    }
  },
  "nbformat": 4,
  "nbformat_minor": 0
}